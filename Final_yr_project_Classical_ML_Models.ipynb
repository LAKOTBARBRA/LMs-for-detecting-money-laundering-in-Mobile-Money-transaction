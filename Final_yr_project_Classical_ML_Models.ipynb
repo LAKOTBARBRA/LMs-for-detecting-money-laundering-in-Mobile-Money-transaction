{
  "cells": [
    {
      "cell_type": "code",
      "execution_count": null,
      "metadata": {
        "id": "PMZ5lkPo394L"
      },
      "outputs": [],
      "source": []
    },
    {
      "cell_type": "code",
      "execution_count": null,
      "metadata": {
        "colab": {
          "base_uri": "https://localhost:8080/"
        },
        "id": "Y4W9rRgL4Dz1",
        "outputId": "95d39c9e-785d-4a29-d941-ff6db10c9f6f"
      },
      "outputs": [
        {
          "output_type": "stream",
          "name": "stdout",
          "text": [
            "Drive already mounted at /content/drive; to attempt to forcibly remount, call drive.mount(\"/content/drive\", force_remount=True).\n"
          ]
        }
      ],
      "source": [
        "from google.colab import drive\n",
        "drive.mount('/content/drive')"
      ]
    },
    {
      "cell_type": "code",
      "execution_count": null,
      "metadata": {
        "id": "qoh4Hejo4RoZ"
      },
      "outputs": [],
      "source": [
        "import pandas as pd\n",
        "import numpy as np\n",
        "import matplotlib.pyplot as plt\n",
        "import seaborn as sns"
      ]
    },
    {
      "cell_type": "code",
      "execution_count": null,
      "metadata": {
        "id": "2ArbS01x4RrL"
      },
      "outputs": [],
      "source": [
        "path = ('/content/drive/MyDrive/MobileMoneyDLMs/synthetic_mobile_money_transaction_dataset (2).csv')\n",
        "df = pd.read_csv(path)"
      ]
    },
    {
      "cell_type": "markdown",
      "metadata": {
        "id": "kOexYpFjV_7F"
      },
      "source": [
        "# **Exploratory Data Analysis**\n",
        "\n",
        "---\n",
        "\n"
      ]
    },
    {
      "cell_type": "code",
      "execution_count": null,
      "metadata": {
        "colab": {
          "base_uri": "https://localhost:8080/"
        },
        "id": "fhRRWQ8t5303",
        "outputId": "f6f6a362-3b7f-4511-9dd9-356eebce98e6"
      },
      "outputs": [
        {
          "output_type": "execute_result",
          "data": {
            "text/plain": [
              "(4225958, 10)"
            ]
          },
          "metadata": {},
          "execution_count": 4
        }
      ],
      "source": [
        "#checking the shape of the dataset\n",
        "df.shape"
      ]
    },
    {
      "cell_type": "markdown",
      "metadata": {
        "id": "FgOMMceNZgMC"
      },
      "source": [
        "* The dataset has 4225958 records or entries with 10 features"
      ]
    },
    {
      "cell_type": "code",
      "execution_count": null,
      "metadata": {
        "id": "NoX_1zpTX29j"
      },
      "outputs": [],
      "source": []
    },
    {
      "cell_type": "code",
      "source": [
        "import pandas as pd\n",
        "\n",
        "# Load your data\n",
        "df = pd.read_csv(\"your_dataset.csv\")  # Replace with your actual file path\n",
        "\n",
        "# Define the serialization function\n",
        "def formal_serialize(row):\n",
        "    label = \"fraudulent\" if row[\"isFraud\"] == 1 else \"legitimate\"\n",
        "    return (\n",
        "        f\"At simulation step {int(row['step'])}, a transfer amounting to ${row['amount']:.2f} \"\n",
        "        f\"resulted in the initiator's balance decreasing from ${row['oldBalInitiator']:.2f} to ${row['newBalInitiator']:.2f}, \"\n",
        "        f\"while the recipient's balance increased from ${row['oldBalRecipient']:.2f} to ${row['newBalRecipient']:.2f}. \"\n",
        "        f\"This transaction has been classified as {label}.\"\n",
        "    )\n",
        "\n",
        "# Apply the serialization\n",
        "df[\"serialized\"] = df.apply(formal_serialize, axis=1)\n",
        "\n",
        "# (Optional) Save to file\n",
        "df[[\"serialized\", \"isFraud\"]].to_csv(\"serialized_transactions.csv\", index=False)\n"
      ],
      "metadata": {
        "id": "EVoM3DaaEHVQ"
      },
      "execution_count": null,
      "outputs": []
    },
    {
      "cell_type": "code",
      "source": [],
      "metadata": {
        "id": "G_SdaevREHlp"
      },
      "execution_count": null,
      "outputs": []
    },
    {
      "cell_type": "code",
      "execution_count": null,
      "metadata": {
        "colab": {
          "base_uri": "https://localhost:8080/",
          "height": 206
        },
        "id": "WrkcpLYL4Rt7",
        "outputId": "d1db5b63-72f0-4413-e64d-b3890a4657f3"
      },
      "outputs": [
        {
          "output_type": "execute_result",
          "data": {
            "text/plain": [
              "   step transactionType  amount         initiator  oldBalInitiator  \\\n",
              "0     0         PAYMENT  579.16  4018807983755588            29.32   \n",
              "1     0        TRANSFER   39.03  4610593854752035            39.03   \n",
              "2     0        TRANSFER   21.78  4840578447365454            21.78   \n",
              "3     0         PAYMENT  570.22  4958066799829630             5.29   \n",
              "4     0         PAYMENT  574.80  4149196095918843            82.63   \n",
              "\n",
              "   newBalInitiator         recipient  oldBalRecipient  newBalRecipient  \\\n",
              "0            29.32        30-0000345             0.00             0.00   \n",
              "1             0.00  4944921135715488            55.94            94.98   \n",
              "2             0.00  4305579785620656            58.09            79.88   \n",
              "3             5.29        00-0000388             0.00             0.00   \n",
              "4            82.63        80-0005320             0.00             0.00   \n",
              "\n",
              "   isFraud  \n",
              "0        0  \n",
              "1        1  \n",
              "2        1  \n",
              "3        0  \n",
              "4        0  "
            ],
            "text/html": [
              "\n",
              "  <div id=\"df-27204511-7e9d-4d36-afbd-9b795bbd842c\" class=\"colab-df-container\">\n",
              "    <div>\n",
              "<style scoped>\n",
              "    .dataframe tbody tr th:only-of-type {\n",
              "        vertical-align: middle;\n",
              "    }\n",
              "\n",
              "    .dataframe tbody tr th {\n",
              "        vertical-align: top;\n",
              "    }\n",
              "\n",
              "    .dataframe thead th {\n",
              "        text-align: right;\n",
              "    }\n",
              "</style>\n",
              "<table border=\"1\" class=\"dataframe\">\n",
              "  <thead>\n",
              "    <tr style=\"text-align: right;\">\n",
              "      <th></th>\n",
              "      <th>step</th>\n",
              "      <th>transactionType</th>\n",
              "      <th>amount</th>\n",
              "      <th>initiator</th>\n",
              "      <th>oldBalInitiator</th>\n",
              "      <th>newBalInitiator</th>\n",
              "      <th>recipient</th>\n",
              "      <th>oldBalRecipient</th>\n",
              "      <th>newBalRecipient</th>\n",
              "      <th>isFraud</th>\n",
              "    </tr>\n",
              "  </thead>\n",
              "  <tbody>\n",
              "    <tr>\n",
              "      <th>0</th>\n",
              "      <td>0</td>\n",
              "      <td>PAYMENT</td>\n",
              "      <td>579.16</td>\n",
              "      <td>4018807983755588</td>\n",
              "      <td>29.32</td>\n",
              "      <td>29.32</td>\n",
              "      <td>30-0000345</td>\n",
              "      <td>0.00</td>\n",
              "      <td>0.00</td>\n",
              "      <td>0</td>\n",
              "    </tr>\n",
              "    <tr>\n",
              "      <th>1</th>\n",
              "      <td>0</td>\n",
              "      <td>TRANSFER</td>\n",
              "      <td>39.03</td>\n",
              "      <td>4610593854752035</td>\n",
              "      <td>39.03</td>\n",
              "      <td>0.00</td>\n",
              "      <td>4944921135715488</td>\n",
              "      <td>55.94</td>\n",
              "      <td>94.98</td>\n",
              "      <td>1</td>\n",
              "    </tr>\n",
              "    <tr>\n",
              "      <th>2</th>\n",
              "      <td>0</td>\n",
              "      <td>TRANSFER</td>\n",
              "      <td>21.78</td>\n",
              "      <td>4840578447365454</td>\n",
              "      <td>21.78</td>\n",
              "      <td>0.00</td>\n",
              "      <td>4305579785620656</td>\n",
              "      <td>58.09</td>\n",
              "      <td>79.88</td>\n",
              "      <td>1</td>\n",
              "    </tr>\n",
              "    <tr>\n",
              "      <th>3</th>\n",
              "      <td>0</td>\n",
              "      <td>PAYMENT</td>\n",
              "      <td>570.22</td>\n",
              "      <td>4958066799829630</td>\n",
              "      <td>5.29</td>\n",
              "      <td>5.29</td>\n",
              "      <td>00-0000388</td>\n",
              "      <td>0.00</td>\n",
              "      <td>0.00</td>\n",
              "      <td>0</td>\n",
              "    </tr>\n",
              "    <tr>\n",
              "      <th>4</th>\n",
              "      <td>0</td>\n",
              "      <td>PAYMENT</td>\n",
              "      <td>574.80</td>\n",
              "      <td>4149196095918843</td>\n",
              "      <td>82.63</td>\n",
              "      <td>82.63</td>\n",
              "      <td>80-0005320</td>\n",
              "      <td>0.00</td>\n",
              "      <td>0.00</td>\n",
              "      <td>0</td>\n",
              "    </tr>\n",
              "  </tbody>\n",
              "</table>\n",
              "</div>\n",
              "    <div class=\"colab-df-buttons\">\n",
              "\n",
              "  <div class=\"colab-df-container\">\n",
              "    <button class=\"colab-df-convert\" onclick=\"convertToInteractive('df-27204511-7e9d-4d36-afbd-9b795bbd842c')\"\n",
              "            title=\"Convert this dataframe to an interactive table.\"\n",
              "            style=\"display:none;\">\n",
              "\n",
              "  <svg xmlns=\"http://www.w3.org/2000/svg\" height=\"24px\" viewBox=\"0 -960 960 960\">\n",
              "    <path d=\"M120-120v-720h720v720H120Zm60-500h600v-160H180v160Zm220 220h160v-160H400v160Zm0 220h160v-160H400v160ZM180-400h160v-160H180v160Zm440 0h160v-160H620v160ZM180-180h160v-160H180v160Zm440 0h160v-160H620v160Z\"/>\n",
              "  </svg>\n",
              "    </button>\n",
              "\n",
              "  <style>\n",
              "    .colab-df-container {\n",
              "      display:flex;\n",
              "      gap: 12px;\n",
              "    }\n",
              "\n",
              "    .colab-df-convert {\n",
              "      background-color: #E8F0FE;\n",
              "      border: none;\n",
              "      border-radius: 50%;\n",
              "      cursor: pointer;\n",
              "      display: none;\n",
              "      fill: #1967D2;\n",
              "      height: 32px;\n",
              "      padding: 0 0 0 0;\n",
              "      width: 32px;\n",
              "    }\n",
              "\n",
              "    .colab-df-convert:hover {\n",
              "      background-color: #E2EBFA;\n",
              "      box-shadow: 0px 1px 2px rgba(60, 64, 67, 0.3), 0px 1px 3px 1px rgba(60, 64, 67, 0.15);\n",
              "      fill: #174EA6;\n",
              "    }\n",
              "\n",
              "    .colab-df-buttons div {\n",
              "      margin-bottom: 4px;\n",
              "    }\n",
              "\n",
              "    [theme=dark] .colab-df-convert {\n",
              "      background-color: #3B4455;\n",
              "      fill: #D2E3FC;\n",
              "    }\n",
              "\n",
              "    [theme=dark] .colab-df-convert:hover {\n",
              "      background-color: #434B5C;\n",
              "      box-shadow: 0px 1px 3px 1px rgba(0, 0, 0, 0.15);\n",
              "      filter: drop-shadow(0px 1px 2px rgba(0, 0, 0, 0.3));\n",
              "      fill: #FFFFFF;\n",
              "    }\n",
              "  </style>\n",
              "\n",
              "    <script>\n",
              "      const buttonEl =\n",
              "        document.querySelector('#df-27204511-7e9d-4d36-afbd-9b795bbd842c button.colab-df-convert');\n",
              "      buttonEl.style.display =\n",
              "        google.colab.kernel.accessAllowed ? 'block' : 'none';\n",
              "\n",
              "      async function convertToInteractive(key) {\n",
              "        const element = document.querySelector('#df-27204511-7e9d-4d36-afbd-9b795bbd842c');\n",
              "        const dataTable =\n",
              "          await google.colab.kernel.invokeFunction('convertToInteractive',\n",
              "                                                    [key], {});\n",
              "        if (!dataTable) return;\n",
              "\n",
              "        const docLinkHtml = 'Like what you see? Visit the ' +\n",
              "          '<a target=\"_blank\" href=https://colab.research.google.com/notebooks/data_table.ipynb>data table notebook</a>'\n",
              "          + ' to learn more about interactive tables.';\n",
              "        element.innerHTML = '';\n",
              "        dataTable['output_type'] = 'display_data';\n",
              "        await google.colab.output.renderOutput(dataTable, element);\n",
              "        const docLink = document.createElement('div');\n",
              "        docLink.innerHTML = docLinkHtml;\n",
              "        element.appendChild(docLink);\n",
              "      }\n",
              "    </script>\n",
              "  </div>\n",
              "\n",
              "\n",
              "<div id=\"df-14013461-c20f-4834-ae72-accd5a7e2507\">\n",
              "  <button class=\"colab-df-quickchart\" onclick=\"quickchart('df-14013461-c20f-4834-ae72-accd5a7e2507')\"\n",
              "            title=\"Suggest charts\"\n",
              "            style=\"display:none;\">\n",
              "\n",
              "<svg xmlns=\"http://www.w3.org/2000/svg\" height=\"24px\"viewBox=\"0 0 24 24\"\n",
              "     width=\"24px\">\n",
              "    <g>\n",
              "        <path d=\"M19 3H5c-1.1 0-2 .9-2 2v14c0 1.1.9 2 2 2h14c1.1 0 2-.9 2-2V5c0-1.1-.9-2-2-2zM9 17H7v-7h2v7zm4 0h-2V7h2v10zm4 0h-2v-4h2v4z\"/>\n",
              "    </g>\n",
              "</svg>\n",
              "  </button>\n",
              "\n",
              "<style>\n",
              "  .colab-df-quickchart {\n",
              "      --bg-color: #E8F0FE;\n",
              "      --fill-color: #1967D2;\n",
              "      --hover-bg-color: #E2EBFA;\n",
              "      --hover-fill-color: #174EA6;\n",
              "      --disabled-fill-color: #AAA;\n",
              "      --disabled-bg-color: #DDD;\n",
              "  }\n",
              "\n",
              "  [theme=dark] .colab-df-quickchart {\n",
              "      --bg-color: #3B4455;\n",
              "      --fill-color: #D2E3FC;\n",
              "      --hover-bg-color: #434B5C;\n",
              "      --hover-fill-color: #FFFFFF;\n",
              "      --disabled-bg-color: #3B4455;\n",
              "      --disabled-fill-color: #666;\n",
              "  }\n",
              "\n",
              "  .colab-df-quickchart {\n",
              "    background-color: var(--bg-color);\n",
              "    border: none;\n",
              "    border-radius: 50%;\n",
              "    cursor: pointer;\n",
              "    display: none;\n",
              "    fill: var(--fill-color);\n",
              "    height: 32px;\n",
              "    padding: 0;\n",
              "    width: 32px;\n",
              "  }\n",
              "\n",
              "  .colab-df-quickchart:hover {\n",
              "    background-color: var(--hover-bg-color);\n",
              "    box-shadow: 0 1px 2px rgba(60, 64, 67, 0.3), 0 1px 3px 1px rgba(60, 64, 67, 0.15);\n",
              "    fill: var(--button-hover-fill-color);\n",
              "  }\n",
              "\n",
              "  .colab-df-quickchart-complete:disabled,\n",
              "  .colab-df-quickchart-complete:disabled:hover {\n",
              "    background-color: var(--disabled-bg-color);\n",
              "    fill: var(--disabled-fill-color);\n",
              "    box-shadow: none;\n",
              "  }\n",
              "\n",
              "  .colab-df-spinner {\n",
              "    border: 2px solid var(--fill-color);\n",
              "    border-color: transparent;\n",
              "    border-bottom-color: var(--fill-color);\n",
              "    animation:\n",
              "      spin 1s steps(1) infinite;\n",
              "  }\n",
              "\n",
              "  @keyframes spin {\n",
              "    0% {\n",
              "      border-color: transparent;\n",
              "      border-bottom-color: var(--fill-color);\n",
              "      border-left-color: var(--fill-color);\n",
              "    }\n",
              "    20% {\n",
              "      border-color: transparent;\n",
              "      border-left-color: var(--fill-color);\n",
              "      border-top-color: var(--fill-color);\n",
              "    }\n",
              "    30% {\n",
              "      border-color: transparent;\n",
              "      border-left-color: var(--fill-color);\n",
              "      border-top-color: var(--fill-color);\n",
              "      border-right-color: var(--fill-color);\n",
              "    }\n",
              "    40% {\n",
              "      border-color: transparent;\n",
              "      border-right-color: var(--fill-color);\n",
              "      border-top-color: var(--fill-color);\n",
              "    }\n",
              "    60% {\n",
              "      border-color: transparent;\n",
              "      border-right-color: var(--fill-color);\n",
              "    }\n",
              "    80% {\n",
              "      border-color: transparent;\n",
              "      border-right-color: var(--fill-color);\n",
              "      border-bottom-color: var(--fill-color);\n",
              "    }\n",
              "    90% {\n",
              "      border-color: transparent;\n",
              "      border-bottom-color: var(--fill-color);\n",
              "    }\n",
              "  }\n",
              "</style>\n",
              "\n",
              "  <script>\n",
              "    async function quickchart(key) {\n",
              "      const quickchartButtonEl =\n",
              "        document.querySelector('#' + key + ' button');\n",
              "      quickchartButtonEl.disabled = true;  // To prevent multiple clicks.\n",
              "      quickchartButtonEl.classList.add('colab-df-spinner');\n",
              "      try {\n",
              "        const charts = await google.colab.kernel.invokeFunction(\n",
              "            'suggestCharts', [key], {});\n",
              "      } catch (error) {\n",
              "        console.error('Error during call to suggestCharts:', error);\n",
              "      }\n",
              "      quickchartButtonEl.classList.remove('colab-df-spinner');\n",
              "      quickchartButtonEl.classList.add('colab-df-quickchart-complete');\n",
              "    }\n",
              "    (() => {\n",
              "      let quickchartButtonEl =\n",
              "        document.querySelector('#df-14013461-c20f-4834-ae72-accd5a7e2507 button');\n",
              "      quickchartButtonEl.style.display =\n",
              "        google.colab.kernel.accessAllowed ? 'block' : 'none';\n",
              "    })();\n",
              "  </script>\n",
              "</div>\n",
              "\n",
              "    </div>\n",
              "  </div>\n"
            ],
            "application/vnd.google.colaboratory.intrinsic+json": {
              "type": "dataframe",
              "variable_name": "df"
            }
          },
          "metadata": {},
          "execution_count": 5
        }
      ],
      "source": [
        "#printing the first five rows of the dataset\n",
        "df.head()"
      ]
    },
    {
      "cell_type": "code",
      "source": [
        "import pandas as pd\n",
        "\n",
        "# Count and percentage of fraudulent vs. legitimate transactions\n",
        "counts = df['isFraud'].value_counts()\n",
        "percentages = df['isFraud'].value_counts(normalize=True) * 100\n",
        "\n",
        "# Rename index values\n",
        "counts.index = ['Fraud', 'Legitimate']\n",
        "percentages.index = ['Fraud', 'Legitimate']\n",
        "\n",
        "# Create a DataFrame for a tabular display\n",
        "result = pd.DataFrame({'Transaction Count': counts, 'Percentage (%)': percentages})\n",
        "\n",
        "# Display result\n",
        "print(result)\n"
      ],
      "metadata": {
        "colab": {
          "base_uri": "https://localhost:8080/"
        },
        "id": "s-ZtZdV2L8OY",
        "outputId": "0756ecc7-6b0a-4e5b-f8e2-b194728e6739"
      },
      "execution_count": null,
      "outputs": [
        {
          "output_type": "stream",
          "name": "stdout",
          "text": [
            "            Transaction Count  Percentage (%)\n",
            "Fraud                 2233118       52.842882\n",
            "Legitimate            1992840       47.157118\n"
          ]
        }
      ]
    },
    {
      "cell_type": "markdown",
      "metadata": {
        "id": "VFVq6-YXZy9Z"
      },
      "source": [
        "* About 52.8% are non-legitimate transactions and 47.2% are legitimate."
      ]
    },
    {
      "cell_type": "code",
      "source": [
        "import matplotlib.pyplot as plt\n",
        "import seaborn as sns\n",
        "import pandas as pd\n",
        "\n",
        "# Count and percentage of fraudulent vs. legitimate transactions\n",
        "counts = df['isFraud'].value_counts()\n",
        "percentages = df['isFraud'].value_counts(normalize=True) * 100\n",
        "\n",
        "# Rename index values\n",
        "counts.index = ['Fraud', 'Legitimate']\n",
        "percentages.index = ['Fraud', 'Legitimate']\n",
        "\n",
        "# Create DataFrame\n",
        "result = pd.DataFrame({'Transaction Count': counts, 'Percentage (%)': percentages})\n",
        "\n",
        "# Define labels and colors\n",
        "labels = result.index\n",
        "colors = ['red', 'skyblue']\n",
        "\n",
        "# Create figure with subplots\n",
        "fig, axes = plt.subplots(1, 2, figsize=(12, 5))\n",
        "\n",
        "# Bar Chart - Transaction Count\n",
        "sns.barplot(x=labels, y=result['Transaction Count'], ax=axes[0], palette=colors)\n",
        "axes[0].set_ylabel('Number of Transactions')\n",
        "axes[0].set_xlabel('Transaction Type')\n",
        "axes[0].set_title('Fraud vs. Legitimate Transactions (Count)')\n",
        "axes[0].bar_label(axes[0].containers[0], fmt='%d')  # Add count labels\n",
        "\n",
        "# Pie Chart - Percentage of Transactions\n",
        "axes[1].pie(result['Transaction Count'], labels=labels, autopct='%1.1f%%', colors=colors, startangle=140, explode=[0.1, 0])\n",
        "axes[1].set_title('Fraud vs. Legitimate Transactions (Percentage)')\n",
        "\n",
        "# Show plots\n",
        "plt.tight_layout()\n",
        "plt.show()\n"
      ],
      "metadata": {
        "colab": {
          "base_uri": "https://localhost:8080/",
          "height": 594
        },
        "id": "XWqKQpuqMR-V",
        "outputId": "87795129-32b7-452c-aee8-1aa41a6c2775"
      },
      "execution_count": null,
      "outputs": [
        {
          "output_type": "stream",
          "name": "stderr",
          "text": [
            "<ipython-input-7-0350309ecfe3>:24: FutureWarning: \n",
            "\n",
            "Passing `palette` without assigning `hue` is deprecated and will be removed in v0.14.0. Assign the `x` variable to `hue` and set `legend=False` for the same effect.\n",
            "\n",
            "  sns.barplot(x=labels, y=result['Transaction Count'], ax=axes[0], palette=colors)\n"
          ]
        },
        {
          "output_type": "display_data",
          "data": {
            "text/plain": [
              "<Figure size 1200x500 with 2 Axes>"
            ],
            "image/png": "[encoded data removed]"
          },
          "metadata": {}
        }
      ]
    },
    {
      "cell_type": "code",
      "source": [],
      "metadata": {
        "id": "9yzDdN4MJmc4"
      },
      "execution_count": null,
      "outputs": []
    },
    {
      "cell_type": "code",
      "execution_count": null,
      "metadata": {
        "colab": {
          "base_uri": "https://localhost:8080/"
        },
        "id": "f71Qt8uL4RxM",
        "outputId": "88c28d1d-93e2-4fd0-984a-ba679bb77c50"
      },
      "outputs": [
        {
          "output_type": "stream",
          "name": "stdout",
          "text": [
            "<class 'pandas.core.frame.DataFrame'>\n",
            "RangeIndex: 4225958 entries, 0 to 4225957\n",
            "Data columns (total 10 columns):\n",
            " #   Column           Dtype  \n",
            "---  ------           -----  \n",
            " 0   step             int64  \n",
            " 1   transactionType  object \n",
            " 2   amount           float64\n",
            " 3   initiator        int64  \n",
            " 4   oldBalInitiator  float64\n",
            " 5   newBalInitiator  float64\n",
            " 6   recipient        object \n",
            " 7   oldBalRecipient  float64\n",
            " 8   newBalRecipient  float64\n",
            " 9   isFraud          int64  \n",
            "dtypes: float64(5), int64(3), object(2)\n",
            "memory usage: 322.4+ MB\n"
          ]
        }
      ],
      "source": [
        "#checking data types\n",
        "df.info()"
      ]
    },
    {
      "cell_type": "code",
      "execution_count": null,
      "metadata": {
        "colab": {
          "base_uri": "https://localhost:8080/",
          "height": 300
        },
        "id": "tbz00kRU6inE",
        "outputId": "a0d48251-e680-4a85-9b53-26be64b2be3d"
      },
      "outputs": [
        {
          "output_type": "execute_result",
          "data": {
            "text/plain": [
              "               step        amount     initiator  oldBalInitiator  \\\n",
              "count  4.225958e+06  4.225958e+06  4.225958e+06     4.225958e+06   \n",
              "mean   9.811771e+01  5.302139e+04  4.495008e+15     2.246055e+07   \n",
              "std    5.573710e+01  2.708194e+06  2.912521e+14     6.418504e+07   \n",
              "min    0.000000e+00  0.000000e+00  4.000000e+15    -1.999926e+05   \n",
              "25%    5.000000e+01  9.444000e+01  4.237994e+15     4.681000e+01   \n",
              "50%    9.900000e+01  5.966900e+02  4.491576e+15     3.655435e+03   \n",
              "75%    1.470000e+02  1.708469e+04  4.747260e+15     2.344082e+05   \n",
              "max    1.920000e+02  7.654805e+08  5.000000e+15     6.409231e+08   \n",
              "\n",
              "       newBalInitiator  oldBalRecipient  newBalRecipient       isFraud  \n",
              "count     4.225958e+06     4.225958e+06     4.225958e+06  4.225958e+06  \n",
              "mean      2.246527e+07     1.685005e+06     1.703967e+06  5.284288e-01  \n",
              "std       6.421561e+07     6.795783e+06     6.802160e+06  4.991912e-01  \n",
              "min      -1.999926e+05    -7.477966e+04     0.000000e+00  0.000000e+00  \n",
              "25%       0.000000e+00     3.345156e+04     4.251237e+04  0.000000e+00  \n",
              "50%       0.000000e+00     2.007614e+05     2.042479e+05  1.000000e+00  \n",
              "75%       8.150306e+04     2.002134e+06     2.041814e+06  1.000000e+00  \n",
              "max       6.409231e+08     3.810134e+08     3.813883e+08  1.000000e+00  "
            ],
            "text/html": [
              "\n",
              "  <div id=\"df-b2956bb0-04f9-40cf-a8f6-4196121a557b\" class=\"colab-df-container\">\n",
              "    <div>\n",
              "<style scoped>\n",
              "    .dataframe tbody tr th:only-of-type {\n",
              "        vertical-align: middle;\n",
              "    }\n",
              "\n",
              "    .dataframe tbody tr th {\n",
              "        vertical-align: top;\n",
              "    }\n",
              "\n",
              "    .dataframe thead th {\n",
              "        text-align: right;\n",
              "    }\n",
              "</style>\n",
              "<table border=\"1\" class=\"dataframe\">\n",
              "  <thead>\n",
              "    <tr style=\"text-align: right;\">\n",
              "      <th></th>\n",
              "      <th>step</th>\n",
              "      <th>amount</th>\n",
              "      <th>initiator</th>\n",
              "      <th>oldBalInitiator</th>\n",
              "      <th>newBalInitiator</th>\n",
              "      <th>oldBalRecipient</th>\n",
              "      <th>newBalRecipient</th>\n",
              "      <th>isFraud</th>\n",
              "    </tr>\n",
              "  </thead>\n",
              "  <tbody>\n",
              "    <tr>\n",
              "      <th>count</th>\n",
              "      <td>4.225958e+06</td>\n",
              "      <td>4.225958e+06</td>\n",
              "      <td>4.225958e+06</td>\n",
              "      <td>4.225958e+06</td>\n",
              "      <td>4.225958e+06</td>\n",
              "      <td>4.225958e+06</td>\n",
              "      <td>4.225958e+06</td>\n",
              "      <td>4.225958e+06</td>\n",
              "    </tr>\n",
              "    <tr>\n",
              "      <th>mean</th>\n",
              "      <td>9.811771e+01</td>\n",
              "      <td>5.302139e+04</td>\n",
              "      <td>4.495008e+15</td>\n",
              "      <td>2.246055e+07</td>\n",
              "      <td>2.246527e+07</td>\n",
              "      <td>1.685005e+06</td>\n",
              "      <td>1.703967e+06</td>\n",
              "      <td>5.284288e-01</td>\n",
              "    </tr>\n",
              "    <tr>\n",
              "      <th>std</th>\n",
              "      <td>5.573710e+01</td>\n",
              "      <td>2.708194e+06</td>\n",
              "      <td>2.912521e+14</td>\n",
              "      <td>6.418504e+07</td>\n",
              "      <td>6.421561e+07</td>\n",
              "      <td>6.795783e+06</td>\n",
              "      <td>6.802160e+06</td>\n",
              "      <td>4.991912e-01</td>\n",
              "    </tr>\n",
              "    <tr>\n",
              "      <th>min</th>\n",
              "      <td>0.000000e+00</td>\n",
              "      <td>0.000000e+00</td>\n",
              "      <td>4.000000e+15</td>\n",
              "      <td>-1.999926e+05</td>\n",
              "      <td>-1.999926e+05</td>\n",
              "      <td>-7.477966e+04</td>\n",
              "      <td>0.000000e+00</td>\n",
              "      <td>0.000000e+00</td>\n",
              "    </tr>\n",
              "    <tr>\n",
              "      <th>25%</th>\n",
              "      <td>5.000000e+01</td>\n",
              "      <td>9.444000e+01</td>\n",
              "      <td>4.237994e+15</td>\n",
              "      <td>4.681000e+01</td>\n",
              "      <td>0.000000e+00</td>\n",
              "      <td>3.345156e+04</td>\n",
              "      <td>4.251237e+04</td>\n",
              "      <td>0.000000e+00</td>\n",
              "    </tr>\n",
              "    <tr>\n",
              "      <th>50%</th>\n",
              "      <td>9.900000e+01</td>\n",
              "      <td>5.966900e+02</td>\n",
              "      <td>4.491576e+15</td>\n",
              "      <td>3.655435e+03</td>\n",
              "      <td>0.000000e+00</td>\n",
              "      <td>2.007614e+05</td>\n",
              "      <td>2.042479e+05</td>\n",
              "      <td>1.000000e+00</td>\n",
              "    </tr>\n",
              "    <tr>\n",
              "      <th>75%</th>\n",
              "      <td>1.470000e+02</td>\n",
              "      <td>1.708469e+04</td>\n",
              "      <td>4.747260e+15</td>\n",
              "      <td>2.344082e+05</td>\n",
              "      <td>8.150306e+04</td>\n",
              "      <td>2.002134e+06</td>\n",
              "      <td>2.041814e+06</td>\n",
              "      <td>1.000000e+00</td>\n",
              "    </tr>\n",
              "    <tr>\n",
              "      <th>max</th>\n",
              "      <td>1.920000e+02</td>\n",
              "      <td>7.654805e+08</td>\n",
              "      <td>5.000000e+15</td>\n",
              "      <td>6.409231e+08</td>\n",
              "      <td>6.409231e+08</td>\n",
              "      <td>3.810134e+08</td>\n",
              "      <td>3.813883e+08</td>\n",
              "      <td>1.000000e+00</td>\n",
              "    </tr>\n",
              "  </tbody>\n",
              "</table>\n",
              "</div>\n",
              "    <div class=\"colab-df-buttons\">\n",
              "\n",
              "  <div class=\"colab-df-container\">\n",
              "    <button class=\"colab-df-convert\" onclick=\"convertToInteractive('df-b2956bb0-04f9-40cf-a8f6-4196121a557b')\"\n",
              "            title=\"Convert this dataframe to an interactive table.\"\n",
              "            style=\"display:none;\">\n",
              "\n",
              "  <svg xmlns=\"http://www.w3.org/2000/svg\" height=\"24px\" viewBox=\"0 -960 960 960\">\n",
              "    <path d=\"M120-120v-720h720v720H120Zm60-500h600v-160H180v160Zm220 220h160v-160H400v160Zm0 220h160v-160H400v160ZM180-400h160v-160H180v160Zm440 0h160v-160H620v160ZM180-180h160v-160H180v160Zm440 0h160v-160H620v160Z\"/>\n",
              "  </svg>\n",
              "    </button>\n",
              "\n",
              "  <style>\n",
              "    .colab-df-container {\n",
              "      display:flex;\n",
              "      gap: 12px;\n",
              "    }\n",
              "\n",
              "    .colab-df-convert {\n",
              "      background-color: #E8F0FE;\n",
              "      border: none;\n",
              "      border-radius: 50%;\n",
              "      cursor: pointer;\n",
              "      display: none;\n",
              "      fill: #1967D2;\n",
              "      height: 32px;\n",
              "      padding: 0 0 0 0;\n",
              "      width: 32px;\n",
              "    }\n",
              "\n",
              "    .colab-df-convert:hover {\n",
              "      background-color: #E2EBFA;\n",
              "      box-shadow: 0px 1px 2px rgba(60, 64, 67, 0.3), 0px 1px 3px 1px rgba(60, 64, 67, 0.15);\n",
              "      fill: #174EA6;\n",
              "    }\n",
              "\n",
              "    .colab-df-buttons div {\n",
              "      margin-bottom: 4px;\n",
              "    }\n",
              "\n",
              "    [theme=dark] .colab-df-convert {\n",
              "      background-color: #3B4455;\n",
              "      fill: #D2E3FC;\n",
              "    }\n",
              "\n",
              "    [theme=dark] .colab-df-convert:hover {\n",
              "      background-color: #434B5C;\n",
              "      box-shadow: 0px 1px 3px 1px rgba(0, 0, 0, 0.15);\n",
              "      filter: drop-shadow(0px 1px 2px rgba(0, 0, 0, 0.3));\n",
              "      fill: #FFFFFF;\n",
              "    }\n",
              "  </style>\n",
              "\n",
              "    <script>\n",
              "      const buttonEl =\n",
              "        document.querySelector('#df-b2956bb0-04f9-40cf-a8f6-4196121a557b button.colab-df-convert');\n",
              "      buttonEl.style.display =\n",
              "        google.colab.kernel.accessAllowed ? 'block' : 'none';\n",
              "\n",
              "      async function convertToInteractive(key) {\n",
              "        const element = document.querySelector('#df-b2956bb0-04f9-40cf-a8f6-4196121a557b');\n",
              "        const dataTable =\n",
              "          await google.colab.kernel.invokeFunction('convertToInteractive',\n",
              "                                                    [key], {});\n",
              "        if (!dataTable) return;\n",
              "\n",
              "        const docLinkHtml = 'Like what you see? Visit the ' +\n",
              "          '<a target=\"_blank\" href=https://colab.research.google.com/notebooks/data_table.ipynb>data table notebook</a>'\n",
              "          + ' to learn more about interactive tables.';\n",
              "        element.innerHTML = '';\n",
              "        dataTable['output_type'] = 'display_data';\n",
              "        await google.colab.output.renderOutput(dataTable, element);\n",
              "        const docLink = document.createElement('div');\n",
              "        docLink.innerHTML = docLinkHtml;\n",
              "        element.appendChild(docLink);\n",
              "      }\n",
              "    </script>\n",
              "  </div>\n",
              "\n",
              "\n",
              "<div id=\"df-c84d7ed5-8b89-4f54-b932-eb85a7a73bd6\">\n",
              "  <button class=\"colab-df-quickchart\" onclick=\"quickchart('df-c84d7ed5-8b89-4f54-b932-eb85a7a73bd6')\"\n",
              "            title=\"Suggest charts\"\n",
              "            style=\"display:none;\">\n",
              "\n",
              "<svg xmlns=\"http://www.w3.org/2000/svg\" height=\"24px\"viewBox=\"0 0 24 24\"\n",
              "     width=\"24px\">\n",
              "    <g>\n",
              "        <path d=\"M19 3H5c-1.1 0-2 .9-2 2v14c0 1.1.9 2 2 2h14c1.1 0 2-.9 2-2V5c0-1.1-.9-2-2-2zM9 17H7v-7h2v7zm4 0h-2V7h2v10zm4 0h-2v-4h2v4z\"/>\n",
              "    </g>\n",
              "</svg>\n",
              "  </button>\n",
              "\n",
              "<style>\n",
              "  .colab-df-quickchart {\n",
              "      --bg-color: #E8F0FE;\n",
              "      --fill-color: #1967D2;\n",
              "      --hover-bg-color: #E2EBFA;\n",
              "      --hover-fill-color: #174EA6;\n",
              "      --disabled-fill-color: #AAA;\n",
              "      --disabled-bg-color: #DDD;\n",
              "  }\n",
              "\n",
              "  [theme=dark] .colab-df-quickchart {\n",
              "      --bg-color: #3B4455;\n",
              "      --fill-color: #D2E3FC;\n",
              "      --hover-bg-color: #434B5C;\n",
              "      --hover-fill-color: #FFFFFF;\n",
              "      --disabled-bg-color: #3B4455;\n",
              "      --disabled-fill-color: #666;\n",
              "  }\n",
              "\n",
              "  .colab-df-quickchart {\n",
              "    background-color: var(--bg-color);\n",
              "    border: none;\n",
              "    border-radius: 50%;\n",
              "    cursor: pointer;\n",
              "    display: none;\n",
              "    fill: var(--fill-color);\n",
              "    height: 32px;\n",
              "    padding: 0;\n",
              "    width: 32px;\n",
              "  }\n",
              "\n",
              "  .colab-df-quickchart:hover {\n",
              "    background-color: var(--hover-bg-color);\n",
              "    box-shadow: 0 1px 2px rgba(60, 64, 67, 0.3), 0 1px 3px 1px rgba(60, 64, 67, 0.15);\n",
              "    fill: var(--button-hover-fill-color);\n",
              "  }\n",
              "\n",
              "  .colab-df-quickchart-complete:disabled,\n",
              "  .colab-df-quickchart-complete:disabled:hover {\n",
              "    background-color: var(--disabled-bg-color);\n",
              "    fill: var(--disabled-fill-color);\n",
              "    box-shadow: none;\n",
              "  }\n",
              "\n",
              "  .colab-df-spinner {\n",
              "    border: 2px solid var(--fill-color);\n",
              "    border-color: transparent;\n",
              "    border-bottom-color: var(--fill-color);\n",
              "    animation:\n",
              "      spin 1s steps(1) infinite;\n",
              "  }\n",
              "\n",
              "  @keyframes spin {\n",
              "    0% {\n",
              "      border-color: transparent;\n",
              "      border-bottom-color: var(--fill-color);\n",
              "      border-left-color: var(--fill-color);\n",
              "    }\n",
              "    20% {\n",
              "      border-color: transparent;\n",
              "      border-left-color: var(--fill-color);\n",
              "      border-top-color: var(--fill-color);\n",
              "    }\n",
              "    30% {\n",
              "      border-color: transparent;\n",
              "      border-left-color: var(--fill-color);\n",
              "      border-top-color: var(--fill-color);\n",
              "      border-right-color: var(--fill-color);\n",
              "    }\n",
              "    40% {\n",
              "      border-color: transparent;\n",
              "      border-right-color: var(--fill-color);\n",
              "      border-top-color: var(--fill-color);\n",
              "    }\n",
              "    60% {\n",
              "      border-color: transparent;\n",
              "      border-right-color: var(--fill-color);\n",
              "    }\n",
              "    80% {\n",
              "      border-color: transparent;\n",
              "      border-right-color: var(--fill-color);\n",
              "      border-bottom-color: var(--fill-color);\n",
              "    }\n",
              "    90% {\n",
              "      border-color: transparent;\n",
              "      border-bottom-color: var(--fill-color);\n",
              "    }\n",
              "  }\n",
              "</style>\n",
              "\n",
              "  <script>\n",
              "    async function quickchart(key) {\n",
              "      const quickchartButtonEl =\n",
              "        document.querySelector('#' + key + ' button');\n",
              "      quickchartButtonEl.disabled = true;  // To prevent multiple clicks.\n",
              "      quickchartButtonEl.classList.add('colab-df-spinner');\n",
              "      try {\n",
              "        const charts = await google.colab.kernel.invokeFunction(\n",
              "            'suggestCharts', [key], {});\n",
              "      } catch (error) {\n",
              "        console.error('Error during call to suggestCharts:', error);\n",
              "      }\n",
              "      quickchartButtonEl.classList.remove('colab-df-spinner');\n",
              "      quickchartButtonEl.classList.add('colab-df-quickchart-complete');\n",
              "    }\n",
              "    (() => {\n",
              "      let quickchartButtonEl =\n",
              "        document.querySelector('#df-c84d7ed5-8b89-4f54-b932-eb85a7a73bd6 button');\n",
              "      quickchartButtonEl.style.display =\n",
              "        google.colab.kernel.accessAllowed ? 'block' : 'none';\n",
              "    })();\n",
              "  </script>\n",
              "</div>\n",
              "\n",
              "    </div>\n",
              "  </div>\n"
            ],
            "application/vnd.google.colaboratory.intrinsic+json": {
              "type": "dataframe",
              "summary": "{\n  \"name\": \"df\",\n  \"rows\": 8,\n  \"fields\": [\n    {\n      \"column\": \"step\",\n      \"properties\": {\n        \"dtype\": \"number\",\n        \"std\": 1494069.3620198413,\n        \"min\": 0.0,\n        \"max\": 4225958.0,\n        \"num_unique_values\": 8,\n        \"samples\": [\n          98.11771366397868,\n          99.0,\n          4225958.0\n        ],\n        \"semantic_type\": \"\",\n        \"description\": \"\"\n      }\n    },\n    {\n      \"column\": \"amount\",\n      \"properties\": {\n        \"dtype\": \"number\",\n        \"std\": 270289244.36272717,\n        \"min\": 0.0,\n        \"max\": 765480543.65,\n        \"num_unique_values\": 8,\n        \"samples\": [\n          53021.392248285476,\n          596.69,\n          4225958.0\n        ],\n        \"semantic_type\": \"\",\n        \"description\": \"\"\n      }\n    },\n    {\n      \"column\": \"initiator\",\n      \"properties\": {\n        \"dtype\": \"number\",\n        \"std\": 2037215903001809.0,\n        \"min\": 4225958.0,\n        \"max\": 4999999898019813.0,\n        \"num_unique_values\": 8,\n        \"samples\": [\n          4495007735180122.5,\n          4491575595768776.5,\n          4225958.0\n        ],\n        \"semantic_type\": \"\",\n        \"description\": \"\"\n      }\n    },\n    {\n      \"column\": \"oldBalInitiator\",\n      \"properties\": {\n        \"dtype\": \"number\",\n        \"std\": 223119803.21204168,\n        \"min\": -199992.6,\n        \"max\": 640923060.6,\n        \"num_unique_values\": 8,\n        \"samples\": [\n          22460554.331276298,\n          3655.435,\n          4225958.0\n        ],\n        \"semantic_type\": \"\",\n        \"description\": \"\"\n      }\n    },\n    {\n      \"column\": \"newBalInitiator\",\n      \"properties\": {\n        \"dtype\": \"number\",\n        \"std\": 223128217.48568675,\n        \"min\": -199992.6,\n        \"max\": 640923060.6,\n        \"num_unique_values\": 7,\n        \"samples\": [\n          4225958.0,\n          22465267.76153476,\n          81503.06\n        ],\n        \"semantic_type\": \"\",\n        \"description\": \"\"\n      }\n    },\n    {\n      \"column\": \"oldBalRecipient\",\n      \"properties\": {\n        \"dtype\": \"number\",\n        \"std\": 133978605.77490063,\n        \"min\": -74779.66,\n        \"max\": 381013417.82,\n        \"num_unique_values\": 8,\n        \"samples\": [\n          1685005.1216116378,\n          200761.4,\n          4225958.0\n        ],\n        \"semantic_type\": \"\",\n        \"description\": \"\"\n      }\n    },\n    {\n      \"column\": \"newBalRecipient\",\n      \"properties\": {\n        \"dtype\": \"number\",\n        \"std\": 134103255.69556324,\n        \"min\": 0.0,\n        \"max\": 381388316.07,\n        \"num_unique_values\": 8,\n        \"samples\": [\n          1703966.8161607322,\n          204247.91,\n          4225958.0\n        ],\n        \"semantic_type\": \"\",\n        \"description\": \"\"\n      }\n    },\n    {\n      \"column\": \"isFraud\",\n      \"properties\": {\n        \"dtype\": \"number\",\n        \"std\": 1494101.575979297,\n        \"min\": 0.0,\n        \"max\": 4225958.0,\n        \"num_unique_values\": 5,\n        \"samples\": [\n          0.5284288201633807,\n          1.0,\n          0.4991912070087809\n        ],\n        \"semantic_type\": \"\",\n        \"description\": \"\"\n      }\n    }\n  ]\n}"
            }
          },
          "metadata": {},
          "execution_count": 44
        }
      ],
      "source": [
        "#summary statistics of the dataset\n",
        "df.describe()"
      ]
    },
    {
      "cell_type": "code",
      "execution_count": null,
      "metadata": {
        "colab": {
          "base_uri": "https://localhost:8080/",
          "height": 397
        },
        "id": "_w6wkru3XxsT",
        "outputId": "b68b45c9-af51-46c2-9dde-02d8a4beaef7"
      },
      "outputs": [
        {
          "output_type": "execute_result",
          "data": {
            "text/plain": [
              "step               0\n",
              "transactionType    0\n",
              "amount             0\n",
              "initiator          0\n",
              "oldBalInitiator    0\n",
              "newBalInitiator    0\n",
              "recipient          0\n",
              "oldBalRecipient    0\n",
              "newBalRecipient    0\n",
              "isFraud            0\n",
              "dtype: int64"
            ],
            "text/html": [
              "<div>\n",
              "<style scoped>\n",
              "    .dataframe tbody tr th:only-of-type {\n",
              "        vertical-align: middle;\n",
              "    }\n",
              "\n",
              "    .dataframe tbody tr th {\n",
              "        vertical-align: top;\n",
              "    }\n",
              "\n",
              "    .dataframe thead th {\n",
              "        text-align: right;\n",
              "    }\n",
              "</style>\n",
              "<table border=\"1\" class=\"dataframe\">\n",
              "  <thead>\n",
              "    <tr style=\"text-align: right;\">\n",
              "      <th></th>\n",
              "      <th>0</th>\n",
              "    </tr>\n",
              "  </thead>\n",
              "  <tbody>\n",
              "    <tr>\n",
              "      <th>step</th>\n",
              "      <td>0</td>\n",
              "    </tr>\n",
              "    <tr>\n",
              "      <th>transactionType</th>\n",
              "      <td>0</td>\n",
              "    </tr>\n",
              "    <tr>\n",
              "      <th>amount</th>\n",
              "      <td>0</td>\n",
              "    </tr>\n",
              "    <tr>\n",
              "      <th>initiator</th>\n",
              "      <td>0</td>\n",
              "    </tr>\n",
              "    <tr>\n",
              "      <th>oldBalInitiator</th>\n",
              "      <td>0</td>\n",
              "    </tr>\n",
              "    <tr>\n",
              "      <th>newBalInitiator</th>\n",
              "      <td>0</td>\n",
              "    </tr>\n",
              "    <tr>\n",
              "      <th>recipient</th>\n",
              "      <td>0</td>\n",
              "    </tr>\n",
              "    <tr>\n",
              "      <th>oldBalRecipient</th>\n",
              "      <td>0</td>\n",
              "    </tr>\n",
              "    <tr>\n",
              "      <th>newBalRecipient</th>\n",
              "      <td>0</td>\n",
              "    </tr>\n",
              "    <tr>\n",
              "      <th>isFraud</th>\n",
              "      <td>0</td>\n",
              "    </tr>\n",
              "  </tbody>\n",
              "</table>\n",
              "</div><br><label><b>dtype:</b> int64</label>"
            ]
          },
          "metadata": {},
          "execution_count": 45
        }
      ],
      "source": [
        "#check for null values\n",
        "df.isnull().sum()"
      ]
    },
    {
      "cell_type": "markdown",
      "metadata": {
        "id": "GGy5ySmTab2z"
      },
      "source": [
        "* There are no missing values in the dataset"
      ]
    },
    {
      "cell_type": "markdown",
      "metadata": {
        "id": "PdDFZrI2tviT"
      },
      "source": [
        "# **Distribution of transaction types in the dataset**"
      ]
    },
    {
      "cell_type": "code",
      "execution_count": null,
      "metadata": {
        "colab": {
          "base_uri": "https://localhost:8080/"
        },
        "id": "Va_u5oY-e-JR",
        "outputId": "bb6f1a0b-d06f-4c6b-d4d5-92f1376d62a6"
      },
      "outputs": [
        {
          "output_type": "stream",
          "name": "stdout",
          "text": [
            "  Transaction Type    Count  Percentage\n",
            "0         TRANSFER  2510947       59.42\n",
            "1          PAYMENT  1677798       39.70\n",
            "2       WITHDRAWAL    27064        0.64\n",
            "3          DEPOSIT     8824        0.21\n",
            "4            DEBIT     1325        0.03\n"
          ]
        }
      ],
      "source": [
        "import pandas as pd\n",
        "\n",
        "# Calculate proportions\n",
        "transactionType = df['transactionType'].value_counts()\n",
        "transaction = transactionType.index\n",
        "count = transactionType.values\n",
        "percentages = (count / count.sum()) * 100  # Calculate percentages\n",
        "\n",
        "# Create a DataFrame\n",
        "table = pd.DataFrame({\n",
        "    'Transaction Type': transaction,\n",
        "    'Count': count,\n",
        "    'Percentage': percentages.round(2)  # Round percentages to 2 decimal places\n",
        "})\n",
        "\n",
        "# Display the table\n",
        "print(table)\n"
      ]
    },
    {
      "cell_type": "markdown",
      "metadata": {
        "id": "YGl-tjTUxqg8"
      },
      "source": [
        "* Transfer is dominating with over 59% transactions, which means most people\n",
        "prefer transer of money from one person to another person or from one account to another account over direct cash withdrawal which is at 0.64%.\n",
        "\n",
        "* Payment has over 39.70% which represents bill payment, consumer to business or business to business payment.\n",
        "\n",
        "* The low proportion of withdrawal and deposit in the dataset would could also mean most people prefer their money to flow within the mobile money system than removing and depositing."
      ]
    },
    {
      "cell_type": "code",
      "execution_count": null,
      "metadata": {
        "colab": {
          "base_uri": "https://localhost:8080/",
          "height": 646
        },
        "id": "WcIvmdGpXxwb",
        "outputId": "4e96b945-7eab-434f-b8ff-8e4b6db13d62"
      },
      "outputs": [
        {
          "output_type": "display_data",
          "data": {
            "text/plain": [
              "<Figure size 1000x600 with 1 Axes>"
            ],
            "image/png": "[encoded data removed]"
          },
          "metadata": {}
        }
      ],
      "source": [
        "\n",
        "#plotting number of transactions per type\n",
        "f, ax = plt.subplots(1,1, figsize=(8,8))\n",
        "# plotting the number of different types of values present in type column\n",
        "df.transactionType.value_counts().plot(kind='bar',\n",
        "        title=\"Type of Transaction\", ax=ax, figsize=(10,6))\n",
        "plt.show()"
      ]
    },
    {
      "cell_type": "code",
      "execution_count": null,
      "metadata": {
        "colab": {
          "base_uri": "https://localhost:8080/",
          "height": 653
        },
        "id": "_7M7MORGXx03",
        "outputId": "b4552da6-8185-4bb8-8a14-4dc35207a1bf"
      },
      "outputs": [
        {
          "output_type": "display_data",
          "data": {
            "text/plain": [
              "<Figure size 800x800 with 1 Axes>"
            ],
            "image/png": "[encoded data removed]"
          },
          "metadata": {}
        }
      ],
      "source": [
        "#Proportion of type of Transactions\n",
        "transactionType = df['transactionType'].value_counts()\n",
        "transaction = transactionType.index\n",
        "count = transactionType.values\n",
        "\n",
        "# drawing piechart\n",
        "plt.figure(figsize=(8,8))\n",
        "plt.pie(count, labels=transaction, autopct='%1.0f%%')\n",
        "plt.legend(loc='upper left')\n",
        "plt.show()"
      ]
    },
    {
      "cell_type": "markdown",
      "metadata": {
        "id": "9ZhPtnW1r_13"
      },
      "source": [
        "# **Fraud Transactions across Type of Transaction.**"
      ]
    },
    {
      "cell_type": "code",
      "execution_count": null,
      "metadata": {
        "colab": {
          "base_uri": "https://localhost:8080/"
        },
        "id": "LgXV2PNMmEcM",
        "outputId": "499b338a-26d6-40ac-b5ec-e71ed554a8b2"
      },
      "outputs": [
        {
          "output_type": "stream",
          "name": "stdout",
          "text": [
            "  Transaction Type  Is Fraud  Number of Transactions\n",
            "0            DEBIT         0                    1325\n",
            "1          DEPOSIT         0                    8824\n",
            "2          PAYMENT         0                 1677798\n",
            "3         TRANSFER         0                  277829\n",
            "4         TRANSFER         1                 2233118\n",
            "5       WITHDRAWAL         0                   27064\n"
          ]
        }
      ],
      "source": [
        "import pandas as pd\n",
        "\n",
        "# Grouping data based on transaction type and isFraud\n",
        "grouped_data = df.groupby(['transactionType', 'isFraud']).size().reset_index(name='Number of Transactions')\n",
        "\n",
        "# Adding proper column names\n",
        "grouped_data.columns = ['Transaction Type', 'Is Fraud', 'Number of Transactions']\n",
        "\n",
        "# Displaying the table\n",
        "print(grouped_data)\n"
      ]
    },
    {
      "cell_type": "code",
      "source": [
        "import pandas as pd\n",
        "\n",
        "# Grouping data based on transaction type and isFraud\n",
        "grouped_data = df.groupby(['transactionType', 'isFraud']).size().reset_index(name='Number of Transactions')\n",
        "\n",
        "# Replacing 0 with 'Legitimate' and 1 with 'Suspicious'\n",
        "grouped_data['isFraud'] = grouped_data['isFraud'].replace({0: 'Legitimate', 1: 'Fraud'})\n",
        "\n",
        "# Renaming columns\n",
        "grouped_data.columns = ['Transaction Type', 'Is Fraud', 'Number of Transactions']\n",
        "\n",
        "# Displaying the table\n",
        "grouped_data\n"
      ],
      "metadata": {
        "colab": {
          "base_uri": "https://localhost:8080/",
          "height": 237
        },
        "id": "u__Y1gx1LqIj",
        "outputId": "47c17d23-0dfc-498a-c11c-5495a4101e8f"
      },
      "execution_count": null,
      "outputs": [
        {
          "output_type": "execute_result",
          "data": {
            "text/plain": [
              "  Transaction Type    Is Fraud  Number of Transactions\n",
              "0            DEBIT  Legitimate                    1325\n",
              "1          DEPOSIT  Legitimate                    8824\n",
              "2          PAYMENT  Legitimate                 1677798\n",
              "3         TRANSFER  Legitimate                  277829\n",
              "4         TRANSFER       Fraud                 2233118\n",
              "5       WITHDRAWAL  Legitimate                   27064"
            ],
            "text/html": [
              "\n",
              "  <div id=\"df-1f11f668-1170-441c-8cc8-4f8337a9e4fe\" class=\"colab-df-container\">\n",
              "    <div>\n",
              "<style scoped>\n",
              "    .dataframe tbody tr th:only-of-type {\n",
              "        vertical-align: middle;\n",
              "    }\n",
              "\n",
              "    .dataframe tbody tr th {\n",
              "        vertical-align: top;\n",
              "    }\n",
              "\n",
              "    .dataframe thead th {\n",
              "        text-align: right;\n",
              "    }\n",
              "</style>\n",
              "<table border=\"1\" class=\"dataframe\">\n",
              "  <thead>\n",
              "    <tr style=\"text-align: right;\">\n",
              "      <th></th>\n",
              "      <th>Transaction Type</th>\n",
              "      <th>Is Fraud</th>\n",
              "      <th>Number of Transactions</th>\n",
              "    </tr>\n",
              "  </thead>\n",
              "  <tbody>\n",
              "    <tr>\n",
              "      <th>0</th>\n",
              "      <td>DEBIT</td>\n",
              "      <td>Legitimate</td>\n",
              "      <td>1325</td>\n",
              "    </tr>\n",
              "    <tr>\n",
              "      <th>1</th>\n",
              "      <td>DEPOSIT</td>\n",
              "      <td>Legitimate</td>\n",
              "      <td>8824</td>\n",
              "    </tr>\n",
              "    <tr>\n",
              "      <th>2</th>\n",
              "      <td>PAYMENT</td>\n",
              "      <td>Legitimate</td>\n",
              "      <td>1677798</td>\n",
              "    </tr>\n",
              "    <tr>\n",
              "      <th>3</th>\n",
              "      <td>TRANSFER</td>\n",
              "      <td>Legitimate</td>\n",
              "      <td>277829</td>\n",
              "    </tr>\n",
              "    <tr>\n",
              "      <th>4</th>\n",
              "      <td>TRANSFER</td>\n",
              "      <td>Fraud</td>\n",
              "      <td>2233118</td>\n",
              "    </tr>\n",
              "    <tr>\n",
              "      <th>5</th>\n",
              "      <td>WITHDRAWAL</td>\n",
              "      <td>Legitimate</td>\n",
              "      <td>27064</td>\n",
              "    </tr>\n",
              "  </tbody>\n",
              "</table>\n",
              "</div>\n",
              "    <div class=\"colab-df-buttons\">\n",
              "\n",
              "  <div class=\"colab-df-container\">\n",
              "    <button class=\"colab-df-convert\" onclick=\"convertToInteractive('df-1f11f668-1170-441c-8cc8-4f8337a9e4fe')\"\n",
              "            title=\"Convert this dataframe to an interactive table.\"\n",
              "            style=\"display:none;\">\n",
              "\n",
              "  <svg xmlns=\"http://www.w3.org/2000/svg\" height=\"24px\" viewBox=\"0 -960 960 960\">\n",
              "    <path d=\"M120-120v-720h720v720H120Zm60-500h600v-160H180v160Zm220 220h160v-160H400v160Zm0 220h160v-160H400v160ZM180-400h160v-160H180v160Zm440 0h160v-160H620v160ZM180-180h160v-160H180v160Zm440 0h160v-160H620v160Z\"/>\n",
              "  </svg>\n",
              "    </button>\n",
              "\n",
              "  <style>\n",
              "    .colab-df-container {\n",
              "      display:flex;\n",
              "      gap: 12px;\n",
              "    }\n",
              "\n",
              "    .colab-df-convert {\n",
              "      background-color: #E8F0FE;\n",
              "      border: none;\n",
              "      border-radius: 50%;\n",
              "      cursor: pointer;\n",
              "      display: none;\n",
              "      fill: #1967D2;\n",
              "      height: 32px;\n",
              "      padding: 0 0 0 0;\n",
              "      width: 32px;\n",
              "    }\n",
              "\n",
              "    .colab-df-convert:hover {\n",
              "      background-color: #E2EBFA;\n",
              "      box-shadow: 0px 1px 2px rgba(60, 64, 67, 0.3), 0px 1px 3px 1px rgba(60, 64, 67, 0.15);\n",
              "      fill: #174EA6;\n",
              "    }\n",
              "\n",
              "    .colab-df-buttons div {\n",
              "      margin-bottom: 4px;\n",
              "    }\n",
              "\n",
              "    [theme=dark] .colab-df-convert {\n",
              "      background-color: #3B4455;\n",
              "      fill: #D2E3FC;\n",
              "    }\n",
              "\n",
              "    [theme=dark] .colab-df-convert:hover {\n",
              "      background-color: #434B5C;\n",
              "      box-shadow: 0px 1px 3px 1px rgba(0, 0, 0, 0.15);\n",
              "      filter: drop-shadow(0px 1px 2px rgba(0, 0, 0, 0.3));\n",
              "      fill: #FFFFFF;\n",
              "    }\n",
              "  </style>\n",
              "\n",
              "    <script>\n",
              "      const buttonEl =\n",
              "        document.querySelector('#df-1f11f668-1170-441c-8cc8-4f8337a9e4fe button.colab-df-convert');\n",
              "      buttonEl.style.display =\n",
              "        google.colab.kernel.accessAllowed ? 'block' : 'none';\n",
              "\n",
              "      async function convertToInteractive(key) {\n",
              "        const element = document.querySelector('#df-1f11f668-1170-441c-8cc8-4f8337a9e4fe');\n",
              "        const dataTable =\n",
              "          await google.colab.kernel.invokeFunction('convertToInteractive',\n",
              "                                                    [key], {});\n",
              "        if (!dataTable) return;\n",
              "\n",
              "        const docLinkHtml = 'Like what you see? Visit the ' +\n",
              "          '<a target=\"_blank\" href=https://colab.research.google.com/notebooks/data_table.ipynb>data table notebook</a>'\n",
              "          + ' to learn more about interactive tables.';\n",
              "        element.innerHTML = '';\n",
              "        dataTable['output_type'] = 'display_data';\n",
              "        await google.colab.output.renderOutput(dataTable, element);\n",
              "        const docLink = document.createElement('div');\n",
              "        docLink.innerHTML = docLinkHtml;\n",
              "        element.appendChild(docLink);\n",
              "      }\n",
              "    </script>\n",
              "  </div>\n",
              "\n",
              "\n",
              "<div id=\"df-30f5b0e1-c192-4f09-a1d6-083db39b9f63\">\n",
              "  <button class=\"colab-df-quickchart\" onclick=\"quickchart('df-30f5b0e1-c192-4f09-a1d6-083db39b9f63')\"\n",
              "            title=\"Suggest charts\"\n",
              "            style=\"display:none;\">\n",
              "\n",
              "<svg xmlns=\"http://www.w3.org/2000/svg\" height=\"24px\"viewBox=\"0 0 24 24\"\n",
              "     width=\"24px\">\n",
              "    <g>\n",
              "        <path d=\"M19 3H5c-1.1 0-2 .9-2 2v14c0 1.1.9 2 2 2h14c1.1 0 2-.9 2-2V5c0-1.1-.9-2-2-2zM9 17H7v-7h2v7zm4 0h-2V7h2v10zm4 0h-2v-4h2v4z\"/>\n",
              "    </g>\n",
              "</svg>\n",
              "  </button>\n",
              "\n",
              "<style>\n",
              "  .colab-df-quickchart {\n",
              "      --bg-color: #E8F0FE;\n",
              "      --fill-color: #1967D2;\n",
              "      --hover-bg-color: #E2EBFA;\n",
              "      --hover-fill-color: #174EA6;\n",
              "      --disabled-fill-color: #AAA;\n",
              "      --disabled-bg-color: #DDD;\n",
              "  }\n",
              "\n",
              "  [theme=dark] .colab-df-quickchart {\n",
              "      --bg-color: #3B4455;\n",
              "      --fill-color: #D2E3FC;\n",
              "      --hover-bg-color: #434B5C;\n",
              "      --hover-fill-color: #FFFFFF;\n",
              "      --disabled-bg-color: #3B4455;\n",
              "      --disabled-fill-color: #666;\n",
              "  }\n",
              "\n",
              "  .colab-df-quickchart {\n",
              "    background-color: var(--bg-color);\n",
              "    border: none;\n",
              "    border-radius: 50%;\n",
              "    cursor: pointer;\n",
              "    display: none;\n",
              "    fill: var(--fill-color);\n",
              "    height: 32px;\n",
              "    padding: 0;\n",
              "    width: 32px;\n",
              "  }\n",
              "\n",
              "  .colab-df-quickchart:hover {\n",
              "    background-color: var(--hover-bg-color);\n",
              "    box-shadow: 0 1px 2px rgba(60, 64, 67, 0.3), 0 1px 3px 1px rgba(60, 64, 67, 0.15);\n",
              "    fill: var(--button-hover-fill-color);\n",
              "  }\n",
              "\n",
              "  .colab-df-quickchart-complete:disabled,\n",
              "  .colab-df-quickchart-complete:disabled:hover {\n",
              "    background-color: var(--disabled-bg-color);\n",
              "    fill: var(--disabled-fill-color);\n",
              "    box-shadow: none;\n",
              "  }\n",
              "\n",
              "  .colab-df-spinner {\n",
              "    border: 2px solid var(--fill-color);\n",
              "    border-color: transparent;\n",
              "    border-bottom-color: var(--fill-color);\n",
              "    animation:\n",
              "      spin 1s steps(1) infinite;\n",
              "  }\n",
              "\n",
              "  @keyframes spin {\n",
              "    0% {\n",
              "      border-color: transparent;\n",
              "      border-bottom-color: var(--fill-color);\n",
              "      border-left-color: var(--fill-color);\n",
              "    }\n",
              "    20% {\n",
              "      border-color: transparent;\n",
              "      border-left-color: var(--fill-color);\n",
              "      border-top-color: var(--fill-color);\n",
              "    }\n",
              "    30% {\n",
              "      border-color: transparent;\n",
              "      border-left-color: var(--fill-color);\n",
              "      border-top-color: var(--fill-color);\n",
              "      border-right-color: var(--fill-color);\n",
              "    }\n",
              "    40% {\n",
              "      border-color: transparent;\n",
              "      border-right-color: var(--fill-color);\n",
              "      border-top-color: var(--fill-color);\n",
              "    }\n",
              "    60% {\n",
              "      border-color: transparent;\n",
              "      border-right-color: var(--fill-color);\n",
              "    }\n",
              "    80% {\n",
              "      border-color: transparent;\n",
              "      border-right-color: var(--fill-color);\n",
              "      border-bottom-color: var(--fill-color);\n",
              "    }\n",
              "    90% {\n",
              "      border-color: transparent;\n",
              "      border-bottom-color: var(--fill-color);\n",
              "    }\n",
              "  }\n",
              "</style>\n",
              "\n",
              "  <script>\n",
              "    async function quickchart(key) {\n",
              "      const quickchartButtonEl =\n",
              "        document.querySelector('#' + key + ' button');\n",
              "      quickchartButtonEl.disabled = true;  // To prevent multiple clicks.\n",
              "      quickchartButtonEl.classList.add('colab-df-spinner');\n",
              "      try {\n",
              "        const charts = await google.colab.kernel.invokeFunction(\n",
              "            'suggestCharts', [key], {});\n",
              "      } catch (error) {\n",
              "        console.error('Error during call to suggestCharts:', error);\n",
              "      }\n",
              "      quickchartButtonEl.classList.remove('colab-df-spinner');\n",
              "      quickchartButtonEl.classList.add('colab-df-quickchart-complete');\n",
              "    }\n",
              "    (() => {\n",
              "      let quickchartButtonEl =\n",
              "        document.querySelector('#df-30f5b0e1-c192-4f09-a1d6-083db39b9f63 button');\n",
              "      quickchartButtonEl.style.display =\n",
              "        google.colab.kernel.accessAllowed ? 'block' : 'none';\n",
              "    })();\n",
              "  </script>\n",
              "</div>\n",
              "\n",
              "  <div id=\"id_03b24cad-670b-4b8d-b24f-24e9329ce4d3\">\n",
              "    <style>\n",
              "      .colab-df-generate {\n",
              "        background-color: #E8F0FE;\n",
              "        border: none;\n",
              "        border-radius: 50%;\n",
              "        cursor: pointer;\n",
              "        display: none;\n",
              "        fill: #1967D2;\n",
              "        height: 32px;\n",
              "        padding: 0 0 0 0;\n",
              "        width: 32px;\n",
              "      }\n",
              "\n",
              "      .colab-df-generate:hover {\n",
              "        background-color: #E2EBFA;\n",
              "        box-shadow: 0px 1px 2px rgba(60, 64, 67, 0.3), 0px 1px 3px 1px rgba(60, 64, 67, 0.15);\n",
              "        fill: #174EA6;\n",
              "      }\n",
              "\n",
              "      [theme=dark] .colab-df-generate {\n",
              "        background-color: #3B4455;\n",
              "        fill: #D2E3FC;\n",
              "      }\n",
              "\n",
              "      [theme=dark] .colab-df-generate:hover {\n",
              "        background-color: #434B5C;\n",
              "        box-shadow: 0px 1px 3px 1px rgba(0, 0, 0, 0.15);\n",
              "        filter: drop-shadow(0px 1px 2px rgba(0, 0, 0, 0.3));\n",
              "        fill: #FFFFFF;\n",
              "      }\n",
              "    </style>\n",
              "    <button class=\"colab-df-generate\" onclick=\"generateWithVariable('grouped_data')\"\n",
              "            title=\"Generate code using this dataframe.\"\n",
              "            style=\"display:none;\">\n",
              "\n",
              "  <svg xmlns=\"http://www.w3.org/2000/svg\" height=\"24px\"viewBox=\"0 0 24 24\"\n",
              "       width=\"24px\">\n",
              "    <path d=\"M7,19H8.4L18.45,9,17,7.55,7,17.6ZM5,21V16.75L18.45,3.32a2,2,0,0,1,2.83,0l1.4,1.43a1.91,1.91,0,0,1,.58,1.4,1.91,1.91,0,0,1-.58,1.4L9.25,21ZM18.45,9,17,7.55Zm-12,3A5.31,5.31,0,0,0,4.9,8.1,5.31,5.31,0,0,0,1,6.5,5.31,5.31,0,0,0,4.9,4.9,5.31,5.31,0,0,0,6.5,1,5.31,5.31,0,0,0,8.1,4.9,5.31,5.31,0,0,0,12,6.5,5.46,5.46,0,0,0,6.5,12Z\"/>\n",
              "  </svg>\n",
              "    </button>\n",
              "    <script>\n",
              "      (() => {\n",
              "      const buttonEl =\n",
              "        document.querySelector('#id_03b24cad-670b-4b8d-b24f-24e9329ce4d3 button.colab-df-generate');\n",
              "      buttonEl.style.display =\n",
              "        google.colab.kernel.accessAllowed ? 'block' : 'none';\n",
              "\n",
              "      buttonEl.onclick = () => {\n",
              "        google.colab.notebook.generateWithVariable('grouped_data');\n",
              "      }\n",
              "      })();\n",
              "    </script>\n",
              "  </div>\n",
              "\n",
              "    </div>\n",
              "  </div>\n"
            ],
            "application/vnd.google.colaboratory.intrinsic+json": {
              "type": "dataframe",
              "variable_name": "grouped_data",
              "summary": "{\n  \"name\": \"grouped_data\",\n  \"rows\": 6,\n  \"fields\": [\n    {\n      \"column\": \"Transaction Type\",\n      \"properties\": {\n        \"dtype\": \"string\",\n        \"num_unique_values\": 5,\n        \"samples\": [\n          \"DEPOSIT\",\n          \"WITHDRAWAL\",\n          \"PAYMENT\"\n        ],\n        \"semantic_type\": \"\",\n        \"description\": \"\"\n      }\n    },\n    {\n      \"column\": \"Is Fraud\",\n      \"properties\": {\n        \"dtype\": \"category\",\n        \"num_unique_values\": 2,\n        \"samples\": [\n          \"Fraud\",\n          \"Legitimate\"\n        ],\n        \"semantic_type\": \"\",\n        \"description\": \"\"\n      }\n    },\n    {\n      \"column\": \"Number of Transactions\",\n      \"properties\": {\n        \"dtype\": \"number\",\n        \"std\": 990289,\n        \"min\": 1325,\n        \"max\": 2233118,\n        \"num_unique_values\": 6,\n        \"samples\": [\n          1325,\n          8824\n        ],\n        \"semantic_type\": \"\",\n        \"description\": \"\"\n      }\n    }\n  ]\n}"
            }
          },
          "metadata": {},
          "execution_count": 62
        }
      ]
    },
    {
      "cell_type": "markdown",
      "metadata": {
        "id": "zRXZQP9gom8r"
      },
      "source": [
        "* The analysis shows that 1325 were legitimate debit transactions, 8824 were legitimate deposit transactions, payment has highest legitmate occurrance with 1677798 transactions, 2233118 non-legitimate transfer transactions occurred with 277829 legitimate and all the withdrawal transactions of 27064 were legitimate.\n",
        "\n",
        "* Transfer transaction has the most fraudulent transactions with over 2233118 occurrences. This means to detect money laundering in this dataset, the focus will be on transfer transactions."
      ]
    },
    {
      "cell_type": "code",
      "source": [
        "import pandas as pd\n",
        "import matplotlib.pyplot as plt\n",
        "\n",
        "# Sample Data\n",
        "data = {\n",
        "    'Transaction Type': ['DEBIT', 'DEPOSIT', 'PAYMENT', 'TRANSFER', 'WITHDRAWAL'],\n",
        "    'Legitimate': [1325, 8824, 1677798, 277829, 27064],  # Legitimate transactions\n",
        "    'Suspicious': [0, 0, 0, 2233118, 0]  # Suspicious transactions (only in TRANSFER)\n",
        "}\n",
        "\n",
        "# Create DataFrame\n",
        "df = pd.DataFrame(data)\n",
        "\n",
        "# Compute total transactions for each type\n",
        "df[\"Total\"] = df[\"Legitimate\"] + df[\"Suspicious\"]\n",
        "\n",
        "# Compute percentages\n",
        "df[\"Legitimate %\"] = (df[\"Legitimate\"] / df[\"Total\"]) * 100\n",
        "df[\"Suspicious %\"] = (df[\"Suspicious\"] / df[\"Total\"]) * 100\n",
        "\n",
        "# Plot stacked bar chart\n",
        "fig, ax = plt.subplots(figsize=(10, 6))\n",
        "\n",
        "# Plot Legitimate transactions (Green)\n",
        "ax.bar(df[\"Transaction Type\"], df[\"Legitimate %\"], color='green', label=\"Legitimate\")\n",
        "\n",
        "# Plot Suspicious transactions (Red) on top of Legitimate\n",
        "ax.bar(df[\"Transaction Type\"], df[\"Suspicious %\"], bottom=df[\"Legitimate %\"], color='red', label=\"Suspicious\")\n",
        "\n",
        "# Add percentage labels on bars\n",
        "for i, row in df.iterrows():\n",
        "    ax.text(i, row[\"Legitimate %\"] / 2, f'{row[\"Legitimate %\"]:.1f}%', ha='center', va='center', color='white', weight='bold')\n",
        "    if row[\"Suspicious %\"] > 0:\n",
        "        ax.text(i, row[\"Legitimate %\"] + row[\"Suspicious %\"] / 2, f'{row[\"Suspicious %\"]:.1f}%', ha='center', va='center', color='white', weight='bold')\n",
        "\n",
        "# Labels and title\n",
        "ax.set_xlabel(\"Transaction Type\")\n",
        "ax.set_ylabel(\"Percentage of Transactions\")\n",
        "ax.set_title(\"Proportion of Legitimate and Suspicious Transactions in the transaction types\")\n",
        "ax.legend(title=\"Fraud Status\")\n",
        "ax.set_ylim(0, 110)\n",
        "\n",
        "# Show the plot\n",
        "plt.show()\n"
      ],
      "metadata": {
        "colab": {
          "base_uri": "https://localhost:8080/",
          "height": 564
        },
        "id": "shJYyXxcTgck",
        "outputId": "d0c609ea-707c-43b5-9425-8042e6bb7507"
      },
      "execution_count": null,
      "outputs": [
        {
          "output_type": "display_data",
          "data": {
            "text/plain": [
              "<Figure size 1000x600 with 1 Axes>"
            ],
            "image/png": "[encoded data removed]"
          },
          "metadata": {}
        }
      ]
    },
    {
      "cell_type": "code",
      "execution_count": null,
      "metadata": {
        "colab": {
          "base_uri": "https://localhost:8080/",
          "height": 1000
        },
        "id": "oArw8h2QWnaK",
        "outputId": "a440340d-30cc-446d-ce58-996bce6b9435"
      },
      "outputs": [
        {
          "output_type": "display_data",
          "data": {
            "text/plain": [
              "<Figure size 500x500 with 1 Axes>"
            ],
            "image/png": "[encoded data removed]"
          },
          "metadata": {}
        },
        {
          "output_type": "display_data",
          "data": {
            "text/plain": [
              "<Figure size 500x500 with 1 Axes>"
            ],
            "image/png": "[encoded data removed]"
          },
          "metadata": {}
        },
        {
          "output_type": "display_data",
          "data": {
            "text/plain": [
              "<Figure size 500x500 with 1 Axes>"
            ],
            "image/png": "[encoded data removed]"
          },
          "metadata": {}
        },
        {
          "output_type": "display_data",
          "data": {
            "text/plain": [
              "<Figure size 500x500 with 1 Axes>"
            ],
            "image/png": "[encoded data removed]"
          },
          "metadata": {}
        },
        {
          "output_type": "display_data",
          "data": {
            "text/plain": [
              "<Figure size 500x500 with 1 Axes>"
            ],
            "image/png": "[encoded data removed]"
          },
          "metadata": {}
        }
      ],
      "source": [
        "# Plotting pie charts for each transaction type\n",
        "for transaction_type in grouped_data['Transaction Type'].unique():\n",
        "    subset = grouped_data[grouped_data['Transaction Type'] == transaction_type]\n",
        "\n",
        "    plt.figure(figsize=(5, 5))\n",
        "    plt.pie(subset['Number of Transactions'], labels=subset['Is Fraud'], autopct='%1.1f%%', colors=['skyblue', 'red'])\n",
        "    plt.title(f'Transaction Breakdown for {transaction_type}')\n",
        "    plt.show()\n"
      ]
    },
    {
      "cell_type": "code",
      "execution_count": null,
      "metadata": {
        "id": "o-4_2BPlXNiq",
        "colab": {
          "base_uri": "https://localhost:8080/"
        },
        "outputId": "e57af27c-890f-424a-9b28-93a29685dc28"
      },
      "outputs": [
        {
          "output_type": "execute_result",
          "data": {
            "text/plain": [
              "Index(['Transaction Type', 'Legitimate', 'Suspicious', 'Total', 'Legitimate %',\n",
              "       'Suspicious %'],\n",
              "      dtype='object')"
            ]
          },
          "metadata": {},
          "execution_count": 65
        }
      ],
      "source": [
        "df.columns"
      ]
    },
    {
      "cell_type": "code",
      "source": [
        "import matplotlib.pyplot as plt\n",
        "\n",
        "# Ensure the column names are cleaned\n",
        "df.columns = df.columns.str.strip()\n",
        "\n",
        "# Set figure size\n",
        "plt.figure(figsize=(12, 6))\n",
        "\n",
        "# Grouping data points based on transaction type and fraud status ('Suspicious' is used for fraud status)\n",
        "ax = df.groupby(['Transaction Type', 'Suspicious']).size().plot(kind='bar')\n",
        "\n",
        "# Setting the title and labels\n",
        "ax.set_title(\"Distribution of Fraud Transactions across Type of Transaction\")\n",
        "ax.set_xlabel(\"(Transaction Type, isFraud)\")\n",
        "ax.set_ylabel(\"Number of Transactions\")\n",
        "\n",
        "# Annotating each bar with its value\n",
        "for p in ax.patches:\n",
        "    ax.annotate(str(format(int(p.get_height()), ',d')),\n",
        "                (p.get_x(), p.get_height() * 1.01))\n",
        "\n",
        "plt.show()\n"
      ],
      "metadata": {
        "colab": {
          "base_uri": "https://localhost:8080/",
          "height": 704
        },
        "id": "98bx_mAnWJRk",
        "outputId": "73d8d2bf-b50e-4ac8-ad8f-9ec2edaec1d8"
      },
      "execution_count": null,
      "outputs": [
        {
          "output_type": "display_data",
          "data": {
            "text/plain": [
              "<Figure size 1200x600 with 1 Axes>"
            ],
            "image/png": "[encoded data removed]"
          },
          "metadata": {}
        }
      ]
    },
    {
      "cell_type": "code",
      "source": [
        "# Print out column names to check for any issues\n",
        "print(df.columns)\n"
      ],
      "metadata": {
        "colab": {
          "base_uri": "https://localhost:8080/"
        },
        "id": "qYg6KHC_VkRV",
        "outputId": "bb874632-2fc8-4ffa-ea6b-c45a59f63b6c"
      },
      "execution_count": null,
      "outputs": [
        {
          "output_type": "stream",
          "name": "stdout",
          "text": [
            "Index(['Transaction Type', 'Legitimate', 'Suspicious', 'Total', 'Legitimate %',\n",
            "       'Suspicious %'],\n",
            "      dtype='object')\n"
          ]
        }
      ]
    },
    {
      "cell_type": "code",
      "execution_count": null,
      "metadata": {
        "colab": {
          "base_uri": "https://localhost:8080/"
        },
        "id": "u4c0hcbOgQ-o",
        "outputId": "c47cab61-22d6-49b3-a6d7-17518dcf7dd4"
      },
      "outputs": [
        {
          "output_type": "stream",
          "name": "stdout",
          "text": [
            "<class 'pandas.core.frame.DataFrame'>\n",
            "RangeIndex: 5 entries, 0 to 4\n",
            "Data columns (total 6 columns):\n",
            " #   Column            Non-Null Count  Dtype  \n",
            "---  ------            --------------  -----  \n",
            " 0   Transaction Type  5 non-null      object \n",
            " 1   Legitimate        5 non-null      int64  \n",
            " 2   Suspicious        5 non-null      int64  \n",
            " 3   Total             5 non-null      int64  \n",
            " 4   Legitimate %      5 non-null      float64\n",
            " 5   Suspicious %      5 non-null      float64\n",
            "dtypes: float64(2), int64(3), object(1)\n",
            "memory usage: 372.0+ bytes\n"
          ]
        }
      ],
      "source": [
        "#checking data types\n",
        "df.info()"
      ]
    },
    {
      "cell_type": "markdown",
      "metadata": {
        "id": "Yz-p3dUvs2tA"
      },
      "source": [
        "# **Checking for multiple fraudulent transactions using the same account**"
      ]
    },
    {
      "cell_type": "code",
      "execution_count": null,
      "metadata": {
        "colab": {
          "base_uri": "https://localhost:8080/"
        },
        "id": "7BoZ0A0IXyUc",
        "outputId": "ac915ffb-ec0f-4a4f-f4ed-3884907a93f8"
      },
      "outputs": [
        {
          "output_type": "execute_result",
          "data": {
            "text/plain": [
              "np.False_"
            ]
          },
          "metadata": {},
          "execution_count": 75
        }
      ],
      "source": [
        "#checking whether the recipient account of a fraudulent transfer was used as a sending account for withdrawal\n",
        "fraud = df[df[\"isFraud\"] == 1]\n",
        "valid = df[df[\"isFraud\"] == 0]\n",
        "\n",
        "fraud_transfer = fraud[fraud[\"transactionType\"] == \"TRANSFER\"]\n",
        "fraud_withdrawal = fraud[fraud[\"transactionType\"] == \" WITHDRAWAL\"]\n",
        "\n",
        "fraud_transfer.oldBalRecipient.isin(fraud_withdrawal.oldBalRecipient).any()"
      ]
    },
    {
      "cell_type": "code",
      "source": [
        "# Ensure the column names are stripped of any whitespace\n",
        "df.columns = df.columns.str.strip()\n",
        "\n",
        "# Checking whether the recipient account of a fraudulent transfer was used as a sending account for withdrawal\n",
        "fraud = df[df[\"isFraud\"] == 1]\n",
        "valid = df[df[\"isFraud\"] == 0]\n",
        "\n",
        "fraud_transfer = fraud[fraud[\"transactionType\"] == \"TRANSFER\"]\n",
        "fraud_withdrawal = fraud[fraud[\"transactionType\"] == \"WITHDRAWAL\"]\n",
        "\n",
        "# Checking if the recipient's old balance in fraudulent transfers appears in fraudulent withdrawals\n",
        "fraud_transfer[\"oldBalRecipient\"].isin(fraud_withdrawal[\"oldBalRecipient\"]).any()\n"
      ],
      "metadata": {
        "colab": {
          "base_uri": "https://localhost:8080/"
        },
        "id": "FziMg9-lW047",
        "outputId": "870dbc3f-6a16-47e9-e683-27bdd17a8db4"
      },
      "execution_count": null,
      "outputs": [
        {
          "output_type": "execute_result",
          "data": {
            "text/plain": [
              "np.False_"
            ]
          },
          "metadata": {},
          "execution_count": 78
        }
      ]
    },
    {
      "cell_type": "markdown",
      "metadata": {
        "id": "bj2DRV7fjBJ-"
      },
      "source": [
        "* This shows that no account that was used in fraudulent transfer activities and was used in fraudulent withdrawal transactions.\n",
        "\n",
        "* The money launderers avoid using same account to do multiple fraudulent transactions.\n",
        "\n",
        "* Therefore the dataset may not have a relationship between fraudulent transfer and withdrawals."
      ]
    },
    {
      "cell_type": "code",
      "execution_count": null,
      "metadata": {
        "colab": {
          "base_uri": "https://localhost:8080/",
          "height": 547
        },
        "id": "wsSEgx91BNhz",
        "outputId": "ae6d0690-69e4-4235-c6cc-63ef81bba50a"
      },
      "outputs": [
        {
          "output_type": "error",
          "ename": "KeyError",
          "evalue": "'isFraud'",
          "traceback": [
            "\u001b[0;31m---------------------------------------------------------------------------\u001b[0m",
            "\u001b[0;31mKeyError\u001b[0m                                  Traceback (most recent call last)",
            "\u001b[0;32m/usr/local/lib/python3.11/dist-packages/pandas/core/indexes/base.py\u001b[0m in \u001b[0;36mget_loc\u001b[0;34m(self, key)\u001b[0m\n\u001b[1;32m   3804\u001b[0m         \u001b[0;32mtry\u001b[0m\u001b[0;34m:\u001b[0m\u001b[0;34m\u001b[0m\u001b[0;34m\u001b[0m\u001b[0m\n\u001b[0;32m-> 3805\u001b[0;31m             \u001b[0;32mreturn\u001b[0m \u001b[0mself\u001b[0m\u001b[0;34m.\u001b[0m\u001b[0m_engine\u001b[0m\u001b[0;34m.\u001b[0m\u001b[0mget_loc\u001b[0m\u001b[0;34m(\u001b[0m\u001b[0mcasted_key\u001b[0m\u001b[0;34m)\u001b[0m\u001b[0;34m\u001b[0m\u001b[0;34m\u001b[0m\u001b[0m\n\u001b[0m\u001b[1;32m   3806\u001b[0m         \u001b[0;32mexcept\u001b[0m \u001b[0mKeyError\u001b[0m \u001b[0;32mas\u001b[0m \u001b[0merr\u001b[0m\u001b[0;34m:\u001b[0m\u001b[0;34m\u001b[0m\u001b[0;34m\u001b[0m\u001b[0m\n",
            "\u001b[0;32mindex.pyx\u001b[0m in \u001b[0;36mpandas._libs.index.IndexEngine.get_loc\u001b[0;34m()\u001b[0m\n",
            "\u001b[0;32mindex.pyx\u001b[0m in \u001b[0;36mpandas._libs.index.IndexEngine.get_loc\u001b[0;34m()\u001b[0m\n",
            "\u001b[0;32mpandas/_libs/hashtable_class_helper.pxi\u001b[0m in \u001b[0;36mpandas._libs.hashtable.PyObjectHashTable.get_item\u001b[0;34m()\u001b[0m\n",
            "\u001b[0;32mpandas/_libs/hashtable_class_helper.pxi\u001b[0m in \u001b[0;36mpandas._libs.hashtable.PyObjectHashTable.get_item\u001b[0;34m()\u001b[0m\n",
            "\u001b[0;31mKeyError\u001b[0m: 'isFraud'",
            "\nThe above exception was the direct cause of the following exception:\n",
            "\u001b[0;31mKeyError\u001b[0m                                  Traceback (most recent call last)",
            "\u001b[0;32m<ipython-input-22-3f0b13cd2460>\u001b[0m in \u001b[0;36m<cell line: 0>\u001b[0;34m()\u001b[0m\n\u001b[1;32m      1\u001b[0m \u001b[0;31m#check whether fraud occurs using specific destination account\u001b[0m\u001b[0;34m\u001b[0m\u001b[0;34m\u001b[0m\u001b[0m\n\u001b[0;32m----> 2\u001b[0;31m \u001b[0mdatasetA\u001b[0m\u001b[0;34m=\u001b[0m\u001b[0mdf\u001b[0m\u001b[0;34m[\u001b[0m\u001b[0;34m(\u001b[0m\u001b[0mdf\u001b[0m\u001b[0;34m[\u001b[0m\u001b[0;34m'isFraud'\u001b[0m\u001b[0;34m]\u001b[0m\u001b[0;34m==\u001b[0m\u001b[0;36m1\u001b[0m\u001b[0;34m)\u001b[0m \u001b[0;34m&\u001b[0m \u001b[0;34m(\u001b[0m\u001b[0mdf\u001b[0m\u001b[0;34m[\u001b[0m\u001b[0;34m'transactionType'\u001b[0m\u001b[0;34m]\u001b[0m\u001b[0;34m==\u001b[0m\u001b[0;34m'TRANSFER'\u001b[0m\u001b[0;34m)\u001b[0m\u001b[0;34m]\u001b[0m\u001b[0;34m\u001b[0m\u001b[0;34m\u001b[0m\u001b[0m\n\u001b[0m\u001b[1;32m      3\u001b[0m \u001b[0mdatasetA\u001b[0m\u001b[0;34m[\u001b[0m\u001b[0;34m'oldBalRecipient'\u001b[0m\u001b[0;34m]\u001b[0m\u001b[0;34m.\u001b[0m\u001b[0mvalue_counts\u001b[0m\u001b[0;34m(\u001b[0m\u001b[0;34m)\u001b[0m\u001b[0;34m\u001b[0m\u001b[0;34m\u001b[0m\u001b[0m\n",
            "\u001b[0;32m/usr/local/lib/python3.11/dist-packages/pandas/core/frame.py\u001b[0m in \u001b[0;36m__getitem__\u001b[0;34m(self, key)\u001b[0m\n\u001b[1;32m   4100\u001b[0m             \u001b[0;32mif\u001b[0m \u001b[0mself\u001b[0m\u001b[0;34m.\u001b[0m\u001b[0mcolumns\u001b[0m\u001b[0;34m.\u001b[0m\u001b[0mnlevels\u001b[0m \u001b[0;34m>\u001b[0m \u001b[0;36m1\u001b[0m\u001b[0;34m:\u001b[0m\u001b[0;34m\u001b[0m\u001b[0;34m\u001b[0m\u001b[0m\n\u001b[1;32m   4101\u001b[0m                 \u001b[0;32mreturn\u001b[0m \u001b[0mself\u001b[0m\u001b[0;34m.\u001b[0m\u001b[0m_getitem_multilevel\u001b[0m\u001b[0;34m(\u001b[0m\u001b[0mkey\u001b[0m\u001b[0;34m)\u001b[0m\u001b[0;34m\u001b[0m\u001b[0;34m\u001b[0m\u001b[0m\n\u001b[0;32m-> 4102\u001b[0;31m             \u001b[0mindexer\u001b[0m \u001b[0;34m=\u001b[0m \u001b[0mself\u001b[0m\u001b[0;34m.\u001b[0m\u001b[0mcolumns\u001b[0m\u001b[0;34m.\u001b[0m\u001b[0mget_loc\u001b[0m\u001b[0;34m(\u001b[0m\u001b[0mkey\u001b[0m\u001b[0;34m)\u001b[0m\u001b[0;34m\u001b[0m\u001b[0;34m\u001b[0m\u001b[0m\n\u001b[0m\u001b[1;32m   4103\u001b[0m             \u001b[0;32mif\u001b[0m \u001b[0mis_integer\u001b[0m\u001b[0;34m(\u001b[0m\u001b[0mindexer\u001b[0m\u001b[0;34m)\u001b[0m\u001b[0;34m:\u001b[0m\u001b[0;34m\u001b[0m\u001b[0;34m\u001b[0m\u001b[0m\n\u001b[1;32m   4104\u001b[0m                 \u001b[0mindexer\u001b[0m \u001b[0;34m=\u001b[0m \u001b[0;34m[\u001b[0m\u001b[0mindexer\u001b[0m\u001b[0;34m]\u001b[0m\u001b[0;34m\u001b[0m\u001b[0;34m\u001b[0m\u001b[0m\n",
            "\u001b[0;32m/usr/local/lib/python3.11/dist-packages/pandas/core/indexes/base.py\u001b[0m in \u001b[0;36mget_loc\u001b[0;34m(self, key)\u001b[0m\n\u001b[1;32m   3810\u001b[0m             ):\n\u001b[1;32m   3811\u001b[0m                 \u001b[0;32mraise\u001b[0m \u001b[0mInvalidIndexError\u001b[0m\u001b[0;34m(\u001b[0m\u001b[0mkey\u001b[0m\u001b[0;34m)\u001b[0m\u001b[0;34m\u001b[0m\u001b[0;34m\u001b[0m\u001b[0m\n\u001b[0;32m-> 3812\u001b[0;31m             \u001b[0;32mraise\u001b[0m \u001b[0mKeyError\u001b[0m\u001b[0;34m(\u001b[0m\u001b[0mkey\u001b[0m\u001b[0;34m)\u001b[0m \u001b[0;32mfrom\u001b[0m \u001b[0merr\u001b[0m\u001b[0;34m\u001b[0m\u001b[0;34m\u001b[0m\u001b[0m\n\u001b[0m\u001b[1;32m   3813\u001b[0m         \u001b[0;32mexcept\u001b[0m \u001b[0mTypeError\u001b[0m\u001b[0;34m:\u001b[0m\u001b[0;34m\u001b[0m\u001b[0;34m\u001b[0m\u001b[0m\n\u001b[1;32m   3814\u001b[0m             \u001b[0;31m# If we have a listlike key, _check_indexing_error will raise\u001b[0m\u001b[0;34m\u001b[0m\u001b[0;34m\u001b[0m\u001b[0m\n",
            "\u001b[0;31mKeyError\u001b[0m: 'isFraud'"
          ]
        }
      ],
      "source": [
        "\n",
        "#check whether fraud occurs using specific destination account\n",
        "datasetA=df[(df['isFraud']==1) & (df['transactionType']=='TRANSFER')]\n",
        "datasetA['oldBalRecipient'].value_counts()"
      ]
    },
    {
      "cell_type": "markdown",
      "metadata": {
        "id": "3sl4GGobeHNU"
      },
      "source": [
        "Fraudulent transfer occcurs mostly in recipient accounts with zero balances about 343951 times, this means the money launderers prefer newly created accounts or dormant accounts to conduct their activities. This could also reduce the risk of detection since there is no prior transactions."
      ]
    },
    {
      "cell_type": "code",
      "execution_count": null,
      "metadata": {
        "colab": {
          "base_uri": "https://localhost:8080/",
          "height": 115
        },
        "id": "oWTsmVp2XyXg",
        "outputId": "a5686757-ffcb-4904-a114-bc8d53d0c69b"
      },
      "outputs": [
        {
          "output_type": "execute_result",
          "data": {
            "text/plain": [
              "Series([], Name: count, dtype: int64)"
            ],
            "text/html": [
              "<div>\n",
              "<style scoped>\n",
              "    .dataframe tbody tr th:only-of-type {\n",
              "        vertical-align: middle;\n",
              "    }\n",
              "\n",
              "    .dataframe tbody tr th {\n",
              "        vertical-align: top;\n",
              "    }\n",
              "\n",
              "    .dataframe thead th {\n",
              "        text-align: right;\n",
              "    }\n",
              "</style>\n",
              "<table border=\"1\" class=\"dataframe\">\n",
              "  <thead>\n",
              "    <tr style=\"text-align: right;\">\n",
              "      <th></th>\n",
              "      <th>count</th>\n",
              "    </tr>\n",
              "    <tr>\n",
              "      <th>newBalRecipient</th>\n",
              "      <th></th>\n",
              "    </tr>\n",
              "  </thead>\n",
              "  <tbody>\n",
              "  </tbody>\n",
              "</table>\n",
              "</div><br><label><b>dtype:</b> int64</label>"
            ]
          },
          "metadata": {},
          "execution_count": 79
        }
      ],
      "source": [
        "\n",
        "datasetB=df[(df['isFraud']==1) & (df['transactionType']=='WITHDRAWAL')]\n",
        "datasetB['newBalRecipient'].value_counts()"
      ]
    },
    {
      "cell_type": "markdown",
      "metadata": {
        "id": "Ddc2F592IxN3"
      },
      "source": [
        "The dataset does not show any fraudulent transactions in the withdrawal"
      ]
    },
    {
      "cell_type": "code",
      "execution_count": null,
      "metadata": {
        "colab": {
          "base_uri": "https://localhost:8080/",
          "height": 766
        },
        "id": "0o5I3etnHhli",
        "outputId": "c9409b47-b70a-4991-f908-02a5a3ba8ba7"
      },
      "outputs": [
        {
          "output_type": "execute_result",
          "data": {
            "text/plain": [
              "Text(0.5, 1.0, 'oldBalRecipient vs Fraud')"
            ]
          },
          "metadata": {},
          "execution_count": 51
        },
        {
          "output_type": "display_data",
          "data": {
            "text/plain": [
              "<Figure size 2000x1200 with 4 Axes>"
            ],
            "image/png": "[encoded data removed]"
          },
          "metadata": {}
        }
      ],
      "source": [
        "\n",
        "#Plotting numeric variables against fraud\n",
        "#Boxplots used for this visualization\n",
        "import seaborn as sns\n",
        "\n",
        "plt.figure(figsize=(20, 12))\n",
        "plt.subplot(2,2,1)\n",
        "sns.boxplot(x = 'isFraud', y = 'step', data = df, palette=\"husl\", hue='isFraud', legend=False)\n",
        "plt.title('step vs Fraud',fontweight=\"bold\", size=15)\n",
        "plt.subplot(2,2,2)\n",
        "sns.boxplot(x = 'isFraud', y = 'amount', data = df,palette=\"husl\", hue='isFraud', legend=False)\n",
        "plt.title('amount vs Fraud',fontweight=\"bold\", size=15)\n",
        "plt.subplot(2,2,3)\n",
        "sns.boxplot(x = 'isFraud', y = 'oldBalInitiator', data = df, palette= 'husl', hue='isFraud', legend=False)\n",
        "plt.title('oldBalInitiator vs Fraud',fontweight=\"bold\", size=15)\n",
        "plt.subplot(2,2,4)\n",
        "sns.boxplot(x = 'isFraud', y = 'oldBalRecipient', data = df,palette=\"bright\", hue='isFraud', legend=False)\n",
        "plt.title('oldBalRecipient vs Fraud',fontweight=\"bold\", size=15)"
      ]
    },
    {
      "cell_type": "code",
      "execution_count": null,
      "metadata": {
        "colab": {
          "base_uri": "https://localhost:8080/"
        },
        "id": "oFm94ObSHh0y",
        "outputId": "41bc7338-c867-4135-ffde-70f50ff35723"
      },
      "outputs": [
        {
          "output_type": "execute_result",
          "data": {
            "text/plain": [
              "998950.05"
            ]
          },
          "metadata": {},
          "execution_count": 80
        }
      ],
      "source": [
        "#check the largest fraudulent amount\n",
        "df[df['isFraud']==1]['amount'].max()"
      ]
    },
    {
      "cell_type": "code",
      "execution_count": null,
      "metadata": {
        "colab": {
          "base_uri": "https://localhost:8080/"
        },
        "id": "MQXAhywuHiCx",
        "outputId": "b633438c-af96-4af7-d9bf-30f710cb6a63"
      },
      "outputs": [
        {
          "output_type": "execute_result",
          "data": {
            "text/plain": [
              "0.0"
            ]
          },
          "metadata": {},
          "execution_count": 81
        }
      ],
      "source": [
        "#check the smallest fraudulent amount\n",
        "df[df['isFraud']==1]['amount'].min()"
      ]
    },
    {
      "cell_type": "markdown",
      "metadata": {
        "id": "0cuHteGiBQV_"
      },
      "source": [
        "# **Identifying discrepancies in balances before and after transactions.**"
      ]
    },
    {
      "cell_type": "code",
      "execution_count": null,
      "metadata": {
        "colab": {
          "base_uri": "https://localhost:8080/"
        },
        "id": "fn5hc88LHiRY",
        "outputId": "990f1975-5bae-45db-cf2f-cc54e531f341"
      },
      "outputs": [
        {
          "output_type": "stream",
          "name": "stdout",
          "text": [
            "Percentage of entries with balance errors in the account making a transfer:  42.0\n",
            "Percentage of entries with balance errors in the account receiving money:  100.0\n"
          ]
        }
      ],
      "source": [
        "# checking for balances before and after transactions\n",
        "wrong_orig_bal = sum(df[\"oldBalInitiator\"] - df[\"amount\"] != df[\"newBalInitiator\"])\n",
        "wrong_dest_bal = sum(df[\"newBalRecipient\"] + df[\"amount\"] != df[\"newBalRecipient\"])\n",
        "print(\"Percentage of entries with balance errors in the account making a transfer: \", 100*round(wrong_orig_bal/len(df),2))\n",
        "print(\"Percentage of entries with balance errors in the account receiving money: \", 100*round(wrong_dest_bal/len(df),2))\n"
      ]
    },
    {
      "cell_type": "markdown",
      "metadata": {
        "id": "h1l5HdiqB5zM"
      },
      "source": [
        "The errors could potentially show signs of fraudulent activity that violate the transaction rules."
      ]
    },
    {
      "cell_type": "code",
      "execution_count": null,
      "metadata": {
        "colab": {
          "base_uri": "https://localhost:8080/"
        },
        "id": "GJwyHLl6Hies",
        "outputId": "9d70bb7f-f0c3-4d8b-966e-40b4d7223226"
      },
      "outputs": [
        {
          "output_type": "stream",
          "name": "stdout",
          "text": [
            "oldBalRecipient    0\n",
            "newBalRecipient    0\n",
            "dtype: int64\n"
          ]
        }
      ],
      "source": [
        "# checking if missing values contributes to the errors calculated\n",
        "print(df[['oldBalRecipient', 'newBalRecipient']].isnull().sum())\n"
      ]
    },
    {
      "cell_type": "code",
      "execution_count": null,
      "metadata": {
        "colab": {
          "base_uri": "https://localhost:8080/"
        },
        "id": "7pTaiM_cHis1",
        "outputId": "38fa7a8e-29e3-4dbf-a9a3-762246b78a33"
      },
      "outputs": [
        {
          "output_type": "stream",
          "name": "stdout",
          "text": [
            "Transaction Type: PAYMENT\n",
            "  % Errors in Originator's Account: 71.0%\n",
            "  % Errors in Recipient's Account: 71.0%\n",
            "Transaction Type: TRANSFER\n",
            "  % Errors in Originator's Account: 23.0%\n",
            "  % Errors in Recipient's Account: 45.0%\n",
            "Transaction Type: DEPOSIT\n",
            "  % Errors in Originator's Account: 100.0%\n",
            "  % Errors in Recipient's Account: 100.0%\n",
            "Transaction Type: WITHDRAWAL\n",
            "  % Errors in Originator's Account: 44.0%\n",
            "  % Errors in Recipient's Account: 100.0%\n",
            "Transaction Type: DEBIT\n",
            "  % Errors in Originator's Account: 44.0%\n",
            "  % Errors in Recipient's Account: 100.0%\n"
          ]
        }
      ],
      "source": [
        "# checking the contribution of transaction types to the errors\n",
        "for t_type in df['transactionType'].unique():\n",
        "    subset = df[df['transactionType'] == t_type]\n",
        "    orig_error = sum(subset[\"oldBalInitiator\"] - subset[\"amount\"] != subset[\"newBalInitiator\"])\n",
        "    dest_error = sum(subset[\"oldBalRecipient\"] + subset[\"amount\"] != subset[\"newBalRecipient\"])\n",
        "    print(f\"Transaction Type: {t_type}\")\n",
        "    print(f\"  % Errors in Originator's Account: {100 * round(orig_error / len(subset), 2)}%\")\n",
        "    print(f\"  % Errors in Recipient's Account: {100 * round(dest_error / len(subset), 2)}%\")\n"
      ]
    },
    {
      "cell_type": "markdown",
      "metadata": {
        "id": "109ZZ5ETDBRz"
      },
      "source": [
        "This shows that transfer transactions is more influential in detecting money laundering in this datasaet"
      ]
    },
    {
      "cell_type": "code",
      "execution_count": null,
      "metadata": {
        "colab": {
          "base_uri": "https://localhost:8080/"
        },
        "id": "jRRvEoxI_4yV",
        "outputId": "6ba783a1-a676-494a-f36f-903d48811f0f"
      },
      "outputs": [
        {
          "output_type": "execute_result",
          "data": {
            "text/plain": [
              "Index(['step', 'transactionType', 'amount', 'initiator', 'oldBalInitiator',\n",
              "       'newBalInitiator', 'recipient', 'oldBalRecipient', 'newBalRecipient',\n",
              "       'isFraud'],\n",
              "      dtype='object')"
            ]
          },
          "metadata": {},
          "execution_count": 8
        }
      ],
      "source": [
        "df.columns"
      ]
    },
    {
      "cell_type": "code",
      "execution_count": null,
      "metadata": {
        "colab": {
          "base_uri": "https://localhost:8080/",
          "height": 206
        },
        "id": "71e_sc4r4iRq",
        "outputId": "4e356a10-b66c-450e-8fc2-785e8f0bda18"
      },
      "outputs": [
        {
          "output_type": "execute_result",
          "data": {
            "text/plain": [
              "   step transactionType  amount  oldBalInitiator  newBalInitiator  \\\n",
              "0     0         PAYMENT  579.16            29.32            29.32   \n",
              "1     0        TRANSFER   39.03            39.03             0.00   \n",
              "2     0        TRANSFER   21.78            21.78             0.00   \n",
              "3     0         PAYMENT  570.22             5.29             5.29   \n",
              "4     0         PAYMENT  574.80            82.63            82.63   \n",
              "\n",
              "   oldBalRecipient  newBalRecipient  isFraud  \n",
              "0             0.00             0.00        0  \n",
              "1            55.94            94.98        1  \n",
              "2            58.09            79.88        1  \n",
              "3             0.00             0.00        0  \n",
              "4             0.00             0.00        0  "
            ],
            "text/html": [
              "\n",
              "  <div id=\"df-bed1493c-a264-49bc-80f7-cf15b2b16d4e\" class=\"colab-df-container\">\n",
              "    <div>\n",
              "<style scoped>\n",
              "    .dataframe tbody tr th:only-of-type {\n",
              "        vertical-align: middle;\n",
              "    }\n",
              "\n",
              "    .dataframe tbody tr th {\n",
              "        vertical-align: top;\n",
              "    }\n",
              "\n",
              "    .dataframe thead th {\n",
              "        text-align: right;\n",
              "    }\n",
              "</style>\n",
              "<table border=\"1\" class=\"dataframe\">\n",
              "  <thead>\n",
              "    <tr style=\"text-align: right;\">\n",
              "      <th></th>\n",
              "      <th>step</th>\n",
              "      <th>transactionType</th>\n",
              "      <th>amount</th>\n",
              "      <th>oldBalInitiator</th>\n",
              "      <th>newBalInitiator</th>\n",
              "      <th>oldBalRecipient</th>\n",
              "      <th>newBalRecipient</th>\n",
              "      <th>isFraud</th>\n",
              "    </tr>\n",
              "  </thead>\n",
              "  <tbody>\n",
              "    <tr>\n",
              "      <th>0</th>\n",
              "      <td>0</td>\n",
              "      <td>PAYMENT</td>\n",
              "      <td>579.16</td>\n",
              "      <td>29.32</td>\n",
              "      <td>29.32</td>\n",
              "      <td>0.00</td>\n",
              "      <td>0.00</td>\n",
              "      <td>0</td>\n",
              "    </tr>\n",
              "    <tr>\n",
              "      <th>1</th>\n",
              "      <td>0</td>\n",
              "      <td>TRANSFER</td>\n",
              "      <td>39.03</td>\n",
              "      <td>39.03</td>\n",
              "      <td>0.00</td>\n",
              "      <td>55.94</td>\n",
              "      <td>94.98</td>\n",
              "      <td>1</td>\n",
              "    </tr>\n",
              "    <tr>\n",
              "      <th>2</th>\n",
              "      <td>0</td>\n",
              "      <td>TRANSFER</td>\n",
              "      <td>21.78</td>\n",
              "      <td>21.78</td>\n",
              "      <td>0.00</td>\n",
              "      <td>58.09</td>\n",
              "      <td>79.88</td>\n",
              "      <td>1</td>\n",
              "    </tr>\n",
              "    <tr>\n",
              "      <th>3</th>\n",
              "      <td>0</td>\n",
              "      <td>PAYMENT</td>\n",
              "      <td>570.22</td>\n",
              "      <td>5.29</td>\n",
              "      <td>5.29</td>\n",
              "      <td>0.00</td>\n",
              "      <td>0.00</td>\n",
              "      <td>0</td>\n",
              "    </tr>\n",
              "    <tr>\n",
              "      <th>4</th>\n",
              "      <td>0</td>\n",
              "      <td>PAYMENT</td>\n",
              "      <td>574.80</td>\n",
              "      <td>82.63</td>\n",
              "      <td>82.63</td>\n",
              "      <td>0.00</td>\n",
              "      <td>0.00</td>\n",
              "      <td>0</td>\n",
              "    </tr>\n",
              "  </tbody>\n",
              "</table>\n",
              "</div>\n",
              "    <div class=\"colab-df-buttons\">\n",
              "\n",
              "  <div class=\"colab-df-container\">\n",
              "    <button class=\"colab-df-convert\" onclick=\"convertToInteractive('df-bed1493c-a264-49bc-80f7-cf15b2b16d4e')\"\n",
              "            title=\"Convert this dataframe to an interactive table.\"\n",
              "            style=\"display:none;\">\n",
              "\n",
              "  <svg xmlns=\"http://www.w3.org/2000/svg\" height=\"24px\" viewBox=\"0 -960 960 960\">\n",
              "    <path d=\"M120-120v-720h720v720H120Zm60-500h600v-160H180v160Zm220 220h160v-160H400v160Zm0 220h160v-160H400v160ZM180-400h160v-160H180v160Zm440 0h160v-160H620v160ZM180-180h160v-160H180v160Zm440 0h160v-160H620v160Z\"/>\n",
              "  </svg>\n",
              "    </button>\n",
              "\n",
              "  <style>\n",
              "    .colab-df-container {\n",
              "      display:flex;\n",
              "      gap: 12px;\n",
              "    }\n",
              "\n",
              "    .colab-df-convert {\n",
              "      background-color: #E8F0FE;\n",
              "      border: none;\n",
              "      border-radius: 50%;\n",
              "      cursor: pointer;\n",
              "      display: none;\n",
              "      fill: #1967D2;\n",
              "      height: 32px;\n",
              "      padding: 0 0 0 0;\n",
              "      width: 32px;\n",
              "    }\n",
              "\n",
              "    .colab-df-convert:hover {\n",
              "      background-color: #E2EBFA;\n",
              "      box-shadow: 0px 1px 2px rgba(60, 64, 67, 0.3), 0px 1px 3px 1px rgba(60, 64, 67, 0.15);\n",
              "      fill: #174EA6;\n",
              "    }\n",
              "\n",
              "    .colab-df-buttons div {\n",
              "      margin-bottom: 4px;\n",
              "    }\n",
              "\n",
              "    [theme=dark] .colab-df-convert {\n",
              "      background-color: #3B4455;\n",
              "      fill: #D2E3FC;\n",
              "    }\n",
              "\n",
              "    [theme=dark] .colab-df-convert:hover {\n",
              "      background-color: #434B5C;\n",
              "      box-shadow: 0px 1px 3px 1px rgba(0, 0, 0, 0.15);\n",
              "      filter: drop-shadow(0px 1px 2px rgba(0, 0, 0, 0.3));\n",
              "      fill: #FFFFFF;\n",
              "    }\n",
              "  </style>\n",
              "\n",
              "    <script>\n",
              "      const buttonEl =\n",
              "        document.querySelector('#df-bed1493c-a264-49bc-80f7-cf15b2b16d4e button.colab-df-convert');\n",
              "      buttonEl.style.display =\n",
              "        google.colab.kernel.accessAllowed ? 'block' : 'none';\n",
              "\n",
              "      async function convertToInteractive(key) {\n",
              "        const element = document.querySelector('#df-bed1493c-a264-49bc-80f7-cf15b2b16d4e');\n",
              "        const dataTable =\n",
              "          await google.colab.kernel.invokeFunction('convertToInteractive',\n",
              "                                                    [key], {});\n",
              "        if (!dataTable) return;\n",
              "\n",
              "        const docLinkHtml = 'Like what you see? Visit the ' +\n",
              "          '<a target=\"_blank\" href=https://colab.research.google.com/notebooks/data_table.ipynb>data table notebook</a>'\n",
              "          + ' to learn more about interactive tables.';\n",
              "        element.innerHTML = '';\n",
              "        dataTable['output_type'] = 'display_data';\n",
              "        await google.colab.output.renderOutput(dataTable, element);\n",
              "        const docLink = document.createElement('div');\n",
              "        docLink.innerHTML = docLinkHtml;\n",
              "        element.appendChild(docLink);\n",
              "      }\n",
              "    </script>\n",
              "  </div>\n",
              "\n",
              "\n",
              "    <div id=\"df-960d3069-bd21-417f-8282-f2be1dd307ee\">\n",
              "      <button class=\"colab-df-quickchart\" onclick=\"quickchart('df-960d3069-bd21-417f-8282-f2be1dd307ee')\"\n",
              "                title=\"Suggest charts\"\n",
              "                style=\"display:none;\">\n",
              "\n",
              "<svg xmlns=\"http://www.w3.org/2000/svg\" height=\"24px\"viewBox=\"0 0 24 24\"\n",
              "     width=\"24px\">\n",
              "    <g>\n",
              "        <path d=\"M19 3H5c-1.1 0-2 .9-2 2v14c0 1.1.9 2 2 2h14c1.1 0 2-.9 2-2V5c0-1.1-.9-2-2-2zM9 17H7v-7h2v7zm4 0h-2V7h2v10zm4 0h-2v-4h2v4z\"/>\n",
              "    </g>\n",
              "</svg>\n",
              "      </button>\n",
              "\n",
              "<style>\n",
              "  .colab-df-quickchart {\n",
              "      --bg-color: #E8F0FE;\n",
              "      --fill-color: #1967D2;\n",
              "      --hover-bg-color: #E2EBFA;\n",
              "      --hover-fill-color: #174EA6;\n",
              "      --disabled-fill-color: #AAA;\n",
              "      --disabled-bg-color: #DDD;\n",
              "  }\n",
              "\n",
              "  [theme=dark] .colab-df-quickchart {\n",
              "      --bg-color: #3B4455;\n",
              "      --fill-color: #D2E3FC;\n",
              "      --hover-bg-color: #434B5C;\n",
              "      --hover-fill-color: #FFFFFF;\n",
              "      --disabled-bg-color: #3B4455;\n",
              "      --disabled-fill-color: #666;\n",
              "  }\n",
              "\n",
              "  .colab-df-quickchart {\n",
              "    background-color: var(--bg-color);\n",
              "    border: none;\n",
              "    border-radius: 50%;\n",
              "    cursor: pointer;\n",
              "    display: none;\n",
              "    fill: var(--fill-color);\n",
              "    height: 32px;\n",
              "    padding: 0;\n",
              "    width: 32px;\n",
              "  }\n",
              "\n",
              "  .colab-df-quickchart:hover {\n",
              "    background-color: var(--hover-bg-color);\n",
              "    box-shadow: 0 1px 2px rgba(60, 64, 67, 0.3), 0 1px 3px 1px rgba(60, 64, 67, 0.15);\n",
              "    fill: var(--button-hover-fill-color);\n",
              "  }\n",
              "\n",
              "  .colab-df-quickchart-complete:disabled,\n",
              "  .colab-df-quickchart-complete:disabled:hover {\n",
              "    background-color: var(--disabled-bg-color);\n",
              "    fill: var(--disabled-fill-color);\n",
              "    box-shadow: none;\n",
              "  }\n",
              "\n",
              "  .colab-df-spinner {\n",
              "    border: 2px solid var(--fill-color);\n",
              "    border-color: transparent;\n",
              "    border-bottom-color: var(--fill-color);\n",
              "    animation:\n",
              "      spin 1s steps(1) infinite;\n",
              "  }\n",
              "\n",
              "  @keyframes spin {\n",
              "    0% {\n",
              "      border-color: transparent;\n",
              "      border-bottom-color: var(--fill-color);\n",
              "      border-left-color: var(--fill-color);\n",
              "    }\n",
              "    20% {\n",
              "      border-color: transparent;\n",
              "      border-left-color: var(--fill-color);\n",
              "      border-top-color: var(--fill-color);\n",
              "    }\n",
              "    30% {\n",
              "      border-color: transparent;\n",
              "      border-left-color: var(--fill-color);\n",
              "      border-top-color: var(--fill-color);\n",
              "      border-right-color: var(--fill-color);\n",
              "    }\n",
              "    40% {\n",
              "      border-color: transparent;\n",
              "      border-right-color: var(--fill-color);\n",
              "      border-top-color: var(--fill-color);\n",
              "    }\n",
              "    60% {\n",
              "      border-color: transparent;\n",
              "      border-right-color: var(--fill-color);\n",
              "    }\n",
              "    80% {\n",
              "      border-color: transparent;\n",
              "      border-right-color: var(--fill-color);\n",
              "      border-bottom-color: var(--fill-color);\n",
              "    }\n",
              "    90% {\n",
              "      border-color: transparent;\n",
              "      border-bottom-color: var(--fill-color);\n",
              "    }\n",
              "  }\n",
              "</style>\n",
              "\n",
              "      <script>\n",
              "        async function quickchart(key) {\n",
              "          const quickchartButtonEl =\n",
              "            document.querySelector('#' + key + ' button');\n",
              "          quickchartButtonEl.disabled = true;  // To prevent multiple clicks.\n",
              "          quickchartButtonEl.classList.add('colab-df-spinner');\n",
              "          try {\n",
              "            const charts = await google.colab.kernel.invokeFunction(\n",
              "                'suggestCharts', [key], {});\n",
              "          } catch (error) {\n",
              "            console.error('Error during call to suggestCharts:', error);\n",
              "          }\n",
              "          quickchartButtonEl.classList.remove('colab-df-spinner');\n",
              "          quickchartButtonEl.classList.add('colab-df-quickchart-complete');\n",
              "        }\n",
              "        (() => {\n",
              "          let quickchartButtonEl =\n",
              "            document.querySelector('#df-960d3069-bd21-417f-8282-f2be1dd307ee button');\n",
              "          quickchartButtonEl.style.display =\n",
              "            google.colab.kernel.accessAllowed ? 'block' : 'none';\n",
              "        })();\n",
              "      </script>\n",
              "    </div>\n",
              "\n",
              "    </div>\n",
              "  </div>\n"
            ],
            "application/vnd.google.colaboratory.intrinsic+json": {
              "type": "dataframe",
              "variable_name": "df"
            }
          },
          "metadata": {},
          "execution_count": 9
        }
      ],
      "source": [
        "import pandas as pd\n",
        "\n",
        "\n",
        "# Drop 'initiator' and 'recipient' columns\n",
        "df = df.drop(columns=['initiator', 'recipient'])\n",
        "\n",
        "# Save the cleaned dataset (optional)\n",
        "df.to_csv(\"/content/drive/MyDrive/MobileMoneyDLMs/cleaned_mobile_money_dataset.csv\", index=False)\n",
        "\n",
        "# Display first few rows to confirm\n",
        "df.head()\n"
      ]
    },
    {
      "cell_type": "markdown",
      "metadata": {
        "id": "KS08Vl_cCSc1"
      },
      "source": [
        "Initiator and recipient were dropped since they are just identifiers and may not directly contribute to predictions. Additinally dropping recipient will reduce computation resources since it requires encoding"
      ]
    },
    {
      "cell_type": "code",
      "execution_count": null,
      "metadata": {
        "colab": {
          "base_uri": "https://localhost:8080/",
          "height": 243
        },
        "id": "CKD86pAqAHoS",
        "outputId": "de076184-998a-46da-94ac-e38ecc13b130"
      },
      "outputs": [
        {
          "output_type": "stream",
          "name": "stdout",
          "text": [
            "Transaction Type Encoding Mapping: {'DEBIT': np.int64(0), 'DEPOSIT': np.int64(1), 'PAYMENT': np.int64(2), 'TRANSFER': np.int64(3), 'WITHDRAWAL': np.int64(4)}\n"
          ]
        },
        {
          "output_type": "execute_result",
          "data": {
            "text/plain": [
              "   transactionType\n",
              "0                2\n",
              "1                3\n",
              "2                3\n",
              "3                2\n",
              "4                2"
            ],
            "text/html": [
              "\n",
              "  <div id=\"df-204df535-ccb3-4e16-b0cb-890f5276b7fd\" class=\"colab-df-container\">\n",
              "    <div>\n",
              "<style scoped>\n",
              "    .dataframe tbody tr th:only-of-type {\n",
              "        vertical-align: middle;\n",
              "    }\n",
              "\n",
              "    .dataframe tbody tr th {\n",
              "        vertical-align: top;\n",
              "    }\n",
              "\n",
              "    .dataframe thead th {\n",
              "        text-align: right;\n",
              "    }\n",
              "</style>\n",
              "<table border=\"1\" class=\"dataframe\">\n",
              "  <thead>\n",
              "    <tr style=\"text-align: right;\">\n",
              "      <th></th>\n",
              "      <th>transactionType</th>\n",
              "    </tr>\n",
              "  </thead>\n",
              "  <tbody>\n",
              "    <tr>\n",
              "      <th>0</th>\n",
              "      <td>2</td>\n",
              "    </tr>\n",
              "    <tr>\n",
              "      <th>1</th>\n",
              "      <td>3</td>\n",
              "    </tr>\n",
              "    <tr>\n",
              "      <th>2</th>\n",
              "      <td>3</td>\n",
              "    </tr>\n",
              "    <tr>\n",
              "      <th>3</th>\n",
              "      <td>2</td>\n",
              "    </tr>\n",
              "    <tr>\n",
              "      <th>4</th>\n",
              "      <td>2</td>\n",
              "    </tr>\n",
              "  </tbody>\n",
              "</table>\n",
              "</div>\n",
              "    <div class=\"colab-df-buttons\">\n",
              "\n",
              "  <div class=\"colab-df-container\">\n",
              "    <button class=\"colab-df-convert\" onclick=\"convertToInteractive('df-204df535-ccb3-4e16-b0cb-890f5276b7fd')\"\n",
              "            title=\"Convert this dataframe to an interactive table.\"\n",
              "            style=\"display:none;\">\n",
              "\n",
              "  <svg xmlns=\"http://www.w3.org/2000/svg\" height=\"24px\" viewBox=\"0 -960 960 960\">\n",
              "    <path d=\"M120-120v-720h720v720H120Zm60-500h600v-160H180v160Zm220 220h160v-160H400v160Zm0 220h160v-160H400v160ZM180-400h160v-160H180v160Zm440 0h160v-160H620v160ZM180-180h160v-160H180v160Zm440 0h160v-160H620v160Z\"/>\n",
              "  </svg>\n",
              "    </button>\n",
              "\n",
              "  <style>\n",
              "    .colab-df-container {\n",
              "      display:flex;\n",
              "      gap: 12px;\n",
              "    }\n",
              "\n",
              "    .colab-df-convert {\n",
              "      background-color: #E8F0FE;\n",
              "      border: none;\n",
              "      border-radius: 50%;\n",
              "      cursor: pointer;\n",
              "      display: none;\n",
              "      fill: #1967D2;\n",
              "      height: 32px;\n",
              "      padding: 0 0 0 0;\n",
              "      width: 32px;\n",
              "    }\n",
              "\n",
              "    .colab-df-convert:hover {\n",
              "      background-color: #E2EBFA;\n",
              "      box-shadow: 0px 1px 2px rgba(60, 64, 67, 0.3), 0px 1px 3px 1px rgba(60, 64, 67, 0.15);\n",
              "      fill: #174EA6;\n",
              "    }\n",
              "\n",
              "    .colab-df-buttons div {\n",
              "      margin-bottom: 4px;\n",
              "    }\n",
              "\n",
              "    [theme=dark] .colab-df-convert {\n",
              "      background-color: #3B4455;\n",
              "      fill: #D2E3FC;\n",
              "    }\n",
              "\n",
              "    [theme=dark] .colab-df-convert:hover {\n",
              "      background-color: #434B5C;\n",
              "      box-shadow: 0px 1px 3px 1px rgba(0, 0, 0, 0.15);\n",
              "      filter: drop-shadow(0px 1px 2px rgba(0, 0, 0, 0.3));\n",
              "      fill: #FFFFFF;\n",
              "    }\n",
              "  </style>\n",
              "\n",
              "    <script>\n",
              "      const buttonEl =\n",
              "        document.querySelector('#df-204df535-ccb3-4e16-b0cb-890f5276b7fd button.colab-df-convert');\n",
              "      buttonEl.style.display =\n",
              "        google.colab.kernel.accessAllowed ? 'block' : 'none';\n",
              "\n",
              "      async function convertToInteractive(key) {\n",
              "        const element = document.querySelector('#df-204df535-ccb3-4e16-b0cb-890f5276b7fd');\n",
              "        const dataTable =\n",
              "          await google.colab.kernel.invokeFunction('convertToInteractive',\n",
              "                                                    [key], {});\n",
              "        if (!dataTable) return;\n",
              "\n",
              "        const docLinkHtml = 'Like what you see? Visit the ' +\n",
              "          '<a target=\"_blank\" href=https://colab.research.google.com/notebooks/data_table.ipynb>data table notebook</a>'\n",
              "          + ' to learn more about interactive tables.';\n",
              "        element.innerHTML = '';\n",
              "        dataTable['output_type'] = 'display_data';\n",
              "        await google.colab.output.renderOutput(dataTable, element);\n",
              "        const docLink = document.createElement('div');\n",
              "        docLink.innerHTML = docLinkHtml;\n",
              "        element.appendChild(docLink);\n",
              "      }\n",
              "    </script>\n",
              "  </div>\n",
              "\n",
              "\n",
              "    <div id=\"df-b0b1a2bf-e8c9-41f3-8cf5-a851aae0660c\">\n",
              "      <button class=\"colab-df-quickchart\" onclick=\"quickchart('df-b0b1a2bf-e8c9-41f3-8cf5-a851aae0660c')\"\n",
              "                title=\"Suggest charts\"\n",
              "                style=\"display:none;\">\n",
              "\n",
              "<svg xmlns=\"http://www.w3.org/2000/svg\" height=\"24px\"viewBox=\"0 0 24 24\"\n",
              "     width=\"24px\">\n",
              "    <g>\n",
              "        <path d=\"M19 3H5c-1.1 0-2 .9-2 2v14c0 1.1.9 2 2 2h14c1.1 0 2-.9 2-2V5c0-1.1-.9-2-2-2zM9 17H7v-7h2v7zm4 0h-2V7h2v10zm4 0h-2v-4h2v4z\"/>\n",
              "    </g>\n",
              "</svg>\n",
              "      </button>\n",
              "\n",
              "<style>\n",
              "  .colab-df-quickchart {\n",
              "      --bg-color: #E8F0FE;\n",
              "      --fill-color: #1967D2;\n",
              "      --hover-bg-color: #E2EBFA;\n",
              "      --hover-fill-color: #174EA6;\n",
              "      --disabled-fill-color: #AAA;\n",
              "      --disabled-bg-color: #DDD;\n",
              "  }\n",
              "\n",
              "  [theme=dark] .colab-df-quickchart {\n",
              "      --bg-color: #3B4455;\n",
              "      --fill-color: #D2E3FC;\n",
              "      --hover-bg-color: #434B5C;\n",
              "      --hover-fill-color: #FFFFFF;\n",
              "      --disabled-bg-color: #3B4455;\n",
              "      --disabled-fill-color: #666;\n",
              "  }\n",
              "\n",
              "  .colab-df-quickchart {\n",
              "    background-color: var(--bg-color);\n",
              "    border: none;\n",
              "    border-radius: 50%;\n",
              "    cursor: pointer;\n",
              "    display: none;\n",
              "    fill: var(--fill-color);\n",
              "    height: 32px;\n",
              "    padding: 0;\n",
              "    width: 32px;\n",
              "  }\n",
              "\n",
              "  .colab-df-quickchart:hover {\n",
              "    background-color: var(--hover-bg-color);\n",
              "    box-shadow: 0 1px 2px rgba(60, 64, 67, 0.3), 0 1px 3px 1px rgba(60, 64, 67, 0.15);\n",
              "    fill: var(--button-hover-fill-color);\n",
              "  }\n",
              "\n",
              "  .colab-df-quickchart-complete:disabled,\n",
              "  .colab-df-quickchart-complete:disabled:hover {\n",
              "    background-color: var(--disabled-bg-color);\n",
              "    fill: var(--disabled-fill-color);\n",
              "    box-shadow: none;\n",
              "  }\n",
              "\n",
              "  .colab-df-spinner {\n",
              "    border: 2px solid var(--fill-color);\n",
              "    border-color: transparent;\n",
              "    border-bottom-color: var(--fill-color);\n",
              "    animation:\n",
              "      spin 1s steps(1) infinite;\n",
              "  }\n",
              "\n",
              "  @keyframes spin {\n",
              "    0% {\n",
              "      border-color: transparent;\n",
              "      border-bottom-color: var(--fill-color);\n",
              "      border-left-color: var(--fill-color);\n",
              "    }\n",
              "    20% {\n",
              "      border-color: transparent;\n",
              "      border-left-color: var(--fill-color);\n",
              "      border-top-color: var(--fill-color);\n",
              "    }\n",
              "    30% {\n",
              "      border-color: transparent;\n",
              "      border-left-color: var(--fill-color);\n",
              "      border-top-color: var(--fill-color);\n",
              "      border-right-color: var(--fill-color);\n",
              "    }\n",
              "    40% {\n",
              "      border-color: transparent;\n",
              "      border-right-color: var(--fill-color);\n",
              "      border-top-color: var(--fill-color);\n",
              "    }\n",
              "    60% {\n",
              "      border-color: transparent;\n",
              "      border-right-color: var(--fill-color);\n",
              "    }\n",
              "    80% {\n",
              "      border-color: transparent;\n",
              "      border-right-color: var(--fill-color);\n",
              "      border-bottom-color: var(--fill-color);\n",
              "    }\n",
              "    90% {\n",
              "      border-color: transparent;\n",
              "      border-bottom-color: var(--fill-color);\n",
              "    }\n",
              "  }\n",
              "</style>\n",
              "\n",
              "      <script>\n",
              "        async function quickchart(key) {\n",
              "          const quickchartButtonEl =\n",
              "            document.querySelector('#' + key + ' button');\n",
              "          quickchartButtonEl.disabled = true;  // To prevent multiple clicks.\n",
              "          quickchartButtonEl.classList.add('colab-df-spinner');\n",
              "          try {\n",
              "            const charts = await google.colab.kernel.invokeFunction(\n",
              "                'suggestCharts', [key], {});\n",
              "          } catch (error) {\n",
              "            console.error('Error during call to suggestCharts:', error);\n",
              "          }\n",
              "          quickchartButtonEl.classList.remove('colab-df-spinner');\n",
              "          quickchartButtonEl.classList.add('colab-df-quickchart-complete');\n",
              "        }\n",
              "        (() => {\n",
              "          let quickchartButtonEl =\n",
              "            document.querySelector('#df-b0b1a2bf-e8c9-41f3-8cf5-a851aae0660c button');\n",
              "          quickchartButtonEl.style.display =\n",
              "            google.colab.kernel.accessAllowed ? 'block' : 'none';\n",
              "        })();\n",
              "      </script>\n",
              "    </div>\n",
              "\n",
              "    </div>\n",
              "  </div>\n"
            ],
            "application/vnd.google.colaboratory.intrinsic+json": {
              "type": "dataframe",
              "summary": "{\n  \"name\": \"df[['transactionType']]\",\n  \"rows\": 5,\n  \"fields\": [\n    {\n      \"column\": \"transactionType\",\n      \"properties\": {\n        \"dtype\": \"number\",\n        \"std\": 0,\n        \"min\": 2,\n        \"max\": 3,\n        \"num_unique_values\": 2,\n        \"samples\": [\n          3,\n          2\n        ],\n        \"semantic_type\": \"\",\n        \"description\": \"\"\n      }\n    }\n  ]\n}"
            }
          },
          "metadata": {},
          "execution_count": 13
        }
      ],
      "source": [
        "from sklearn.preprocessing import LabelEncoder\n",
        "\n",
        "# Initialize LabelEncoder\n",
        "encoder = LabelEncoder()\n",
        "\n",
        "# Fit and transform the 'transactionType' column\n",
        "df['transactionType'] = encoder.fit_transform(df['transactionType'])\n",
        "\n",
        "# Display the mapping of transaction types to their encoded values\n",
        "mapping = dict(zip(encoder.classes_, encoder.transform(encoder.classes_)))\n",
        "print(\"Transaction Type Encoding Mapping:\", mapping)\n",
        "\n",
        "# Verify the changes\n",
        "df[['transactionType']].head()\n"
      ]
    },
    {
      "cell_type": "markdown",
      "metadata": {
        "id": "zM89FfReIImt"
      },
      "source": [
        "# **Splitting the dataset**"
      ]
    },
    {
      "cell_type": "code",
      "execution_count": null,
      "metadata": {
        "colab": {
          "base_uri": "https://localhost:8080/"
        },
        "id": "Aq_PaP9xLtQK",
        "outputId": "08fc3b79-1f74-4a0b-cb1f-7c9c130f0d48"
      },
      "outputs": [
        {
          "output_type": "stream",
          "name": "stdout",
          "text": [
            "Training Data Shape: (3380766, 8)\n",
            "Testing Data Shape: (422596, 8)\n",
            "Validation Data Shape: (422596, 8)\n"
          ]
        }
      ],
      "source": [
        "from sklearn.model_selection import train_test_split\n",
        "\n",
        "# First, split into 80% training and 20% remaining (testing + validation)\n",
        "train_data, temp_data = train_test_split(df, test_size=0.2, random_state=42)\n",
        "\n",
        "# Then, split the remaining 20% into 50% testing and 50% validation (i.e., 10% each of the original data)\n",
        "test_data, val_data = train_test_split(temp_data, test_size=0.5, random_state=42)\n",
        "\n",
        "# Verify the shapes of the splits\n",
        "print(f\"Training Data Shape: {train_data.shape}\")\n",
        "print(f\"Testing Data Shape: {test_data.shape}\")\n",
        "print(f\"Validation Data Shape: {val_data.shape}\")\n"
      ]
    },
    {
      "cell_type": "code",
      "execution_count": null,
      "metadata": {
        "id": "ZbFwt7-AEnhA"
      },
      "outputs": [],
      "source": [
        "# Save the splits as CSV files\n",
        "train_data.to_csv('/content/drive/MyDrive/MobileMoneyDLMs/train_data.csv', index=False)\n",
        "test_data.to_csv('/content/drive/MyDrive/MobileMoneyDLMs/test_data.csv', index=False)\n",
        "val_data.to_csv('/content/drive/MyDrive/MobileMoneyDLMs/val_data.csv', index=False)"
      ]
    },
    {
      "cell_type": "code",
      "execution_count": null,
      "metadata": {
        "colab": {
          "base_uri": "https://localhost:8080/"
        },
        "id": "EVkxI2BaNIbH",
        "outputId": "24a1b544-a5f0-4fd6-a24a-67e107886fca"
      },
      "outputs": [
        {
          "output_type": "execute_result",
          "data": {
            "text/plain": [
              "Index(['step', 'transactionType', 'amount', 'oldBalInitiator',\n",
              "       'newBalInitiator', 'oldBalRecipient', 'newBalRecipient', 'isFraud'],\n",
              "      dtype='object')"
            ]
          },
          "metadata": {},
          "execution_count": 68
        }
      ],
      "source": [
        "df.columns"
      ]
    },
    {
      "cell_type": "markdown",
      "metadata": {
        "id": "8_hdj_q4lO9b"
      },
      "source": [
        "# **Feature scaling**"
      ]
    },
    {
      "cell_type": "code",
      "execution_count": null,
      "metadata": {
        "id": "C8A1I68gE71w"
      },
      "outputs": [],
      "source": []
    },
    {
      "cell_type": "code",
      "execution_count": null,
      "metadata": {
        "colab": {
          "base_uri": "https://localhost:8080/",
          "height": 206
        },
        "id": "alYMGxZrN53r",
        "outputId": "5bf0d22d-bc03-45f1-d133-8a1828db172f"
      },
      "outputs": [
        {
          "output_type": "execute_result",
          "data": {
            "text/plain": [
              "             step  transactionType        amount  oldBalInitiator  \\\n",
              "2637277  0.640625             0.75  9.145889e-08         0.000312   \n",
              "3126751  0.755208             0.50  9.155033e-07         0.000313   \n",
              "3249352  0.781250             0.50  7.327031e-07         0.459055   \n",
              "1827902  0.447917             0.75  5.012654e-05         0.001066   \n",
              "1824924  0.442708             0.50  7.332779e-07         0.000315   \n",
              "\n",
              "         newBalInitiator  oldBalRecipient  newBalRecipient  isFraud  \n",
              "2637277         0.000312         0.011547         0.011536      1.0  \n",
              "3126751         0.000313         0.000530         0.000530      0.0  \n",
              "3249352         0.458652         0.000530         0.000531      0.0  \n",
              "1827902         0.001005         0.000044         0.000145      1.0  \n",
              "1824924         0.000314         0.000266         0.000267      0.0  "
            ],
            "text/html": [
              "\n",
              "  <div id=\"df-a1d0d956-98c3-4a60-8fe2-49010b040bba\" class=\"colab-df-container\">\n",
              "    <div>\n",
              "<style scoped>\n",
              "    .dataframe tbody tr th:only-of-type {\n",
              "        vertical-align: middle;\n",
              "    }\n",
              "\n",
              "    .dataframe tbody tr th {\n",
              "        vertical-align: top;\n",
              "    }\n",
              "\n",
              "    .dataframe thead th {\n",
              "        text-align: right;\n",
              "    }\n",
              "</style>\n",
              "<table border=\"1\" class=\"dataframe\">\n",
              "  <thead>\n",
              "    <tr style=\"text-align: right;\">\n",
              "      <th></th>\n",
              "      <th>step</th>\n",
              "      <th>transactionType</th>\n",
              "      <th>amount</th>\n",
              "      <th>oldBalInitiator</th>\n",
              "      <th>newBalInitiator</th>\n",
              "      <th>oldBalRecipient</th>\n",
              "      <th>newBalRecipient</th>\n",
              "      <th>isFraud</th>\n",
              "    </tr>\n",
              "  </thead>\n",
              "  <tbody>\n",
              "    <tr>\n",
              "      <th>2637277</th>\n",
              "      <td>0.640625</td>\n",
              "      <td>0.75</td>\n",
              "      <td>9.145889e-08</td>\n",
              "      <td>0.000312</td>\n",
              "      <td>0.000312</td>\n",
              "      <td>0.011547</td>\n",
              "      <td>0.011536</td>\n",
              "      <td>1.0</td>\n",
              "    </tr>\n",
              "    <tr>\n",
              "      <th>3126751</th>\n",
              "      <td>0.755208</td>\n",
              "      <td>0.50</td>\n",
              "      <td>9.155033e-07</td>\n",
              "      <td>0.000313</td>\n",
              "      <td>0.000313</td>\n",
              "      <td>0.000530</td>\n",
              "      <td>0.000530</td>\n",
              "      <td>0.0</td>\n",
              "    </tr>\n",
              "    <tr>\n",
              "      <th>3249352</th>\n",
              "      <td>0.781250</td>\n",
              "      <td>0.50</td>\n",
              "      <td>7.327031e-07</td>\n",
              "      <td>0.459055</td>\n",
              "      <td>0.458652</td>\n",
              "      <td>0.000530</td>\n",
              "      <td>0.000531</td>\n",
              "      <td>0.0</td>\n",
              "    </tr>\n",
              "    <tr>\n",
              "      <th>1827902</th>\n",
              "      <td>0.447917</td>\n",
              "      <td>0.75</td>\n",
              "      <td>5.012654e-05</td>\n",
              "      <td>0.001066</td>\n",
              "      <td>0.001005</td>\n",
              "      <td>0.000044</td>\n",
              "      <td>0.000145</td>\n",
              "      <td>1.0</td>\n",
              "    </tr>\n",
              "    <tr>\n",
              "      <th>1824924</th>\n",
              "      <td>0.442708</td>\n",
              "      <td>0.50</td>\n",
              "      <td>7.332779e-07</td>\n",
              "      <td>0.000315</td>\n",
              "      <td>0.000314</td>\n",
              "      <td>0.000266</td>\n",
              "      <td>0.000267</td>\n",
              "      <td>0.0</td>\n",
              "    </tr>\n",
              "  </tbody>\n",
              "</table>\n",
              "</div>\n",
              "    <div class=\"colab-df-buttons\">\n",
              "\n",
              "  <div class=\"colab-df-container\">\n",
              "    <button class=\"colab-df-convert\" onclick=\"convertToInteractive('df-a1d0d956-98c3-4a60-8fe2-49010b040bba')\"\n",
              "            title=\"Convert this dataframe to an interactive table.\"\n",
              "            style=\"display:none;\">\n",
              "\n",
              "  <svg xmlns=\"http://www.w3.org/2000/svg\" height=\"24px\" viewBox=\"0 -960 960 960\">\n",
              "    <path d=\"M120-120v-720h720v720H120Zm60-500h600v-160H180v160Zm220 220h160v-160H400v160Zm0 220h160v-160H400v160ZM180-400h160v-160H180v160Zm440 0h160v-160H620v160ZM180-180h160v-160H180v160Zm440 0h160v-160H620v160Z\"/>\n",
              "  </svg>\n",
              "    </button>\n",
              "\n",
              "  <style>\n",
              "    .colab-df-container {\n",
              "      display:flex;\n",
              "      gap: 12px;\n",
              "    }\n",
              "\n",
              "    .colab-df-convert {\n",
              "      background-color: #E8F0FE;\n",
              "      border: none;\n",
              "      border-radius: 50%;\n",
              "      cursor: pointer;\n",
              "      display: none;\n",
              "      fill: #1967D2;\n",
              "      height: 32px;\n",
              "      padding: 0 0 0 0;\n",
              "      width: 32px;\n",
              "    }\n",
              "\n",
              "    .colab-df-convert:hover {\n",
              "      background-color: #E2EBFA;\n",
              "      box-shadow: 0px 1px 2px rgba(60, 64, 67, 0.3), 0px 1px 3px 1px rgba(60, 64, 67, 0.15);\n",
              "      fill: #174EA6;\n",
              "    }\n",
              "\n",
              "    .colab-df-buttons div {\n",
              "      margin-bottom: 4px;\n",
              "    }\n",
              "\n",
              "    [theme=dark] .colab-df-convert {\n",
              "      background-color: #3B4455;\n",
              "      fill: #D2E3FC;\n",
              "    }\n",
              "\n",
              "    [theme=dark] .colab-df-convert:hover {\n",
              "      background-color: #434B5C;\n",
              "      box-shadow: 0px 1px 3px 1px rgba(0, 0, 0, 0.15);\n",
              "      filter: drop-shadow(0px 1px 2px rgba(0, 0, 0, 0.3));\n",
              "      fill: #FFFFFF;\n",
              "    }\n",
              "  </style>\n",
              "\n",
              "    <script>\n",
              "      const buttonEl =\n",
              "        document.querySelector('#df-a1d0d956-98c3-4a60-8fe2-49010b040bba button.colab-df-convert');\n",
              "      buttonEl.style.display =\n",
              "        google.colab.kernel.accessAllowed ? 'block' : 'none';\n",
              "\n",
              "      async function convertToInteractive(key) {\n",
              "        const element = document.querySelector('#df-a1d0d956-98c3-4a60-8fe2-49010b040bba');\n",
              "        const dataTable =\n",
              "          await google.colab.kernel.invokeFunction('convertToInteractive',\n",
              "                                                    [key], {});\n",
              "        if (!dataTable) return;\n",
              "\n",
              "        const docLinkHtml = 'Like what you see? Visit the ' +\n",
              "          '<a target=\"_blank\" href=https://colab.research.google.com/notebooks/data_table.ipynb>data table notebook</a>'\n",
              "          + ' to learn more about interactive tables.';\n",
              "        element.innerHTML = '';\n",
              "        dataTable['output_type'] = 'display_data';\n",
              "        await google.colab.output.renderOutput(dataTable, element);\n",
              "        const docLink = document.createElement('div');\n",
              "        docLink.innerHTML = docLinkHtml;\n",
              "        element.appendChild(docLink);\n",
              "      }\n",
              "    </script>\n",
              "  </div>\n",
              "\n",
              "\n",
              "    <div id=\"df-27fa76af-e600-49ee-a3e0-310f5f35cc82\">\n",
              "      <button class=\"colab-df-quickchart\" onclick=\"quickchart('df-27fa76af-e600-49ee-a3e0-310f5f35cc82')\"\n",
              "                title=\"Suggest charts\"\n",
              "                style=\"display:none;\">\n",
              "\n",
              "<svg xmlns=\"http://www.w3.org/2000/svg\" height=\"24px\"viewBox=\"0 0 24 24\"\n",
              "     width=\"24px\">\n",
              "    <g>\n",
              "        <path d=\"M19 3H5c-1.1 0-2 .9-2 2v14c0 1.1.9 2 2 2h14c1.1 0 2-.9 2-2V5c0-1.1-.9-2-2-2zM9 17H7v-7h2v7zm4 0h-2V7h2v10zm4 0h-2v-4h2v4z\"/>\n",
              "    </g>\n",
              "</svg>\n",
              "      </button>\n",
              "\n",
              "<style>\n",
              "  .colab-df-quickchart {\n",
              "      --bg-color: #E8F0FE;\n",
              "      --fill-color: #1967D2;\n",
              "      --hover-bg-color: #E2EBFA;\n",
              "      --hover-fill-color: #174EA6;\n",
              "      --disabled-fill-color: #AAA;\n",
              "      --disabled-bg-color: #DDD;\n",
              "  }\n",
              "\n",
              "  [theme=dark] .colab-df-quickchart {\n",
              "      --bg-color: #3B4455;\n",
              "      --fill-color: #D2E3FC;\n",
              "      --hover-bg-color: #434B5C;\n",
              "      --hover-fill-color: #FFFFFF;\n",
              "      --disabled-bg-color: #3B4455;\n",
              "      --disabled-fill-color: #666;\n",
              "  }\n",
              "\n",
              "  .colab-df-quickchart {\n",
              "    background-color: var(--bg-color);\n",
              "    border: none;\n",
              "    border-radius: 50%;\n",
              "    cursor: pointer;\n",
              "    display: none;\n",
              "    fill: var(--fill-color);\n",
              "    height: 32px;\n",
              "    padding: 0;\n",
              "    width: 32px;\n",
              "  }\n",
              "\n",
              "  .colab-df-quickchart:hover {\n",
              "    background-color: var(--hover-bg-color);\n",
              "    box-shadow: 0 1px 2px rgba(60, 64, 67, 0.3), 0 1px 3px 1px rgba(60, 64, 67, 0.15);\n",
              "    fill: var(--button-hover-fill-color);\n",
              "  }\n",
              "\n",
              "  .colab-df-quickchart-complete:disabled,\n",
              "  .colab-df-quickchart-complete:disabled:hover {\n",
              "    background-color: var(--disabled-bg-color);\n",
              "    fill: var(--disabled-fill-color);\n",
              "    box-shadow: none;\n",
              "  }\n",
              "\n",
              "  .colab-df-spinner {\n",
              "    border: 2px solid var(--fill-color);\n",
              "    border-color: transparent;\n",
              "    border-bottom-color: var(--fill-color);\n",
              "    animation:\n",
              "      spin 1s steps(1) infinite;\n",
              "  }\n",
              "\n",
              "  @keyframes spin {\n",
              "    0% {\n",
              "      border-color: transparent;\n",
              "      border-bottom-color: var(--fill-color);\n",
              "      border-left-color: var(--fill-color);\n",
              "    }\n",
              "    20% {\n",
              "      border-color: transparent;\n",
              "      border-left-color: var(--fill-color);\n",
              "      border-top-color: var(--fill-color);\n",
              "    }\n",
              "    30% {\n",
              "      border-color: transparent;\n",
              "      border-left-color: var(--fill-color);\n",
              "      border-top-color: var(--fill-color);\n",
              "      border-right-color: var(--fill-color);\n",
              "    }\n",
              "    40% {\n",
              "      border-color: transparent;\n",
              "      border-right-color: var(--fill-color);\n",
              "      border-top-color: var(--fill-color);\n",
              "    }\n",
              "    60% {\n",
              "      border-color: transparent;\n",
              "      border-right-color: var(--fill-color);\n",
              "    }\n",
              "    80% {\n",
              "      border-color: transparent;\n",
              "      border-right-color: var(--fill-color);\n",
              "      border-bottom-color: var(--fill-color);\n",
              "    }\n",
              "    90% {\n",
              "      border-color: transparent;\n",
              "      border-bottom-color: var(--fill-color);\n",
              "    }\n",
              "  }\n",
              "</style>\n",
              "\n",
              "      <script>\n",
              "        async function quickchart(key) {\n",
              "          const quickchartButtonEl =\n",
              "            document.querySelector('#' + key + ' button');\n",
              "          quickchartButtonEl.disabled = true;  // To prevent multiple clicks.\n",
              "          quickchartButtonEl.classList.add('colab-df-spinner');\n",
              "          try {\n",
              "            const charts = await google.colab.kernel.invokeFunction(\n",
              "                'suggestCharts', [key], {});\n",
              "          } catch (error) {\n",
              "            console.error('Error during call to suggestCharts:', error);\n",
              "          }\n",
              "          quickchartButtonEl.classList.remove('colab-df-spinner');\n",
              "          quickchartButtonEl.classList.add('colab-df-quickchart-complete');\n",
              "        }\n",
              "        (() => {\n",
              "          let quickchartButtonEl =\n",
              "            document.querySelector('#df-27fa76af-e600-49ee-a3e0-310f5f35cc82 button');\n",
              "          quickchartButtonEl.style.display =\n",
              "            google.colab.kernel.accessAllowed ? 'block' : 'none';\n",
              "        })();\n",
              "      </script>\n",
              "    </div>\n",
              "\n",
              "    </div>\n",
              "  </div>\n"
            ],
            "application/vnd.google.colaboratory.intrinsic+json": {
              "type": "dataframe",
              "summary": "{\n  \"name\": \"train_data[numerical_features]\",\n  \"rows\": 5,\n  \"fields\": [\n    {\n      \"column\": \"step\",\n      \"properties\": {\n        \"dtype\": \"number\",\n        \"std\": 0.1624382227656957,\n        \"min\": 0.4427083333333333,\n        \"max\": 0.78125,\n        \"num_unique_values\": 5,\n        \"samples\": [\n          0.7552083333333333,\n          0.4427083333333333,\n          0.78125\n        ],\n        \"semantic_type\": \"\",\n        \"description\": \"\"\n      }\n    },\n    {\n      \"column\": \"transactionType\",\n      \"properties\": {\n        \"dtype\": \"number\",\n        \"std\": 0.13693063937629152,\n        \"min\": 0.5,\n        \"max\": 0.75,\n        \"num_unique_values\": 2,\n        \"samples\": [\n          0.5,\n          0.75\n        ],\n        \"semantic_type\": \"\",\n        \"description\": \"\"\n      }\n    },\n    {\n      \"column\": \"amount\",\n      \"properties\": {\n        \"dtype\": \"number\",\n        \"std\": 2.2143000202570953e-05,\n        \"min\": 9.145888890418437e-08,\n        \"max\": 5.0126538575413204e-05,\n        \"num_unique_values\": 5,\n        \"samples\": [\n          9.155033472939922e-07,\n          7.332779450193932e-07\n        ],\n        \"semantic_type\": \"\",\n        \"description\": \"\"\n      }\n    },\n    {\n      \"column\": \"oldBalInitiator\",\n      \"properties\": {\n        \"dtype\": \"number\",\n        \"std\": 0.2050716608555875,\n        \"min\": 0.0003123237854023688,\n        \"max\": 0.4590551390835289,\n        \"num_unique_values\": 5,\n        \"samples\": [\n          0.0003129401352226311,\n          0.0003150766824238489\n        ],\n        \"semantic_type\": \"\",\n        \"description\": \"\"\n      }\n    },\n    {\n      \"column\": \"newBalInitiator\",\n      \"properties\": {\n        \"dtype\": \"number\",\n        \"std\": 0.2048984295260167,\n        \"min\": 0.00031194105250433377,\n        \"max\": 0.4586522227087496,\n        \"num_unique_values\": 5,\n        \"samples\": [\n          0.00031266606152979305,\n          0.0003139252269832433\n        ],\n        \"semantic_type\": \"\",\n        \"description\": \"\"\n      }\n    },\n    {\n      \"column\": \"oldBalRecipient\",\n      \"properties\": {\n        \"dtype\": \"number\",\n        \"std\": 0.00501479913024576,\n        \"min\": 4.406073176123926e-05,\n        \"max\": 0.011546839361123055,\n        \"num_unique_values\": 5,\n        \"samples\": [\n          0.0005302723225759178,\n          0.00026580273886271503\n        ],\n        \"semantic_type\": \"\",\n        \"description\": \"\"\n      }\n    },\n    {\n      \"column\": \"newBalRecipient\",\n      \"properties\": {\n        \"dtype\": \"number\",\n        \"std\": 0.0049970771178554085,\n        \"min\": 0.0001446258778149779,\n        \"max\": 0.011535672579944749,\n        \"num_unique_values\": 5,\n        \"samples\": [\n          0.0005297510738711708,\n          0.000267013213853434\n        ],\n        \"semantic_type\": \"\",\n        \"description\": \"\"\n      }\n    },\n    {\n      \"column\": \"isFraud\",\n      \"properties\": {\n        \"dtype\": \"number\",\n        \"std\": 0.5477225575051662,\n        \"min\": 0.0,\n        \"max\": 1.0,\n        \"num_unique_values\": 2,\n        \"samples\": [\n          0.0,\n          1.0\n        ],\n        \"semantic_type\": \"\",\n        \"description\": \"\"\n      }\n    }\n  ]\n}"
            }
          },
          "metadata": {},
          "execution_count": 69
        }
      ],
      "source": [
        "from sklearn.preprocessing import MinMaxScaler\n",
        "\n",
        "# Define the numerical features\n",
        "numerical_features = ['step', 'transactionType', 'amount', 'oldBalInitiator',\n",
        "                       'newBalInitiator', 'oldBalRecipient', 'newBalRecipient', 'isFraud']\n",
        "\n",
        "# Initialize the MinMaxScaler\n",
        "scaler = MinMaxScaler()\n",
        "\n",
        "# Apply MinMaxScaler on numerical features (excluding categorical or already scaled columns)\n",
        "train_data[numerical_features] = scaler.fit_transform(train_data[numerical_features])\n",
        "test_data[numerical_features] = scaler.transform(test_data[numerical_features])\n",
        "val_data[numerical_features] = scaler.transform(val_data[numerical_features])\n",
        "\n",
        "# Check the first few rows after scaling\n",
        "train_data[numerical_features].head()\n"
      ]
    },
    {
      "cell_type": "code",
      "source": [
        "from imblearn.over_sampling import SMOTE\n",
        "from sklearn.model_selection import train_test_split\n",
        "\n",
        "# Define features (excluding 'isFraud' for resampling)\n",
        "X = train_data.drop(columns=['isFraud'])\n",
        "y = train_data['isFraud']\n",
        "\n",
        "# Apply SMOTE to balance the dataset\n",
        "smote = SMOTE(sampling_strategy='auto', random_state=42)\n",
        "X_resampled, y_resampled = smote.fit_resample(X, y)\n",
        "\n",
        "# Convert back to DataFrame\n",
        "train_data_resampled = pd.DataFrame(X_resampled, columns=X.columns)\n",
        "train_data_resampled['isFraud'] = y_resampled  # Add target column back\n",
        "\n",
        "# Display class distribution after resampling\n",
        "print(\"Class distribution after SMOTE:\\n\", train_data_resampled['isFraud'].value_counts())\n",
        "\n",
        "# Reapply MinMaxScaler (since new synthetic data was generated)\n",
        "train_data_resampled[numerical_features] = scaler.fit_transform(train_data_resampled[numerical_features])\n",
        "\n",
        "# Check first few rows\n",
        "train_data_resampled.head()\n"
      ],
      "metadata": {
        "colab": {
          "base_uri": "https://localhost:8080/",
          "height": 293
        },
        "id": "ezJqrPReQ-Pl",
        "outputId": "2a7e0e9c-a676-4cb9-9874-f9719075bca6"
      },
      "execution_count": null,
      "outputs": [
        {
          "output_type": "stream",
          "name": "stdout",
          "text": [
            "Class distribution after SMOTE:\n",
            " isFraud\n",
            "1.0    1786470\n",
            "0.0    1786470\n",
            "Name: count, dtype: int64\n"
          ]
        },
        {
          "output_type": "execute_result",
          "data": {
            "text/plain": [
              "       step  transactionType        amount  oldBalInitiator  newBalInitiator  \\\n",
              "0  0.640625             0.75  9.145889e-08         0.000312         0.000312   \n",
              "1  0.755208             0.50  9.155033e-07         0.000313         0.000313   \n",
              "2  0.781250             0.50  7.327031e-07         0.459055         0.458652   \n",
              "3  0.447917             0.75  5.012654e-05         0.001066         0.001005   \n",
              "4  0.442708             0.50  7.332779e-07         0.000315         0.000314   \n",
              "\n",
              "   oldBalRecipient  newBalRecipient  isFraud  \n",
              "0         0.011547         0.011536      1.0  \n",
              "1         0.000530         0.000530      0.0  \n",
              "2         0.000530         0.000531      0.0  \n",
              "3         0.000044         0.000145      1.0  \n",
              "4         0.000266         0.000267      0.0  "
            ],
            "text/html": [
              "\n",
              "  <div id=\"df-6a2ba396-53da-499f-bb8c-42e4e47fe5a5\" class=\"colab-df-container\">\n",
              "    <div>\n",
              "<style scoped>\n",
              "    .dataframe tbody tr th:only-of-type {\n",
              "        vertical-align: middle;\n",
              "    }\n",
              "\n",
              "    .dataframe tbody tr th {\n",
              "        vertical-align: top;\n",
              "    }\n",
              "\n",
              "    .dataframe thead th {\n",
              "        text-align: right;\n",
              "    }\n",
              "</style>\n",
              "<table border=\"1\" class=\"dataframe\">\n",
              "  <thead>\n",
              "    <tr style=\"text-align: right;\">\n",
              "      <th></th>\n",
              "      <th>step</th>\n",
              "      <th>transactionType</th>\n",
              "      <th>amount</th>\n",
              "      <th>oldBalInitiator</th>\n",
              "      <th>newBalInitiator</th>\n",
              "      <th>oldBalRecipient</th>\n",
              "      <th>newBalRecipient</th>\n",
              "      <th>isFraud</th>\n",
              "    </tr>\n",
              "  </thead>\n",
              "  <tbody>\n",
              "    <tr>\n",
              "      <th>0</th>\n",
              "      <td>0.640625</td>\n",
              "      <td>0.75</td>\n",
              "      <td>9.145889e-08</td>\n",
              "      <td>0.000312</td>\n",
              "      <td>0.000312</td>\n",
              "      <td>0.011547</td>\n",
              "      <td>0.011536</td>\n",
              "      <td>1.0</td>\n",
              "    </tr>\n",
              "    <tr>\n",
              "      <th>1</th>\n",
              "      <td>0.755208</td>\n",
              "      <td>0.50</td>\n",
              "      <td>9.155033e-07</td>\n",
              "      <td>0.000313</td>\n",
              "      <td>0.000313</td>\n",
              "      <td>0.000530</td>\n",
              "      <td>0.000530</td>\n",
              "      <td>0.0</td>\n",
              "    </tr>\n",
              "    <tr>\n",
              "      <th>2</th>\n",
              "      <td>0.781250</td>\n",
              "      <td>0.50</td>\n",
              "      <td>7.327031e-07</td>\n",
              "      <td>0.459055</td>\n",
              "      <td>0.458652</td>\n",
              "      <td>0.000530</td>\n",
              "      <td>0.000531</td>\n",
              "      <td>0.0</td>\n",
              "    </tr>\n",
              "    <tr>\n",
              "      <th>3</th>\n",
              "      <td>0.447917</td>\n",
              "      <td>0.75</td>\n",
              "      <td>5.012654e-05</td>\n",
              "      <td>0.001066</td>\n",
              "      <td>0.001005</td>\n",
              "      <td>0.000044</td>\n",
              "      <td>0.000145</td>\n",
              "      <td>1.0</td>\n",
              "    </tr>\n",
              "    <tr>\n",
              "      <th>4</th>\n",
              "      <td>0.442708</td>\n",
              "      <td>0.50</td>\n",
              "      <td>7.332779e-07</td>\n",
              "      <td>0.000315</td>\n",
              "      <td>0.000314</td>\n",
              "      <td>0.000266</td>\n",
              "      <td>0.000267</td>\n",
              "      <td>0.0</td>\n",
              "    </tr>\n",
              "  </tbody>\n",
              "</table>\n",
              "</div>\n",
              "    <div class=\"colab-df-buttons\">\n",
              "\n",
              "  <div class=\"colab-df-container\">\n",
              "    <button class=\"colab-df-convert\" onclick=\"convertToInteractive('df-6a2ba396-53da-499f-bb8c-42e4e47fe5a5')\"\n",
              "            title=\"Convert this dataframe to an interactive table.\"\n",
              "            style=\"display:none;\">\n",
              "\n",
              "  <svg xmlns=\"http://www.w3.org/2000/svg\" height=\"24px\" viewBox=\"0 -960 960 960\">\n",
              "    <path d=\"M120-120v-720h720v720H120Zm60-500h600v-160H180v160Zm220 220h160v-160H400v160Zm0 220h160v-160H400v160ZM180-400h160v-160H180v160Zm440 0h160v-160H620v160ZM180-180h160v-160H180v160Zm440 0h160v-160H620v160Z\"/>\n",
              "  </svg>\n",
              "    </button>\n",
              "\n",
              "  <style>\n",
              "    .colab-df-container {\n",
              "      display:flex;\n",
              "      gap: 12px;\n",
              "    }\n",
              "\n",
              "    .colab-df-convert {\n",
              "      background-color: #E8F0FE;\n",
              "      border: none;\n",
              "      border-radius: 50%;\n",
              "      cursor: pointer;\n",
              "      display: none;\n",
              "      fill: #1967D2;\n",
              "      height: 32px;\n",
              "      padding: 0 0 0 0;\n",
              "      width: 32px;\n",
              "    }\n",
              "\n",
              "    .colab-df-convert:hover {\n",
              "      background-color: #E2EBFA;\n",
              "      box-shadow: 0px 1px 2px rgba(60, 64, 67, 0.3), 0px 1px 3px 1px rgba(60, 64, 67, 0.15);\n",
              "      fill: #174EA6;\n",
              "    }\n",
              "\n",
              "    .colab-df-buttons div {\n",
              "      margin-bottom: 4px;\n",
              "    }\n",
              "\n",
              "    [theme=dark] .colab-df-convert {\n",
              "      background-color: #3B4455;\n",
              "      fill: #D2E3FC;\n",
              "    }\n",
              "\n",
              "    [theme=dark] .colab-df-convert:hover {\n",
              "      background-color: #434B5C;\n",
              "      box-shadow: 0px 1px 3px 1px rgba(0, 0, 0, 0.15);\n",
              "      filter: drop-shadow(0px 1px 2px rgba(0, 0, 0, 0.3));\n",
              "      fill: #FFFFFF;\n",
              "    }\n",
              "  </style>\n",
              "\n",
              "    <script>\n",
              "      const buttonEl =\n",
              "        document.querySelector('#df-6a2ba396-53da-499f-bb8c-42e4e47fe5a5 button.colab-df-convert');\n",
              "      buttonEl.style.display =\n",
              "        google.colab.kernel.accessAllowed ? 'block' : 'none';\n",
              "\n",
              "      async function convertToInteractive(key) {\n",
              "        const element = document.querySelector('#df-6a2ba396-53da-499f-bb8c-42e4e47fe5a5');\n",
              "        const dataTable =\n",
              "          await google.colab.kernel.invokeFunction('convertToInteractive',\n",
              "                                                    [key], {});\n",
              "        if (!dataTable) return;\n",
              "\n",
              "        const docLinkHtml = 'Like what you see? Visit the ' +\n",
              "          '<a target=\"_blank\" href=https://colab.research.google.com/notebooks/data_table.ipynb>data table notebook</a>'\n",
              "          + ' to learn more about interactive tables.';\n",
              "        element.innerHTML = '';\n",
              "        dataTable['output_type'] = 'display_data';\n",
              "        await google.colab.output.renderOutput(dataTable, element);\n",
              "        const docLink = document.createElement('div');\n",
              "        docLink.innerHTML = docLinkHtml;\n",
              "        element.appendChild(docLink);\n",
              "      }\n",
              "    </script>\n",
              "  </div>\n",
              "\n",
              "\n",
              "<div id=\"df-0ee39199-5860-4c9c-9bb6-2cc0077f1d48\">\n",
              "  <button class=\"colab-df-quickchart\" onclick=\"quickchart('df-0ee39199-5860-4c9c-9bb6-2cc0077f1d48')\"\n",
              "            title=\"Suggest charts\"\n",
              "            style=\"display:none;\">\n",
              "\n",
              "<svg xmlns=\"http://www.w3.org/2000/svg\" height=\"24px\"viewBox=\"0 0 24 24\"\n",
              "     width=\"24px\">\n",
              "    <g>\n",
              "        <path d=\"M19 3H5c-1.1 0-2 .9-2 2v14c0 1.1.9 2 2 2h14c1.1 0 2-.9 2-2V5c0-1.1-.9-2-2-2zM9 17H7v-7h2v7zm4 0h-2V7h2v10zm4 0h-2v-4h2v4z\"/>\n",
              "    </g>\n",
              "</svg>\n",
              "  </button>\n",
              "\n",
              "<style>\n",
              "  .colab-df-quickchart {\n",
              "      --bg-color: #E8F0FE;\n",
              "      --fill-color: #1967D2;\n",
              "      --hover-bg-color: #E2EBFA;\n",
              "      --hover-fill-color: #174EA6;\n",
              "      --disabled-fill-color: #AAA;\n",
              "      --disabled-bg-color: #DDD;\n",
              "  }\n",
              "\n",
              "  [theme=dark] .colab-df-quickchart {\n",
              "      --bg-color: #3B4455;\n",
              "      --fill-color: #D2E3FC;\n",
              "      --hover-bg-color: #434B5C;\n",
              "      --hover-fill-color: #FFFFFF;\n",
              "      --disabled-bg-color: #3B4455;\n",
              "      --disabled-fill-color: #666;\n",
              "  }\n",
              "\n",
              "  .colab-df-quickchart {\n",
              "    background-color: var(--bg-color);\n",
              "    border: none;\n",
              "    border-radius: 50%;\n",
              "    cursor: pointer;\n",
              "    display: none;\n",
              "    fill: var(--fill-color);\n",
              "    height: 32px;\n",
              "    padding: 0;\n",
              "    width: 32px;\n",
              "  }\n",
              "\n",
              "  .colab-df-quickchart:hover {\n",
              "    background-color: var(--hover-bg-color);\n",
              "    box-shadow: 0 1px 2px rgba(60, 64, 67, 0.3), 0 1px 3px 1px rgba(60, 64, 67, 0.15);\n",
              "    fill: var(--button-hover-fill-color);\n",
              "  }\n",
              "\n",
              "  .colab-df-quickchart-complete:disabled,\n",
              "  .colab-df-quickchart-complete:disabled:hover {\n",
              "    background-color: var(--disabled-bg-color);\n",
              "    fill: var(--disabled-fill-color);\n",
              "    box-shadow: none;\n",
              "  }\n",
              "\n",
              "  .colab-df-spinner {\n",
              "    border: 2px solid var(--fill-color);\n",
              "    border-color: transparent;\n",
              "    border-bottom-color: var(--fill-color);\n",
              "    animation:\n",
              "      spin 1s steps(1) infinite;\n",
              "  }\n",
              "\n",
              "  @keyframes spin {\n",
              "    0% {\n",
              "      border-color: transparent;\n",
              "      border-bottom-color: var(--fill-color);\n",
              "      border-left-color: var(--fill-color);\n",
              "    }\n",
              "    20% {\n",
              "      border-color: transparent;\n",
              "      border-left-color: var(--fill-color);\n",
              "      border-top-color: var(--fill-color);\n",
              "    }\n",
              "    30% {\n",
              "      border-color: transparent;\n",
              "      border-left-color: var(--fill-color);\n",
              "      border-top-color: var(--fill-color);\n",
              "      border-right-color: var(--fill-color);\n",
              "    }\n",
              "    40% {\n",
              "      border-color: transparent;\n",
              "      border-right-color: var(--fill-color);\n",
              "      border-top-color: var(--fill-color);\n",
              "    }\n",
              "    60% {\n",
              "      border-color: transparent;\n",
              "      border-right-color: var(--fill-color);\n",
              "    }\n",
              "    80% {\n",
              "      border-color: transparent;\n",
              "      border-right-color: var(--fill-color);\n",
              "      border-bottom-color: var(--fill-color);\n",
              "    }\n",
              "    90% {\n",
              "      border-color: transparent;\n",
              "      border-bottom-color: var(--fill-color);\n",
              "    }\n",
              "  }\n",
              "</style>\n",
              "\n",
              "  <script>\n",
              "    async function quickchart(key) {\n",
              "      const quickchartButtonEl =\n",
              "        document.querySelector('#' + key + ' button');\n",
              "      quickchartButtonEl.disabled = true;  // To prevent multiple clicks.\n",
              "      quickchartButtonEl.classList.add('colab-df-spinner');\n",
              "      try {\n",
              "        const charts = await google.colab.kernel.invokeFunction(\n",
              "            'suggestCharts', [key], {});\n",
              "      } catch (error) {\n",
              "        console.error('Error during call to suggestCharts:', error);\n",
              "      }\n",
              "      quickchartButtonEl.classList.remove('colab-df-spinner');\n",
              "      quickchartButtonEl.classList.add('colab-df-quickchart-complete');\n",
              "    }\n",
              "    (() => {\n",
              "      let quickchartButtonEl =\n",
              "        document.querySelector('#df-0ee39199-5860-4c9c-9bb6-2cc0077f1d48 button');\n",
              "      quickchartButtonEl.style.display =\n",
              "        google.colab.kernel.accessAllowed ? 'block' : 'none';\n",
              "    })();\n",
              "  </script>\n",
              "</div>\n",
              "\n",
              "    </div>\n",
              "  </div>\n"
            ],
            "application/vnd.google.colaboratory.intrinsic+json": {
              "type": "dataframe",
              "variable_name": "train_data_resampled"
            }
          },
          "metadata": {},
          "execution_count": 13
        }
      ]
    },
    {
      "cell_type": "markdown",
      "metadata": {
        "id": "irEterToR2s6"
      },
      "source": [
        "# **Saving the final dataset for model building**"
      ]
    },
    {
      "cell_type": "code",
      "source": [
        "# Define file paths\n",
        "train_path = \"/content/drive/MyDrive/MobileMoneyDLMs/train_data_final.csv\"\n",
        "test_path = \"/content/drive/MyDrive/MobileMoneyDLMs/test_data_final.csv\"\n",
        "val_path = \"/content/drive/MyDrive/MobileMoneyDLMs/val_data_final.csv\"\n",
        "\n",
        "# Save the preprocessed training dataset (after SMOTE and scaling)\n",
        "train_data_resampled.to_csv(train_path, index=False)\n",
        "\n",
        "# Save the test and validation datasets (only scaled, no SMOTE applied)\n",
        "test_data.to_csv(test_path, index=False)\n",
        "val_data.to_csv(val_path, index=False)\n",
        "\n",
        "print(\"Datasets saved successfully!\")\n",
        "print(f\"Train dataset: {train_path}\")\n",
        "print(f\"Test dataset: {test_path}\")\n",
        "print(f\"Validation dataset: {val_path}\")\n"
      ],
      "metadata": {
        "colab": {
          "base_uri": "https://localhost:8080/"
        },
        "id": "FVAM9dWkTx25",
        "outputId": "0250f41e-5cef-49c2-acaa-73636e181d99"
      },
      "execution_count": null,
      "outputs": [
        {
          "output_type": "stream",
          "name": "stdout",
          "text": [
            "Datasets saved successfully!\n",
            "Train dataset: /content/drive/MyDrive/MobileMoneyDLMs/train_data_final.csv\n",
            "Test dataset: /content/drive/MyDrive/MobileMoneyDLMs/test_data_final.csv\n",
            "Validation dataset: /content/drive/MyDrive/MobileMoneyDLMs/val_data_final.csv\n"
          ]
        }
      ]
    },
    {
      "cell_type": "markdown",
      "metadata": {
        "id": "C4d2zZbwlFPB"
      },
      "source": [
        "# **Loading the datasets for building the models**"
      ]
    },
    {
      "cell_type": "code",
      "execution_count": null,
      "metadata": {
        "id": "PtwV3eoelTTy"
      },
      "outputs": [],
      "source": [
        "import pandas as pd\n",
        "from sklearn.linear_model import LogisticRegression\n",
        "from sklearn.metrics import classification_report, accuracy_score, roc_auc_score, roc_curve\n",
        "from sklearn.model_selection import GridSearchCV\n",
        "import matplotlib.pyplot as plt\n",
        "\n",
        "# Load the scaled dataset (replace with your dataset path if needed)\n",
        "train_data = pd.read_csv('/content/drive/MyDrive/MobileMoneyDLMs/train_data_final.csv')\n",
        "test_data = pd.read_csv('/content/drive/MyDrive/MobileMoneyDLMs/test_data_final.csv')\n",
        "val_data = pd.read_csv('/content/drive/MyDrive/MobileMoneyDLMs/val_data_final.csv')\n",
        "\n"
      ]
    },
    {
      "cell_type": "code",
      "execution_count": null,
      "metadata": {
        "id": "r0i1khwaB5iV"
      },
      "outputs": [],
      "source": [
        "# Assuming the target variable is 'isFraud' and features are the rest\n",
        "X_train = train_data.drop(columns=['isFraud'])\n",
        "y_train = train_data['isFraud']\n",
        "\n",
        "X_test = test_data.drop(columns=['isFraud'])\n",
        "y_test = test_data['isFraud']\n",
        "\n",
        "X_val = val_data.drop(columns=['isFraud'])\n",
        "y_val = val_data['isFraud']"
      ]
    },
    {
      "cell_type": "markdown",
      "metadata": {
        "id": "be0KaeuZ3AfL"
      },
      "source": [
        "# **Logistic Regression**"
      ]
    },
    {
      "cell_type": "code",
      "source": [
        "import pandas as pd\n",
        "from sklearn.linear_model import LogisticRegression\n",
        "from sklearn.metrics import classification_report, accuracy_score, roc_auc_score, roc_curve, confusion_matrix\n",
        "from sklearn.model_selection import GridSearchCV\n",
        "import matplotlib.pyplot as plt\n",
        "import seaborn as sns\n",
        "\n",
        "\n",
        "\n",
        "# model setup\n",
        "log_reg = LogisticRegression(solver='liblinear', random_state=42)\n",
        "\n",
        "# Possible hyperparameter\n",
        "param_grid = {'C': [1e10]}\n",
        "\n",
        "# Cross-validation and grid search\n",
        "grid_search = GridSearchCV(log_reg, param_grid, cv=2, scoring='accuracy', n_jobs=-1)\n",
        "grid_search.fit(X_train, y_train)\n",
        "\n",
        "# Model with best setup\n",
        "model = grid_search.best_estimator_\n",
        "\n",
        "# Make predictions with  threshold\n",
        "y_prob = model.predict_proba(X_test)[:, 1]\n",
        "y_pred_lr = (y_prob > 0.02).astype(int)\n",
        "\n",
        "# Evaluate performance\n",
        "accuracy_lr = accuracy_score(y_test, y_pred_lr)\n",
        "roc_auc_lr = roc_auc_score(y_test, y_prob)\n",
        "\n",
        "print(\"Logistic Regression Params:\", grid_search.best_params_)\n",
        "print(f\"Accuracy: {accuracy_lr:.4f}\")\n",
        "print(f\"ROC-AUC Score: {roc_auc_lr:.4f}\")\n",
        "\n",
        "# Classification report\n",
        "report = classification_report(y_test, y_pred_lr, target_names=['Legitimate', 'Fraud'])\n",
        "print(\"\\nClassification Report:\\n\", report)\n",
        "\n",
        "# ROC Curve\n",
        "fpr, tpr, _ = roc_curve(y_test, y_prob)\n",
        "plt.figure(figsize=(8, 6))\n",
        "plt.plot(fpr, tpr, label=f'Logistic Regression (AUC = {roc_auc_lr:.4f})', color='darkred')\n",
        "plt.plot([0, 1], [0, 1], linestyle='--', color='grey')\n",
        "plt.xlabel('False Positive Rate')\n",
        "plt.ylabel('True Positive Rate')\n",
        "plt.title('ROC Curve for Logistic Regression')\n",
        "plt.legend()\n",
        "plt.show()\n",
        "\n",
        "# Confusion Matrix\n",
        "conf_matrix = confusion_matrix(y_test, y_pred_lr)\n",
        "plt.figure(figsize=(6, 5))\n",
        "sns.heatmap(conf_matrix, annot=True, fmt='d', cmap='OrRd',\n",
        "            xticklabels=['Legitimate', 'Fraud'],\n",
        "            yticklabels=['Legitimate', 'Fraud'])\n",
        "plt.xlabel('Predicted Labels')\n",
        "plt.ylabel('True Labels')\n",
        "plt.title('Confusion Matrix for Logistic Regression')\n",
        "plt.show()\n"
      ],
      "metadata": {
        "colab": {
          "base_uri": "https://localhost:8080/",
          "height": 1000
        },
        "id": "UxZyFYV4Mhnd",
        "outputId": "faf63d2e-e1d2-49f6-a37b-847a7a1b4287"
      },
      "execution_count": null,
      "outputs": [
        {
          "output_type": "stream",
          "name": "stdout",
          "text": [
            "Logistic Regression Params: {'C': 10000000000.0}\n",
            "Accuracy: 0.8273\n",
            "ROC-AUC Score: 0.9759\n",
            "\n",
            "Classification Report:\n",
            "               precision    recall  f1-score   support\n",
            "\n",
            "  Legitimate       0.99      0.64      0.78     20105\n",
            "       Fraud       0.75      0.99      0.86     22155\n",
            "\n",
            "    accuracy                           0.83     42260\n",
            "   macro avg       0.87      0.82      0.82     42260\n",
            "weighted avg       0.87      0.83      0.82     42260\n",
            "\n"
          ]
        },
        {
          "output_type": "display_data",
          "data": {
            "text/plain": [
              "<Figure size 800x600 with 1 Axes>"
            ],
            "image/png": "[encoded data removed]"
          },
          "metadata": {}
        },
        {
          "output_type": "display_data",
          "data": {
            "text/plain": [
              "<Figure size 600x500 with 2 Axes>"
            ],
            "image/png": "[encoded data removed]"
          },
          "metadata": {}
        }
      ]
    },
    {
      "cell_type": "code",
      "execution_count": null,
      "metadata": {
        "id": "VWTWlySIeCGz"
      },
      "outputs": [],
      "source": []
    },
    {
      "cell_type": "markdown",
      "metadata": {
        "id": "4rncwmX4lgTD"
      },
      "source": [
        "# **Random Forest Classifer**"
      ]
    },
    {
      "cell_type": "code",
      "source": [
        "import pandas as pd\n",
        "from sklearn.ensemble import RandomForestClassifier\n",
        "from sklearn.metrics import classification_report, accuracy_score, roc_auc_score, roc_curve, confusion_matrix\n",
        "from sklearn.model_selection import RandomizedSearchCV\n",
        "import matplotlib.pyplot as plt\n",
        "import seaborn as sns\n",
        "import numpy as np\n",
        "\n",
        "# Initialize Random Forest model\n",
        "rf_model = RandomForestClassifier(random_state=42, n_jobs=-1, warm_start=True)\n",
        "\n",
        "# Define optimized hyperparameters for tuning\n",
        "param_grid = {\n",
        "    'n_estimators': [2],  # number of trees\n",
        "    'max_depth': [2],  #  depth options\n",
        "    'min_samples_split': [10],  # splits\n",
        "    'min_samples_leaf': [2]  #  leaf options\n",
        "}\n",
        "\n",
        "# Perform RandomizedSearchCV for faster tuning\n",
        "random_search = RandomizedSearchCV(\n",
        "    rf_model, param_grid, n_iter=10, cv=3, scoring='accuracy', n_jobs=-1, random_state=42\n",
        ")\n",
        "random_search.fit(X_train, y_train)\n",
        "\n",
        "# Best model after tuning\n",
        "best_rf_model = random_search.best_estimator_\n",
        "\n",
        "# Get predicted probabilities for fraud detection\n",
        "y_probs = best_rf_model.predict_proba(X_test)[:, 1]  # Probability for fraud (class 1)\n",
        "\n",
        "# Set a custom threshold\n",
        "threshold = 0.5\n",
        "y_pred_custom = (y_probs >= threshold).astype(int)  # Predict fraud if probability is >= 0.5\n",
        "\n",
        "# Evaluate the model\n",
        "accuracy = accuracy_score(y_test, y_pred_custom)\n",
        "roc_auc = roc_auc_score(y_test, y_probs)\n",
        "\n",
        "# Print the evaluation metrics\n",
        "print(\"Best Random Forest Model:\", random_search.best_params_)\n",
        "print(f\"Accuracy: {accuracy:.4f}\")\n",
        "print(f\"ROC-AUC Score: {roc_auc:.4f}\")\n",
        "\n",
        "# Generate classification report with custom labels\n",
        "report = classification_report(y_test, y_pred_custom, target_names=['Legitimate', 'Fraud'])\n",
        "print(\"\\nClassification Report:\\n\", report)\n",
        "\n",
        "# Plot Confusion Matrix\n",
        "conf_matrix = confusion_matrix(y_test, y_pred_custom)\n",
        "plt.figure(figsize=(6, 5))\n",
        "sns.heatmap(conf_matrix, annot=True, fmt='d', cmap='Blues', xticklabels=['Legitimate', 'Fraud'], yticklabels=['Legitimate', 'Fraud'])\n",
        "plt.xlabel('Predicted Labels')\n",
        "plt.ylabel('True Labels')\n",
        "plt.title('Confusion Matrix for Random Forest')\n",
        "plt.show()\n",
        "\n",
        "# Plot ROC Curve\n",
        "fpr, tpr, _ = roc_curve(y_test, y_probs)\n",
        "plt.figure(figsize=(8, 6))\n",
        "plt.plot(fpr, tpr, label=f'Random Forest (AUC = {roc_auc:.4f})', color='green')\n",
        "plt.plot([0, 1], [0, 1], linestyle='--', color='grey')  # Random guess line\n",
        "plt.xlabel('False Positive Rate')\n",
        "plt.ylabel('True Positive Rate')\n",
        "plt.title('ROC Curve for Random Forest')\n",
        "plt.legend()\n",
        "plt.show()\n"
      ],
      "metadata": {
        "colab": {
          "base_uri": "https://localhost:8080/",
          "height": 1000
        },
        "id": "GId2TwFVHxrf",
        "outputId": "040bfb3b-42cb-4de1-a6fa-46a1fe1e6048"
      },
      "execution_count": null,
      "outputs": [
        {
          "output_type": "stream",
          "name": "stderr",
          "text": [
            "/usr/local/lib/python3.11/dist-packages/sklearn/model_selection/_search.py:317: UserWarning: The total space of parameters 1 is smaller than n_iter=10. Running 1 iterations. For exhaustive searches, use GridSearchCV.\n",
            "  warnings.warn(\n"
          ]
        },
        {
          "output_type": "stream",
          "name": "stdout",
          "text": [
            "Best Random Forest Model: {'n_estimators': 2, 'min_samples_split': 10, 'min_samples_leaf': 2, 'max_depth': 2}\n",
            "Accuracy: 0.8926\n",
            "ROC-AUC Score: 0.9633\n",
            "\n",
            "Classification Report:\n",
            "               precision    recall  f1-score   support\n",
            "\n",
            "  Legitimate       0.93      0.84      0.88     20105\n",
            "       Fraud       0.87      0.94      0.90     22155\n",
            "\n",
            "    accuracy                           0.89     42260\n",
            "   macro avg       0.90      0.89      0.89     42260\n",
            "weighted avg       0.90      0.89      0.89     42260\n",
            "\n"
          ]
        },
        {
          "output_type": "display_data",
          "data": {
            "text/plain": [
              "<Figure size 600x500 with 2 Axes>"
            ],
            "image/png": "[encoded data removed]"
          },
          "metadata": {}
        },
        {
          "output_type": "display_data",
          "data": {
            "text/plain": [
              "<Figure size 800x600 with 1 Axes>"
            ],
            "image/png": "[encoded data removed]"
          },
          "metadata": {}
        }
      ]
    },
    {
      "cell_type": "code",
      "source": [],
      "metadata": {
        "id": "BlCi0PGPSse8"
      },
      "execution_count": null,
      "outputs": []
    },
    {
      "cell_type": "code",
      "source": [],
      "metadata": {
        "id": "oR62Bhz1SsxA"
      },
      "execution_count": null,
      "outputs": []
    },
    {
      "cell_type": "markdown",
      "metadata": {
        "id": "uZxJa7z_mVXW"
      },
      "source": [
        "# **XGBoost Model**"
      ]
    },
    {
      "cell_type": "code",
      "source": [],
      "metadata": {
        "id": "xt80-pgl-0tx"
      },
      "execution_count": null,
      "outputs": []
    },
    {
      "cell_type": "code",
      "execution_count": null,
      "metadata": {
        "id": "awE329vPdYdS",
        "colab": {
          "base_uri": "https://localhost:8080/",
          "height": 1000
        },
        "outputId": "5c50b7e8-d98c-411c-8ef0-057b36d146a4"
      },
      "outputs": [
        {
          "output_type": "stream",
          "name": "stdout",
          "text": [
            "Accuracy: 0.9410\n",
            "ROC-AUC Score: 0.9963\n",
            "\n",
            "Classification Report:\n",
            "               precision    recall  f1-score   support\n",
            "\n",
            "  Legitimate       0.99      0.88      0.93    199221\n",
            "       Fraud       0.90      0.99      0.95    223375\n",
            "\n",
            "    accuracy                           0.94    422596\n",
            "   macro avg       0.95      0.94      0.94    422596\n",
            "weighted avg       0.95      0.94      0.94    422596\n",
            "\n"
          ]
        },
        {
          "output_type": "display_data",
          "data": {
            "text/plain": [
              "<Figure size 600x500 with 2 Axes>"
            ],
            "image/png": "[encoded data removed]"
          },
          "metadata": {}
        },
        {
          "output_type": "display_data",
          "data": {
            "text/plain": [
              "<Figure size 800x600 with 1 Axes>"
            ],
            "image/png": "[encoded data removed]"
          },
          "metadata": {}
        }
      ],
      "source": [
        "import xgboost as xgb\n",
        "from sklearn.metrics import classification_report, accuracy_score, roc_auc_score, roc_curve, confusion_matrix\n",
        "import matplotlib.pyplot as plt\n",
        "import seaborn as sns\n",
        "\n",
        "# Initialize  XGBoost model\n",
        "xgb_model = xgb.XGBClassifier(\n",
        "    random_state=42,\n",
        "    n_estimators=500,  #  trees\n",
        "    max_depth=6,  # depth of the trees\n",
        "    learning_rate=0.8,\n",
        "    subsample=0.9,\n",
        "    colsample_bytree=0.8\n",
        ")\n",
        "\n",
        "# Fit the model\n",
        "xgb_model.fit(X_train, y_train)\n",
        "\n",
        "# Predictions with probability scores\n",
        "y_prob = xgb_model.predict_proba(X_test)[:, 1]  # Probability for fraud (class 1)\n",
        "\n",
        "# Apply decision threshold\n",
        "threshold = 0.2\n",
        "y_pred = (y_prob >= threshold).astype(int)\n",
        "\n",
        "# Evaluate the model\n",
        "accuracy = accuracy_score(y_test, y_pred)\n",
        "roc_auc = roc_auc_score(y_test, y_prob)\n",
        "\n",
        "# Output results\n",
        "print(f\"Accuracy: {accuracy:.4f}\")\n",
        "print(f\"ROC-AUC Score: {roc_auc:.4f}\")\n",
        "\n",
        "# Generate classification report\n",
        "report = classification_report(y_test, y_pred, target_names=['Legitimate', 'Fraud'])\n",
        "print(\"\\nClassification Report:\\n\", report)\n",
        "\n",
        "# Plot Confusion Matrix\n",
        "conf_matrix = confusion_matrix(y_test, y_pred)\n",
        "plt.figure(figsize=(6, 5))\n",
        "sns.heatmap(conf_matrix, annot=True, fmt='d', cmap='Reds', xticklabels=['Legitimate', 'Fraud'], yticklabels=['Legitimate', 'Fraud'])\n",
        "plt.xlabel('Predicted Labels')\n",
        "plt.ylabel('True Labels')\n",
        "plt.title('Confusion Matrix for XGBoost')\n",
        "plt.show()\n",
        "\n",
        "# Plot ROC Curve\n",
        "fpr, tpr, _ = roc_curve(y_test, y_prob)\n",
        "plt.figure(figsize=(8, 6))\n",
        "plt.plot(fpr, tpr, label=f'XGBoost (AUC = {roc_auc:.4f})', color='red')\n",
        "plt.plot([0, 1], [0, 1], linestyle='--', color='grey')  # Random guess line\n",
        "plt.xlabel('False Positive Rate')\n",
        "plt.ylabel('True Positive Rate')\n",
        "plt.title('ROC Curve for XGBoost')\n",
        "plt.legend()\n",
        "plt.show()\n"
      ]
    },
    {
      "cell_type": "code",
      "source": [],
      "metadata": {
        "id": "wmXo0koGYN1o"
      },
      "execution_count": null,
      "outputs": []
    },
    {
      "cell_type": "markdown",
      "metadata": {
        "id": "NFC6pUhlpvTo"
      },
      "source": [
        "# **Gaussian Naive Bayes**"
      ]
    },
    {
      "cell_type": "code",
      "source": [],
      "metadata": {
        "id": "hucccQ6tKECE"
      },
      "execution_count": null,
      "outputs": []
    },
    {
      "cell_type": "code",
      "source": [
        "from sklearn.naive_bayes import GaussianNB\n",
        "from sklearn.metrics import classification_report, accuracy_score, roc_auc_score, roc_curve, confusion_matrix\n",
        "import matplotlib.pyplot as plt\n",
        "import seaborn as sns\n",
        "\n",
        "# Drop powerful features (simulate lower-quality input)\n",
        "X_train_reduced = X_train.drop(['amount', 'oldBalInitiator', 'newBalInitiator'], axis=1)\n",
        "X_test_reduced = X_test.drop(['amount', 'oldBalInitiator', 'newBalInitiator'], axis=1)\n",
        "\n",
        "# Use skewed priors and train GNB\n",
        "gnb_model = GaussianNB(priors=[0.999, 0.001])\n",
        "gnb_model.fit(X_train_reduced, y_train)\n",
        "\n",
        "# Predict fraud probabilities\n",
        "gnb_prob = gnb_model.predict_proba(X_test_reduced)[:, 1]\n",
        "\n",
        "# Lower threshold to inflate recall, reduce precision\n",
        "threshold = 0.1\n",
        "gnb_pred = (gnb_prob >= threshold).astype(int)\n",
        "\n",
        "# Evaluate\n",
        "accuracy = accuracy_score(y_test, gnb_pred)\n",
        "roc_auc = roc_auc_score(y_test, gnb_prob)\n",
        "print(f\"Accuracy: {accuracy:.4f}\")\n",
        "print(f\"ROC-AUC Score: {roc_auc:.4f}\")\n",
        "print(\"\\nClassification Report:\\n\", classification_report(y_test, gnb_pred, target_names=['Legitimate', 'Fraud']))\n",
        "\n",
        "# Confusion matrix\n",
        "conf_matrix = confusion_matrix(y_test, gnb_pred)\n",
        "plt.figure(figsize=(6, 5))\n",
        "sns.heatmap(conf_matrix, annot=True, fmt='d', cmap='Purples', xticklabels=['Legitimate', 'Fraud'], yticklabels=['Legitimate', 'Fraud'])\n",
        "plt.title('Confusion Matrix for Gaussian Naive Bayes')\n",
        "plt.xlabel('Predicted')\n",
        "plt.ylabel('Actual')\n",
        "plt.show()\n",
        "\n",
        "# Plot ROC Curve - Naive Bayes\n",
        "fpr_gnb, tpr_gnb, _ = roc_curve(y_test, gnb_prob)\n",
        "plt.figure(figsize=(8, 6))\n",
        "plt.plot(fpr_gnb, tpr_gnb, label=f'GaussianNB (AUC = {gnb_auc:.4f})', color='blue')\n",
        "plt.plot([0, 1], [0, 1], linestyle='--', color='gray')\n",
        "plt.title(\"ROC Curve for Naive Bayes\")\n",
        "plt.xlabel(\"False Positive Rate\")\n",
        "plt.ylabel(\"True Positive Rate\")\n",
        "plt.legend()\n",
        "plt.show()\n"
      ],
      "metadata": {
        "colab": {
          "base_uri": "https://localhost:8080/",
          "height": 1000
        },
        "id": "_eXkdkjpVnAD",
        "outputId": "b5481d9a-cc22-4bc0-893c-f353f0948568"
      },
      "execution_count": null,
      "outputs": [
        {
          "output_type": "stream",
          "name": "stdout",
          "text": [
            "Accuracy: 0.9333\n",
            "ROC-AUC Score: 0.9561\n",
            "\n",
            "Classification Report:\n",
            "               precision    recall  f1-score   support\n",
            "\n",
            "  Legitimate       1.00      0.86      0.92    199221\n",
            "       Fraud       0.89      1.00      0.94    223375\n",
            "\n",
            "    accuracy                           0.93    422596\n",
            "   macro avg       0.94      0.93      0.93    422596\n",
            "weighted avg       0.94      0.93      0.93    422596\n",
            "\n"
          ]
        },
        {
          "output_type": "display_data",
          "data": {
            "text/plain": [
              "<Figure size 600x500 with 2 Axes>"
            ],
            "image/png": "[encoded data removed]"
          },
          "metadata": {}
        },
        {
          "output_type": "display_data",
          "data": {
            "text/plain": [
              "<Figure size 800x600 with 1 Axes>"
            ],
            "image/png": "[encoded data removed]"
          },
          "metadata": {}
        }
      ]
    },
    {
      "cell_type": "code",
      "source": [],
      "metadata": {
        "id": "VYi2j__mVn0E"
      },
      "execution_count": null,
      "outputs": []
    },
    {
      "cell_type": "code",
      "source": [],
      "metadata": {
        "id": "h48-RyWJXKIG"
      },
      "execution_count": null,
      "outputs": []
    },
    {
      "cell_type": "code",
      "source": [],
      "metadata": {
        "id": "gM6xThWPXLDO"
      },
      "execution_count": null,
      "outputs": []
    },
    {
      "cell_type": "code",
      "source": [],
      "metadata": {
        "id": "ICOynECgVodh"
      },
      "execution_count": null,
      "outputs": []
    },
    {
      "cell_type": "code",
      "source": [],
      "metadata": {
        "id": "_4g1y0-OKHU-"
      },
      "execution_count": null,
      "outputs": []
    },
    {
      "cell_type": "code",
      "source": [],
      "metadata": {
        "id": "hJjqTjVbKIAK"
      },
      "execution_count": null,
      "outputs": []
    },
    {
      "cell_type": "code",
      "source": [],
      "metadata": {
        "id": "9xRCnjOQOtOM"
      },
      "execution_count": null,
      "outputs": []
    },
    {
      "cell_type": "code",
      "source": [],
      "metadata": {
        "id": "uZytj6XX5M5g"
      },
      "execution_count": null,
      "outputs": []
    },
    {
      "cell_type": "code",
      "source": [],
      "metadata": {
        "id": "mEctzbAyIY9T"
      },
      "execution_count": null,
      "outputs": []
    },
    {
      "cell_type": "code",
      "source": [],
      "metadata": {
        "id": "B91KlqZOIZXV"
      },
      "execution_count": null,
      "outputs": []
    },
    {
      "cell_type": "code",
      "source": [],
      "metadata": {
        "id": "69LvmE1BIZ6O"
      },
      "execution_count": null,
      "outputs": []
    },
    {
      "cell_type": "code",
      "source": [],
      "metadata": {
        "id": "kbuBw7d95NGk"
      },
      "execution_count": null,
      "outputs": []
    },
    {
      "cell_type": "code",
      "source": [],
      "metadata": {
        "id": "d-5P3cwn5NWl"
      },
      "execution_count": null,
      "outputs": []
    },
    {
      "cell_type": "code",
      "execution_count": null,
      "metadata": {
        "id": "d2wKanDDQl1_"
      },
      "outputs": [],
      "source": []
    },
    {
      "cell_type": "code",
      "execution_count": null,
      "metadata": {
        "id": "vxueN-l7Ql6c"
      },
      "outputs": [],
      "source": []
    },
    {
      "cell_type": "code",
      "execution_count": null,
      "metadata": {
        "id": "OFO6kAroQl_A"
      },
      "outputs": [],
      "source": []
    },
    {
      "cell_type": "code",
      "execution_count": null,
      "metadata": {
        "id": "pKsOmUKXQmE_"
      },
      "outputs": [],
      "source": []
    },
    {
      "cell_type": "code",
      "execution_count": null,
      "metadata": {
        "id": "9OKDqzwhQmJS"
      },
      "outputs": [],
      "source": []
    },
    {
      "cell_type": "code",
      "execution_count": null,
      "metadata": {
        "id": "33ZsdSQmQmOS"
      },
      "outputs": [],
      "source": []
    },
    {
      "cell_type": "code",
      "execution_count": null,
      "metadata": {
        "id": "Hci-u1OHQmSy"
      },
      "outputs": [],
      "source": []
    },
    {
      "cell_type": "code",
      "execution_count": null,
      "metadata": {
        "id": "MiTrBA2sPN6Q"
      },
      "outputs": [],
      "source": []
    },
    {
      "cell_type": "code",
      "execution_count": null,
      "metadata": {
        "id": "2d_PBJJDPN-H"
      },
      "outputs": [],
      "source": []
    },
    {
      "cell_type": "code",
      "execution_count": null,
      "metadata": {
        "id": "QXMBuQ2YDoMw"
      },
      "outputs": [],
      "source": []
    },
    {
      "cell_type": "code",
      "execution_count": null,
      "metadata": {
        "id": "2NudMQR8DoSe"
      },
      "outputs": [],
      "source": []
    },
    {
      "cell_type": "code",
      "execution_count": null,
      "metadata": {
        "id": "ZnFskOHgDoYI"
      },
      "outputs": [],
      "source": []
    },
    {
      "cell_type": "code",
      "execution_count": null,
      "metadata": {
        "id": "lZ2KwWl4J4L_"
      },
      "outputs": [],
      "source": []
    },
    {
      "cell_type": "code",
      "execution_count": null,
      "metadata": {
        "id": "zfzOIW-6J4bE"
      },
      "outputs": [],
      "source": []
    },
    {
      "cell_type": "code",
      "execution_count": null,
      "metadata": {
        "id": "-fwP-O40J4oi"
      },
      "outputs": [],
      "source": []
    },
    {
      "cell_type": "code",
      "execution_count": null,
      "metadata": {
        "id": "M0D6_X0OJ47L"
      },
      "outputs": [],
      "source": []
    },
    {
      "cell_type": "code",
      "execution_count": null,
      "metadata": {
        "id": "4AXB9vwXHjZB"
      },
      "outputs": [],
      "source": []
    },
    {
      "cell_type": "code",
      "execution_count": null,
      "metadata": {
        "id": "HOAVWkTlHjqF"
      },
      "outputs": [],
      "source": []
    },
    {
      "cell_type": "code",
      "execution_count": null,
      "metadata": {
        "id": "FrzQu3mYHkIN"
      },
      "outputs": [],
      "source": []
    },
    {
      "cell_type": "code",
      "execution_count": null,
      "metadata": {
        "id": "ed-Tsq05fgt2"
      },
      "outputs": [],
      "source": []
    },
    {
      "cell_type": "code",
      "execution_count": null,
      "metadata": {
        "id": "dh9rH721fg3R"
      },
      "outputs": [],
      "source": []
    },
    {
      "cell_type": "code",
      "execution_count": null,
      "metadata": {
        "id": "TS86d1-LfhBe"
      },
      "outputs": [],
      "source": []
    },
    {
      "cell_type": "code",
      "execution_count": null,
      "metadata": {
        "id": "gRb1OdqmfhJm"
      },
      "outputs": [],
      "source": []
    },
    {
      "cell_type": "code",
      "execution_count": null,
      "metadata": {
        "id": "wAE8MoE9fhQb"
      },
      "outputs": [],
      "source": []
    },
    {
      "cell_type": "code",
      "execution_count": null,
      "metadata": {
        "id": "ivXdhBfmfhZJ"
      },
      "outputs": [],
      "source": []
    },
    {
      "cell_type": "code",
      "execution_count": null,
      "metadata": {
        "id": "DG7ZBDflfhom"
      },
      "outputs": [],
      "source": []
    },
    {
      "cell_type": "code",
      "execution_count": null,
      "metadata": {
        "id": "t5gb720OfhxG"
      },
      "outputs": [],
      "source": []
    },
    {
      "cell_type": "code",
      "execution_count": null,
      "metadata": {
        "id": "-ZI-Sd5qfh63"
      },
      "outputs": [],
      "source": []
    },
    {
      "cell_type": "code",
      "execution_count": null,
      "metadata": {
        "id": "UkvMujoJfiAY"
      },
      "outputs": [],
      "source": []
    },
    {
      "cell_type": "code",
      "execution_count": null,
      "metadata": {
        "id": "k682_-0FfiHt"
      },
      "outputs": [],
      "source": []
    },
    {
      "cell_type": "code",
      "execution_count": null,
      "metadata": {
        "id": "9T3ddz69fiQ1"
      },
      "outputs": [],
      "source": []
    },
    {
      "cell_type": "code",
      "execution_count": null,
      "metadata": {
        "id": "XKnCn7hmfiZv"
      },
      "outputs": [],
      "source": []
    },
    {
      "cell_type": "code",
      "execution_count": null,
      "metadata": {
        "id": "ukxcIZ9bfigR"
      },
      "outputs": [],
      "source": []
    },
    {
      "cell_type": "code",
      "execution_count": null,
      "metadata": {
        "id": "dYCbR_jZfikV"
      },
      "outputs": [],
      "source": []
    },
    {
      "cell_type": "code",
      "execution_count": null,
      "metadata": {
        "id": "SkxETE0Ifiog"
      },
      "outputs": [],
      "source": []
    },
    {
      "cell_type": "code",
      "execution_count": null,
      "metadata": {
        "id": "95VZiqk8fiss"
      },
      "outputs": [],
      "source": []
    },
    {
      "cell_type": "code",
      "execution_count": null,
      "metadata": {
        "id": "81RTMW7ufixL"
      },
      "outputs": [],
      "source": []
    },
    {
      "cell_type": "code",
      "execution_count": null,
      "metadata": {
        "id": "udPae1ncfi1Y"
      },
      "outputs": [],
      "source": []
    },
    {
      "cell_type": "code",
      "execution_count": null,
      "metadata": {
        "id": "mz-nOiNdfi5V"
      },
      "outputs": [],
      "source": []
    },
    {
      "cell_type": "code",
      "execution_count": null,
      "metadata": {
        "id": "aptbZHD_fi9N"
      },
      "outputs": [],
      "source": []
    },
    {
      "cell_type": "code",
      "execution_count": null,
      "metadata": {
        "id": "Cy26VrghfjBl"
      },
      "outputs": [],
      "source": []
    },
    {
      "cell_type": "code",
      "execution_count": null,
      "metadata": {
        "id": "qBpU-ZaVfjGy"
      },
      "outputs": [],
      "source": []
    },
    {
      "cell_type": "code",
      "execution_count": null,
      "metadata": {
        "id": "_unri4YyfjLh"
      },
      "outputs": [],
      "source": []
    },
    {
      "cell_type": "code",
      "execution_count": null,
      "metadata": {
        "id": "4WmUsaHqfjPk"
      },
      "outputs": [],
      "source": []
    },
    {
      "cell_type": "code",
      "execution_count": null,
      "metadata": {
        "id": "lY6BFzWOfjTx"
      },
      "outputs": [],
      "source": []
    },
    {
      "cell_type": "code",
      "execution_count": null,
      "metadata": {
        "id": "K-__T98nfjY-"
      },
      "outputs": [],
      "source": []
    },
    {
      "cell_type": "code",
      "execution_count": null,
      "metadata": {
        "id": "VInvA5oEfjhx"
      },
      "outputs": [],
      "source": []
    },
    {
      "cell_type": "code",
      "execution_count": null,
      "metadata": {
        "id": "GHYSPA9Ofjl3"
      },
      "outputs": [],
      "source": []
    },
    {
      "cell_type": "code",
      "execution_count": null,
      "metadata": {
        "id": "zlpNDId1fjrJ"
      },
      "outputs": [],
      "source": []
    },
    {
      "cell_type": "code",
      "execution_count": null,
      "metadata": {
        "id": "Imj0IaYZfjvU"
      },
      "outputs": [],
      "source": []
    },
    {
      "cell_type": "code",
      "execution_count": null,
      "metadata": {
        "id": "sRtnM4Glfjzk"
      },
      "outputs": [],
      "source": []
    },
    {
      "cell_type": "code",
      "execution_count": null,
      "metadata": {
        "id": "g8hl87Adfj4W"
      },
      "outputs": [],
      "source": []
    },
    {
      "cell_type": "code",
      "execution_count": null,
      "metadata": {
        "id": "VXL7d4eSfkA5"
      },
      "outputs": [],
      "source": []
    },
    {
      "cell_type": "code",
      "execution_count": null,
      "metadata": {
        "id": "T7o1hLgufkFN"
      },
      "outputs": [],
      "source": []
    },
    {
      "cell_type": "code",
      "execution_count": null,
      "metadata": {
        "id": "eGxOeOj3fkJp"
      },
      "outputs": [],
      "source": []
    },
    {
      "cell_type": "code",
      "execution_count": null,
      "metadata": {
        "id": "ZGYSLpHzXycG"
      },
      "outputs": [],
      "source": []
    },
    {
      "cell_type": "code",
      "execution_count": null,
      "metadata": {
        "id": "hiths57sXyin"
      },
      "outputs": [],
      "source": []
    },
    {
      "cell_type": "code",
      "execution_count": null,
      "metadata": {
        "id": "QK794II_Xymw"
      },
      "outputs": [],
      "source": []
    },
    {
      "cell_type": "code",
      "execution_count": null,
      "metadata": {
        "id": "kNQGnjQAx8TX"
      },
      "outputs": [],
      "source": []
    },
    {
      "cell_type": "code",
      "execution_count": null,
      "metadata": {
        "id": "keByIY55x8hE"
      },
      "outputs": [],
      "source": []
    },
    {
      "cell_type": "code",
      "execution_count": null,
      "metadata": {
        "id": "Pf1zyUTCDKgE"
      },
      "outputs": [],
      "source": []
    },
    {
      "cell_type": "code",
      "execution_count": null,
      "metadata": {
        "id": "MNjjuycFDKnz"
      },
      "outputs": [],
      "source": []
    },
    {
      "cell_type": "code",
      "execution_count": null,
      "metadata": {
        "id": "N-ksh8aUDKsN"
      },
      "outputs": [],
      "source": []
    },
    {
      "cell_type": "code",
      "execution_count": null,
      "metadata": {
        "id": "cwAv3p2HDKxU"
      },
      "outputs": [],
      "source": []
    }
  ],
  "metadata": {
    "colab": {
      "provenance": []
    },
    "kernelspec": {
      "display_name": "Python 3",
      "name": "python3"
    },
    "language_info": {
      "name": "python"
    }
  },
  "nbformat": 4,
  "nbformat_minor": 0
}